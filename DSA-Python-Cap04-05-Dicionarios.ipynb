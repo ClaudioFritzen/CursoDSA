{
 "cells": [
  {
   "cell_type": "markdown",
   "id": "9df04e0a",
   "metadata": {},
   "source": [
    "### Data Science Academy\n",
    "#### Fundamentos de Linguagem Python para Análise de Dados e Data Science\n",
    "\n",
    "#### Capitulo 4 - Estruturas de Dados ( Dicionários)"
   ]
  },
  {
   "cell_type": "code",
   "execution_count": 47,
   "id": "23fff072",
   "metadata": {},
   "outputs": [
    {
     "name": "stdout",
     "output_type": "stream",
     "text": [
      "A versão do Python é  3.9.13\n"
     ]
    }
   ],
   "source": [
    "## versão do python\n",
    "\n",
    "from platform import python_version\n",
    "print('A versão do Python é ', python_version())"
   ]
  },
  {
   "cell_type": "markdown",
   "id": "70f929f1",
   "metadata": {},
   "source": [
    "## Trabalhando com dicionarios\n"
   ]
  },
  {
   "cell_type": "code",
   "execution_count": 48,
   "id": "d1b49d67",
   "metadata": {},
   "outputs": [],
   "source": [
    "# Isso é uma lista \n",
    "estudantes_lista = ['Pedro', 24, 'Ana', 22, 'Ronaldo', 26, 'Janaína', 25]"
   ]
  },
  {
   "cell_type": "code",
   "execution_count": 49,
   "id": "dd8b75a5",
   "metadata": {},
   "outputs": [
    {
     "data": {
      "text/plain": [
       "['Pedro', 24, 'Ana', 22, 'Ronaldo', 26, 'Janaína', 25]"
      ]
     },
     "execution_count": 49,
     "metadata": {},
     "output_type": "execute_result"
    }
   ],
   "source": [
    "estudantes_lista"
   ]
  },
  {
   "cell_type": "code",
   "execution_count": 50,
   "id": "b9481271",
   "metadata": {},
   "outputs": [],
   "source": [
    "## isso é um dicionario\n",
    "estudante_dicionario = {'Pedro':24, 'Ana':20, 'Ronaldo':27, 'Janaína':22}"
   ]
  },
  {
   "cell_type": "code",
   "execution_count": 51,
   "id": "b0d8875c",
   "metadata": {},
   "outputs": [
    {
     "data": {
      "text/plain": [
       "{'Pedro': 24, 'Ana': 20, 'Ronaldo': 27, 'Janaína': 22}"
      ]
     },
     "execution_count": 51,
     "metadata": {},
     "output_type": "execute_result"
    }
   ],
   "source": [
    "estudante_dicionario"
   ]
  },
  {
   "cell_type": "code",
   "execution_count": 52,
   "id": "4fe4131e",
   "metadata": {},
   "outputs": [
    {
     "data": {
      "text/plain": [
       "24"
      ]
     },
     "execution_count": 52,
     "metadata": {},
     "output_type": "execute_result"
    }
   ],
   "source": [
    "estudante_dicionario['Pedro']"
   ]
  },
  {
   "cell_type": "code",
   "execution_count": 53,
   "id": "45f41ff0",
   "metadata": {},
   "outputs": [],
   "source": [
    "## Adicionamos um item ao dicionario\n",
    "estudante_dicionario['Marcelo'] = 23"
   ]
  },
  {
   "cell_type": "code",
   "execution_count": 54,
   "id": "68cb16f1",
   "metadata": {},
   "outputs": [
    {
     "data": {
      "text/plain": [
       "{'Pedro': 24, 'Ana': 20, 'Ronaldo': 27, 'Janaína': 22, 'Marcelo': 23}"
      ]
     },
     "execution_count": 54,
     "metadata": {},
     "output_type": "execute_result"
    }
   ],
   "source": [
    "estudante_dicionario"
   ]
  },
  {
   "cell_type": "code",
   "execution_count": 55,
   "id": "d5be994c",
   "metadata": {},
   "outputs": [],
   "source": [
    "## limpando um dicionario\n",
    "estudante_dicionario.clear()"
   ]
  },
  {
   "cell_type": "code",
   "execution_count": 56,
   "id": "ac622280",
   "metadata": {},
   "outputs": [
    {
     "data": {
      "text/plain": [
       "{}"
      ]
     },
     "execution_count": 56,
     "metadata": {},
     "output_type": "execute_result"
    }
   ],
   "source": [
    "estudante_dicionario"
   ]
  },
  {
   "cell_type": "code",
   "execution_count": 57,
   "id": "b2be38fb",
   "metadata": {},
   "outputs": [],
   "source": [
    "# Escluindo uma lista\n",
    "del estudante_dicionario"
   ]
  },
  {
   "cell_type": "code",
   "execution_count": 58,
   "id": "d6550a19",
   "metadata": {},
   "outputs": [
    {
     "ename": "NameError",
     "evalue": "name 'estudante_dicionario' is not defined",
     "output_type": "error",
     "traceback": [
      "\u001b[1;31m---------------------------------------------------------------------------\u001b[0m",
      "\u001b[1;31mNameError\u001b[0m                                 Traceback (most recent call last)",
      "\u001b[1;32m~\\AppData\\Local\\Temp\\ipykernel_11052\\2258133274.py\u001b[0m in \u001b[0;36m<module>\u001b[1;34m\u001b[0m\n\u001b[1;32m----> 1\u001b[1;33m \u001b[0mestudante_dicionario\u001b[0m\u001b[1;33m\u001b[0m\u001b[1;33m\u001b[0m\u001b[0m\n\u001b[0m",
      "\u001b[1;31mNameError\u001b[0m: name 'estudante_dicionario' is not defined"
     ]
    }
   ],
   "source": [
    "estudante_dicionario"
   ]
  },
  {
   "cell_type": "code",
   "execution_count": 59,
   "id": "48ef5f97",
   "metadata": {},
   "outputs": [],
   "source": [
    "estudantes = { 'Claudio':27, 'Bruna':26, 'Cleci':45, 'Carla': 53 }"
   ]
  },
  {
   "cell_type": "code",
   "execution_count": 60,
   "id": "6b82324b",
   "metadata": {},
   "outputs": [
    {
     "data": {
      "text/plain": [
       "4"
      ]
     },
     "execution_count": 60,
     "metadata": {},
     "output_type": "execute_result"
    }
   ],
   "source": [
    "len(estudantes)"
   ]
  },
  {
   "cell_type": "code",
   "execution_count": 61,
   "id": "ab669520",
   "metadata": {},
   "outputs": [
    {
     "data": {
      "text/plain": [
       "dict_keys(['Claudio', 'Bruna', 'Cleci', 'Carla'])"
      ]
     },
     "execution_count": 61,
     "metadata": {},
     "output_type": "execute_result"
    }
   ],
   "source": [
    "estudantes.keys()"
   ]
  },
  {
   "cell_type": "code",
   "execution_count": 62,
   "id": "cd8a2950",
   "metadata": {},
   "outputs": [
    {
     "data": {
      "text/plain": [
       "dict_items([('Claudio', 27), ('Bruna', 26), ('Cleci', 45), ('Carla', 53)])"
      ]
     },
     "execution_count": 62,
     "metadata": {},
     "output_type": "execute_result"
    }
   ],
   "source": [
    "estudantes.items()"
   ]
  },
  {
   "cell_type": "code",
   "execution_count": 63,
   "id": "81bc2dcc",
   "metadata": {},
   "outputs": [],
   "source": [
    "estudantes2 = {'Antonio Jorge':77, 'Gabriela':66, 'Adriana': 44, 'Roberta': 54 }"
   ]
  },
  {
   "cell_type": "code",
   "execution_count": 64,
   "id": "7a31c47e",
   "metadata": {},
   "outputs": [
    {
     "data": {
      "text/plain": [
       "{'Antonio Jorge': 77, 'Gabriela': 66, 'Adriana': 44, 'Roberta': 54}"
      ]
     },
     "execution_count": 64,
     "metadata": {},
     "output_type": "execute_result"
    }
   ],
   "source": [
    "estudantes2"
   ]
  },
  {
   "cell_type": "code",
   "execution_count": 65,
   "id": "943d17b6",
   "metadata": {},
   "outputs": [],
   "source": [
    "## juntando duas listas numa só\n",
    "estudantes.update(estudantes2)"
   ]
  },
  {
   "cell_type": "code",
   "execution_count": 66,
   "id": "42e92d42",
   "metadata": {},
   "outputs": [
    {
     "data": {
      "text/plain": [
       "{'Claudio': 27,\n",
       " 'Bruna': 26,\n",
       " 'Cleci': 45,\n",
       " 'Carla': 53,\n",
       " 'Antonio Jorge': 77,\n",
       " 'Gabriela': 66,\n",
       " 'Adriana': 44,\n",
       " 'Roberta': 54}"
      ]
     },
     "execution_count": 66,
     "metadata": {},
     "output_type": "execute_result"
    }
   ],
   "source": [
    "estudantes"
   ]
  },
  {
   "cell_type": "code",
   "execution_count": 67,
   "id": "7c12c22b",
   "metadata": {},
   "outputs": [],
   "source": [
    "dicio1 = {}"
   ]
  },
  {
   "cell_type": "code",
   "execution_count": 68,
   "id": "51251ed0",
   "metadata": {},
   "outputs": [
    {
     "data": {
      "text/plain": [
       "{}"
      ]
     },
     "execution_count": 68,
     "metadata": {},
     "output_type": "execute_result"
    }
   ],
   "source": [
    "dicio1"
   ]
  },
  {
   "cell_type": "code",
   "execution_count": 69,
   "id": "8ef27782",
   "metadata": {},
   "outputs": [],
   "source": [
    "dicio1['Chave_um'] = 2"
   ]
  },
  {
   "cell_type": "code",
   "execution_count": 70,
   "id": "12529488",
   "metadata": {},
   "outputs": [
    {
     "name": "stdout",
     "output_type": "stream",
     "text": [
      "{'Chave_um': 2}\n"
     ]
    }
   ],
   "source": [
    "print(dicio1)"
   ]
  },
  {
   "cell_type": "code",
   "execution_count": 71,
   "id": "addfc4d4",
   "metadata": {},
   "outputs": [],
   "source": [
    "dicio1[10] = 3"
   ]
  },
  {
   "cell_type": "code",
   "execution_count": 72,
   "id": "f33ca731",
   "metadata": {},
   "outputs": [
    {
     "data": {
      "text/plain": [
       "{'Chave_um': 2, 10: 3}"
      ]
     },
     "execution_count": 72,
     "metadata": {},
     "output_type": "execute_result"
    }
   ],
   "source": [
    "dicio1"
   ]
  },
  {
   "cell_type": "code",
   "execution_count": 73,
   "id": "130b23d5",
   "metadata": {},
   "outputs": [],
   "source": [
    "dicio1[9.13] = 'Python'"
   ]
  },
  {
   "cell_type": "code",
   "execution_count": 74,
   "id": "47108356",
   "metadata": {},
   "outputs": [
    {
     "data": {
      "text/plain": [
       "{'Chave_um': 2, 10: 3, 9.13: 'Python'}"
      ]
     },
     "execution_count": 74,
     "metadata": {},
     "output_type": "execute_result"
    }
   ],
   "source": [
    "dicio1"
   ]
  },
  {
   "cell_type": "code",
   "execution_count": 75,
   "id": "420c1681",
   "metadata": {},
   "outputs": [],
   "source": [
    "dicio1['Teste'] = 22"
   ]
  },
  {
   "cell_type": "code",
   "execution_count": 76,
   "id": "54c30b8e",
   "metadata": {},
   "outputs": [],
   "source": [
    "dicio2= {}"
   ]
  },
  {
   "cell_type": "code",
   "execution_count": 77,
   "id": "a2631c7a",
   "metadata": {},
   "outputs": [
    {
     "data": {
      "text/plain": [
       "{}"
      ]
     },
     "execution_count": 77,
     "metadata": {},
     "output_type": "execute_result"
    }
   ],
   "source": [
    "dicio2"
   ]
  },
  {
   "cell_type": "code",
   "execution_count": 78,
   "id": "ea6a65eb",
   "metadata": {},
   "outputs": [],
   "source": [
    "dicio2['Tete'] = 32"
   ]
  },
  {
   "cell_type": "code",
   "execution_count": 79,
   "id": "279f13b0",
   "metadata": {},
   "outputs": [],
   "source": [
    "dicio2['Ana'] = 'Clara'"
   ]
  },
  {
   "cell_type": "code",
   "execution_count": 80,
   "id": "dbfef20c",
   "metadata": {},
   "outputs": [
    {
     "data": {
      "text/plain": [
       "{'Tete': 32, 'Ana': 'Clara'}"
      ]
     },
     "execution_count": 80,
     "metadata": {},
     "output_type": "execute_result"
    }
   ],
   "source": [
    "dicio2"
   ]
  },
  {
   "cell_type": "code",
   "execution_count": 83,
   "id": "6789f09f",
   "metadata": {},
   "outputs": [
    {
     "data": {
      "text/plain": [
       "{'Tete': 32, 'Ana': 'Clara'}"
      ]
     },
     "execution_count": 83,
     "metadata": {},
     "output_type": "execute_result"
    }
   ],
   "source": [
    "# Atenção pois chave e valor podem ser iguais, mas reçresentam coisas diferentes\n",
    "dicio2"
   ]
  },
  {
   "cell_type": "code",
   "execution_count": 84,
   "id": "e8daa305",
   "metadata": {},
   "outputs": [],
   "source": [
    "dicio3 = {}"
   ]
  },
  {
   "cell_type": "code",
   "execution_count": 85,
   "id": "043fae5c",
   "metadata": {},
   "outputs": [],
   "source": [
    "dicio3['Key1'] = 'Data Science'"
   ]
  },
  {
   "cell_type": "code",
   "execution_count": 86,
   "id": "72a3d05e",
   "metadata": {},
   "outputs": [],
   "source": [
    "dicio3['Key2'] = 10"
   ]
  },
  {
   "cell_type": "code",
   "execution_count": 88,
   "id": "ab7fc464",
   "metadata": {},
   "outputs": [],
   "source": [
    "dicio3['Key3'] = 40"
   ]
  },
  {
   "cell_type": "code",
   "execution_count": 89,
   "id": "2e5b746a",
   "metadata": {},
   "outputs": [
    {
     "data": {
      "text/plain": [
       "{'Key1': 'Data Science', 'Key2': 10, 'Key3': 40}"
      ]
     },
     "execution_count": 89,
     "metadata": {},
     "output_type": "execute_result"
    }
   ],
   "source": [
    "dicio3"
   ]
  },
  {
   "cell_type": "code",
   "execution_count": 96,
   "id": "1838c533",
   "metadata": {},
   "outputs": [],
   "source": [
    "a = dicio3['Key1']"
   ]
  },
  {
   "cell_type": "code",
   "execution_count": 97,
   "id": "30d58e1e",
   "metadata": {},
   "outputs": [
    {
     "data": {
      "text/plain": [
       "'Data Science'"
      ]
     },
     "execution_count": 97,
     "metadata": {},
     "output_type": "execute_result"
    }
   ],
   "source": [
    "a"
   ]
  },
  {
   "cell_type": "code",
   "execution_count": 100,
   "id": "8b68d922",
   "metadata": {},
   "outputs": [],
   "source": [
    "b = dicio3['Key2']"
   ]
  },
  {
   "cell_type": "code",
   "execution_count": 101,
   "id": "04063bfa",
   "metadata": {},
   "outputs": [
    {
     "data": {
      "text/plain": [
       "10"
      ]
     },
     "execution_count": 101,
     "metadata": {},
     "output_type": "execute_result"
    }
   ],
   "source": [
    "b"
   ]
  },
  {
   "cell_type": "code",
   "execution_count": 102,
   "id": "b81f965d",
   "metadata": {},
   "outputs": [],
   "source": [
    "c = dicio3['Key3']"
   ]
  },
  {
   "cell_type": "code",
   "execution_count": 103,
   "id": "cebcff2d",
   "metadata": {},
   "outputs": [
    {
     "data": {
      "text/plain": [
       "('Data Science', 10, 40)"
      ]
     },
     "execution_count": 103,
     "metadata": {},
     "output_type": "execute_result"
    }
   ],
   "source": [
    "a,b,c"
   ]
  },
  {
   "cell_type": "code",
   "execution_count": 112,
   "id": "b11857d2",
   "metadata": {},
   "outputs": [],
   "source": [
    "# Dicionario de listas\n",
    "dicio4 = { 'chave1': 1234, 'chave2': [20, 45, 73.4], 'chave3': ['picanha', 'fraudinha', 'alcatra']}\n"
   ]
  },
  {
   "cell_type": "code",
   "execution_count": 113,
   "id": "74393ef4",
   "metadata": {},
   "outputs": [
    {
     "data": {
      "text/plain": [
       "{'chave1': 1234,\n",
       " 'chave2': [20, 45, 73.4],\n",
       " 'chave3': ['picanha', 'fraudinha', 'alcatra']}"
      ]
     },
     "execution_count": 113,
     "metadata": {},
     "output_type": "execute_result"
    }
   ],
   "source": [
    "dicio4"
   ]
  },
  {
   "cell_type": "code",
   "execution_count": 114,
   "id": "72bca6fb",
   "metadata": {},
   "outputs": [
    {
     "data": {
      "text/plain": [
       "[20, 45, 73.4]"
      ]
     },
     "execution_count": 114,
     "metadata": {},
     "output_type": "execute_result"
    }
   ],
   "source": [
    "dicio4['chave2']"
   ]
  },
  {
   "cell_type": "code",
   "execution_count": 109,
   "id": "dee3404a",
   "metadata": {},
   "outputs": [
    {
     "data": {
      "text/plain": [
       "['chave2']"
      ]
     },
     "execution_count": 109,
     "metadata": {},
     "output_type": "execute_result"
    }
   ],
   "source": [
    "dicio4"
   ]
  },
  {
   "cell_type": "code",
   "execution_count": 115,
   "id": "c8c456bb",
   "metadata": {},
   "outputs": [
    {
     "data": {
      "text/plain": [
       "'PICANHA'"
      ]
     },
     "execution_count": 115,
     "metadata": {},
     "output_type": "execute_result"
    }
   ],
   "source": [
    "# Acessando um item da lista, dentro do dicionario\n",
    "dicio4['chave3'][0].upper()"
   ]
  },
  {
   "cell_type": "code",
   "execution_count": 118,
   "id": "f04eb8a1",
   "metadata": {},
   "outputs": [],
   "source": [
    "# operação com itens da lista, dentro do dicionario\n",
    "var1 = dicio4['chave2'][0] - 2"
   ]
  },
  {
   "cell_type": "code",
   "execution_count": 119,
   "id": "b9f6910d",
   "metadata": {},
   "outputs": [
    {
     "data": {
      "text/plain": [
       "18"
      ]
     },
     "execution_count": 119,
     "metadata": {},
     "output_type": "execute_result"
    }
   ],
   "source": [
    "var1"
   ]
  },
  {
   "cell_type": "code",
   "execution_count": 121,
   "id": "c628607d",
   "metadata": {},
   "outputs": [],
   "source": [
    "## Duas operações mo mesmo comando, para atualizar um item dentro da lista\n",
    "dicio4['chave2'][0] -= 2"
   ]
  },
  {
   "cell_type": "code",
   "execution_count": 122,
   "id": "d42df7cb",
   "metadata": {},
   "outputs": [
    {
     "data": {
      "text/plain": [
       "{'chave1': 1234,\n",
       " 'chave2': [18, 45, 73.4],\n",
       " 'chave3': ['picanha', 'fraudinha', 'alcatra']}"
      ]
     },
     "execution_count": 122,
     "metadata": {},
     "output_type": "execute_result"
    }
   ],
   "source": [
    "dicio4"
   ]
  },
  {
   "cell_type": "markdown",
   "id": "937e3ee0",
   "metadata": {},
   "source": [
    "## Criando dicionarios aninhados"
   ]
  },
  {
   "cell_type": "code",
   "execution_count": 123,
   "id": "963f7a70",
   "metadata": {},
   "outputs": [],
   "source": [
    "dict_aninhado = { 'key1': {'key2_aninhada': {'key3_aninhada': 'Dict aninhado em Python'}}}\n"
   ]
  },
  {
   "cell_type": "code",
   "execution_count": 124,
   "id": "fddeb5bf",
   "metadata": {},
   "outputs": [
    {
     "data": {
      "text/plain": [
       "{'key1': {'key2_aninhada': {'key3_aninhada': 'Dict aninhado em Python'}}}"
      ]
     },
     "execution_count": 124,
     "metadata": {},
     "output_type": "execute_result"
    }
   ],
   "source": [
    "dict_aninhado"
   ]
  },
  {
   "cell_type": "code",
   "execution_count": null,
   "id": "7c3ed749",
   "metadata": {},
   "outputs": [],
   "source": [
    "dict_aninhado['key1']['key2_aninhada'][key3_aninhada]"
   ]
  }
 ],
 "metadata": {
  "kernelspec": {
   "display_name": "Python 3 (ipykernel)",
   "language": "python",
   "name": "python3"
  },
  "language_info": {
   "codemirror_mode": {
    "name": "ipython",
    "version": 3
   },
   "file_extension": ".py",
   "mimetype": "text/x-python",
   "name": "python",
   "nbconvert_exporter": "python",
   "pygments_lexer": "ipython3",
   "version": "3.9.13"
  }
 },
 "nbformat": 4,
 "nbformat_minor": 5
}
