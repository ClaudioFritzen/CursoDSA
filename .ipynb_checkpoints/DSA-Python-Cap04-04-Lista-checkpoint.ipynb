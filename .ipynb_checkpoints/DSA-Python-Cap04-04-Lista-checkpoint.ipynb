{
 "cells": [
  {
   "cell_type": "markdown",
   "id": "af1ecfcb",
   "metadata": {},
   "source": [
    "## Data Science Academy\n",
    "\n",
    "### Fundamentos de linguagem Python Para Análise de Dados e Data Science\n",
    "\n",
    "### Capitulo 4 - Estruturas de Dados (Listas)"
   ]
  },
  {
   "cell_type": "code",
   "execution_count": null,
   "id": "7e82a15b",
   "metadata": {},
   "outputs": [],
   "source": []
  },
  {
   "cell_type": "code",
   "execution_count": null,
   "id": "1c11985e",
   "metadata": {},
   "outputs": [],
   "source": []
  },
  {
   "cell_type": "code",
   "execution_count": 9,
   "id": "6195f464",
   "metadata": {},
   "outputs": [
    {
     "name": "stdout",
     "output_type": "stream",
     "text": [
      "Versão do python é 3.9.13\n"
     ]
    }
   ],
   "source": [
    "# Ver a versão do python\n",
    "\n",
    "from platform import python_version\n",
    "print('Versão do python é',python_version())"
   ]
  },
  {
   "cell_type": "markdown",
   "id": "9eb4fd8a",
   "metadata": {},
   "source": [
    "#### ** Trabalando com listas **"
   ]
  },
  {
   "cell_type": "code",
   "execution_count": 10,
   "id": "10399393",
   "metadata": {},
   "outputs": [
    {
     "data": {
      "text/plain": [
       "'Açucar'"
      ]
     },
     "execution_count": 10,
     "metadata": {},
     "output_type": "execute_result"
    }
   ],
   "source": [
    "# Criando uma lista \n",
    "lista_1 =[ 'Arroz', 'Feijão', 'Açucar']\n",
    "lista_1[2]"
   ]
  },
  {
   "cell_type": "code",
   "execution_count": 11,
   "id": "434d04ac",
   "metadata": {},
   "outputs": [
    {
     "data": {
      "text/plain": [
       "list"
      ]
     },
     "execution_count": 11,
     "metadata": {},
     "output_type": "execute_result"
    }
   ],
   "source": [
    "type(lista_1)"
   ]
  },
  {
   "cell_type": "code",
   "execution_count": 12,
   "id": "b163c94f",
   "metadata": {},
   "outputs": [
    {
     "name": "stdout",
     "output_type": "stream",
     "text": [
      "['Arroz', 'Feijão', 'Açucar']\n"
     ]
    }
   ],
   "source": [
    "# imprimindo a lista\n",
    "print(lista_1)"
   ]
  },
  {
   "cell_type": "code",
   "execution_count": 13,
   "id": "a45b269c",
   "metadata": {},
   "outputs": [],
   "source": [
    "# Criando outra lista \n",
    "lista_2 = ['arroz', 'frango', 'tomate', 'leite']\n"
   ]
  },
  {
   "cell_type": "code",
   "execution_count": 14,
   "id": "df42d807",
   "metadata": {},
   "outputs": [
    {
     "data": {
      "text/plain": [
       "list"
      ]
     },
     "execution_count": 14,
     "metadata": {},
     "output_type": "execute_result"
    }
   ],
   "source": [
    "type(lista_2)"
   ]
  },
  {
   "cell_type": "markdown",
   "id": "25a9ce10",
   "metadata": {},
   "source": [
    "## Lista de Listas (Listas Aninhadas)\n",
    "#### Listas de listas são matrizes em Python"
   ]
  },
  {
   "cell_type": "code",
   "execution_count": 15,
   "id": "d141031a",
   "metadata": {},
   "outputs": [],
   "source": [
    "# Criando uma lista de listas\n",
    "listas = [ [1,2,3], [10,4,8], [12,11,14,9] ]"
   ]
  },
  {
   "cell_type": "code",
   "execution_count": 16,
   "id": "1ca8c964",
   "metadata": {},
   "outputs": [
    {
     "name": "stdout",
     "output_type": "stream",
     "text": [
      "[[1, 2, 3], [10, 4, 8], [12, 11, 14, 9]]\n"
     ]
    }
   ],
   "source": [
    "# imprimindo a lista\n",
    "print(listas)"
   ]
  },
  {
   "cell_type": "code",
   "execution_count": 17,
   "id": "54eab479",
   "metadata": {},
   "outputs": [],
   "source": [
    "# Atribuindo um item da lista a uma variavel\n",
    "a = listas[0]"
   ]
  },
  {
   "cell_type": "code",
   "execution_count": 18,
   "id": "0cfc0381",
   "metadata": {},
   "outputs": [
    {
     "data": {
      "text/plain": [
       "[1, 2, 3]"
      ]
     },
     "execution_count": 18,
     "metadata": {},
     "output_type": "execute_result"
    }
   ],
   "source": [
    "a"
   ]
  },
  {
   "cell_type": "code",
   "execution_count": 19,
   "id": "20bb9a91",
   "metadata": {},
   "outputs": [],
   "source": [
    "b = a[0]"
   ]
  },
  {
   "cell_type": "code",
   "execution_count": 20,
   "id": "7509a132",
   "metadata": {},
   "outputs": [
    {
     "data": {
      "text/plain": [
       "1"
      ]
     },
     "execution_count": 20,
     "metadata": {},
     "output_type": "execute_result"
    }
   ],
   "source": [
    "b"
   ]
  },
  {
   "cell_type": "code",
   "execution_count": 25,
   "id": "33315a04",
   "metadata": {},
   "outputs": [],
   "source": [
    "## \n",
    "list1= listas[0]"
   ]
  },
  {
   "cell_type": "code",
   "execution_count": 26,
   "id": "3fa1980a",
   "metadata": {},
   "outputs": [
    {
     "data": {
      "text/plain": [
       "[1, 2, 3]"
      ]
     },
     "execution_count": 26,
     "metadata": {},
     "output_type": "execute_result"
    }
   ],
   "source": [
    "list1\n"
   ]
  },
  {
   "cell_type": "code",
   "execution_count": 27,
   "id": "f776e732",
   "metadata": {},
   "outputs": [],
   "source": [
    "valor_1_0 = list1[0]"
   ]
  },
  {
   "cell_type": "code",
   "execution_count": 28,
   "id": "d9dab467",
   "metadata": {},
   "outputs": [
    {
     "data": {
      "text/plain": [
       "1"
      ]
     },
     "execution_count": 28,
     "metadata": {},
     "output_type": "execute_result"
    }
   ],
   "source": [
    "valor_1_0"
   ]
  },
  {
   "cell_type": "code",
   "execution_count": 29,
   "id": "a82aa9f3",
   "metadata": {},
   "outputs": [],
   "source": [
    "valor_1_1 = list[1]"
   ]
  },
  {
   "cell_type": "code",
   "execution_count": 30,
   "id": "b0aa532b",
   "metadata": {},
   "outputs": [
    {
     "data": {
      "text/plain": [
       "2"
      ]
     },
     "execution_count": 30,
     "metadata": {},
     "output_type": "execute_result"
    }
   ],
   "source": [
    "valor_1_1"
   ]
  },
  {
   "cell_type": "code",
   "execution_count": 31,
   "id": "8e23cd1e",
   "metadata": {},
   "outputs": [],
   "source": [
    "valor_1_3 = list[2]"
   ]
  },
  {
   "cell_type": "code",
   "execution_count": 32,
   "id": "815ddc44",
   "metadata": {},
   "outputs": [
    {
     "data": {
      "text/plain": [
       "3"
      ]
     },
     "execution_count": 32,
     "metadata": {},
     "output_type": "execute_result"
    }
   ],
   "source": [
    "valor_1_3"
   ]
  },
  {
   "cell_type": "markdown",
   "id": "5456baa0",
   "metadata": {},
   "source": [
    "## Operações com Listas"
   ]
  },
  {
   "cell_type": "code",
   "execution_count": 33,
   "id": "8f4923b1",
   "metadata": {},
   "outputs": [],
   "source": [
    "# Criando ima lista aninhada (lista de listas )\n",
    "lista = [ [1,2,3], [10,15,14], [10.1, 0.7, 2.23] ]"
   ]
  },
  {
   "cell_type": "code",
   "execution_count": 34,
   "id": "121c0826",
   "metadata": {},
   "outputs": [
    {
     "data": {
      "text/plain": [
       "[[1, 2, 3], [10, 15, 14], [10.1, 0.7, 2.23]]"
      ]
     },
     "execution_count": 34,
     "metadata": {},
     "output_type": "execute_result"
    }
   ],
   "source": [
    "lista"
   ]
  },
  {
   "cell_type": "code",
   "execution_count": 35,
   "id": "c1fbb8ad",
   "metadata": {},
   "outputs": [],
   "source": [
    "a = lista [0] [0]"
   ]
  },
  {
   "cell_type": "code",
   "execution_count": 36,
   "id": "0d3dfbc1",
   "metadata": {},
   "outputs": [
    {
     "data": {
      "text/plain": [
       "1"
      ]
     },
     "execution_count": 36,
     "metadata": {},
     "output_type": "execute_result"
    }
   ],
   "source": [
    "a"
   ]
  },
  {
   "cell_type": "code",
   "execution_count": 40,
   "id": "4358fafd",
   "metadata": {},
   "outputs": [],
   "source": [
    "b = lista [1][2]"
   ]
  },
  {
   "cell_type": "code",
   "execution_count": 41,
   "id": "fec534fb",
   "metadata": {},
   "outputs": [
    {
     "data": {
      "text/plain": [
       "14"
      ]
     },
     "execution_count": 41,
     "metadata": {},
     "output_type": "execute_result"
    }
   ],
   "source": [
    "b"
   ]
  },
  {
   "cell_type": "code",
   "execution_count": 46,
   "id": "8f3d37e2",
   "metadata": {},
   "outputs": [],
   "source": [
    "c = lista [0][2] + 10"
   ]
  },
  {
   "cell_type": "code",
   "execution_count": 47,
   "id": "febcc601",
   "metadata": {},
   "outputs": [
    {
     "data": {
      "text/plain": [
       "13"
      ]
     },
     "execution_count": 47,
     "metadata": {},
     "output_type": "execute_result"
    }
   ],
   "source": [
    "c"
   ]
  },
  {
   "cell_type": "code",
   "execution_count": 48,
   "id": "c73e51ed",
   "metadata": {},
   "outputs": [],
   "source": [
    "d = 10"
   ]
  },
  {
   "cell_type": "code",
   "execution_count": 49,
   "id": "1450ac04",
   "metadata": {},
   "outputs": [
    {
     "data": {
      "text/plain": [
       "10"
      ]
     },
     "execution_count": 49,
     "metadata": {},
     "output_type": "execute_result"
    }
   ],
   "source": [
    "d"
   ]
  },
  {
   "cell_type": "code",
   "execution_count": 51,
   "id": "2da0e65c",
   "metadata": {},
   "outputs": [],
   "source": [
    "e = d * lista[2][0]"
   ]
  },
  {
   "cell_type": "code",
   "execution_count": 52,
   "id": "3b82e277",
   "metadata": {},
   "outputs": [
    {
     "data": {
      "text/plain": [
       "101.0"
      ]
     },
     "execution_count": 52,
     "metadata": {},
     "output_type": "execute_result"
    }
   ],
   "source": [
    "e"
   ]
  },
  {
   "cell_type": "markdown",
   "id": "b028e166",
   "metadata": {},
   "source": [
    "### Concatenando Listas"
   ]
  },
  {
   "cell_type": "code",
   "execution_count": 53,
   "id": "7f685283",
   "metadata": {},
   "outputs": [],
   "source": [
    "lista_s1 = [34, 32, 56]"
   ]
  },
  {
   "cell_type": "code",
   "execution_count": 54,
   "id": "fea65127",
   "metadata": {},
   "outputs": [
    {
     "data": {
      "text/plain": [
       "[34, 32, 56]"
      ]
     },
     "execution_count": 54,
     "metadata": {},
     "output_type": "execute_result"
    }
   ],
   "source": [
    "lista_s1"
   ]
  },
  {
   "cell_type": "code",
   "execution_count": 55,
   "id": "6ff724a4",
   "metadata": {},
   "outputs": [],
   "source": [
    "lista_s2 = [21, 90, 51]"
   ]
  },
  {
   "cell_type": "code",
   "execution_count": 56,
   "id": "5dca2e2d",
   "metadata": {},
   "outputs": [
    {
     "data": {
      "text/plain": [
       "[21, 90, 51]"
      ]
     },
     "execution_count": 56,
     "metadata": {},
     "output_type": "execute_result"
    }
   ],
   "source": [
    "lista_s2\n"
   ]
  },
  {
   "cell_type": "code",
   "execution_count": 57,
   "id": "e3ca9442",
   "metadata": {},
   "outputs": [],
   "source": [
    "## concatenando listas\n",
    "lista_total = lista_s1 + lista_s2"
   ]
  },
  {
   "cell_type": "code",
   "execution_count": 58,
   "id": "c5b3f5d7",
   "metadata": {},
   "outputs": [
    {
     "data": {
      "text/plain": [
       "[34, 32, 56, 21, 90, 51]"
      ]
     },
     "execution_count": 58,
     "metadata": {},
     "output_type": "execute_result"
    }
   ],
   "source": [
    "lista_total"
   ]
  },
  {
   "cell_type": "markdown",
   "id": "68d33aea",
   "metadata": {},
   "source": [
    "### Operador in"
   ]
  },
  {
   "cell_type": "code",
   "execution_count": 59,
   "id": "062dc793",
   "metadata": {},
   "outputs": [],
   "source": [
    "# Criando uma lista\n",
    "lista_teste_op = [ 100, 2, -5, 3.4]"
   ]
  },
  {
   "cell_type": "code",
   "execution_count": 62,
   "id": "60fc7156",
   "metadata": {},
   "outputs": [
    {
     "name": "stdout",
     "output_type": "stream",
     "text": [
      "True\n"
     ]
    }
   ],
   "source": [
    "## verificando se o valor 10 pertence a lista\n",
    "print(-5 in lista_teste_op)"
   ]
  },
  {
   "cell_type": "markdown",
   "id": "6bdcc68e",
   "metadata": {},
   "source": [
    "### Função Buit-in"
   ]
  },
  {
   "cell_type": "code",
   "execution_count": 64,
   "id": "e1843a83",
   "metadata": {},
   "outputs": [],
   "source": [
    "# Criando uma lista \n",
    "lista_numeros = [ 10, 30, 50, -3.]"
   ]
  },
  {
   "cell_type": "code",
   "execution_count": 66,
   "id": "c9d2e24b",
   "metadata": {},
   "outputs": [
    {
     "data": {
      "text/plain": [
       "4"
      ]
     },
     "execution_count": 66,
     "metadata": {},
     "output_type": "execute_result"
    }
   ],
   "source": [
    "# Função len() retorna o comprimento da lista\n",
    "len(lista_numeros)"
   ]
  },
  {
   "cell_type": "code",
   "execution_count": 67,
   "id": "068e174f",
   "metadata": {},
   "outputs": [
    {
     "data": {
      "text/plain": [
       "50"
      ]
     },
     "execution_count": 67,
     "metadata": {},
     "output_type": "execute_result"
    }
   ],
   "source": [
    "# Função max() retorna o comprimento da lista\n",
    "max(lista_numeros)"
   ]
  },
  {
   "cell_type": "code",
   "execution_count": 68,
   "id": "1af1d49e",
   "metadata": {},
   "outputs": [
    {
     "data": {
      "text/plain": [
       "-3.0"
      ]
     },
     "execution_count": 68,
     "metadata": {},
     "output_type": "execute_result"
    }
   ],
   "source": [
    "# função min()\n",
    "min(lista_numeros)"
   ]
  },
  {
   "cell_type": "code",
   "execution_count": 69,
   "id": "7a77caec",
   "metadata": {},
   "outputs": [],
   "source": [
    "# Criando uma lista \n",
    "lista_formacoes_dsa = ['Analista de Dados', 'Ciêntista de dados', 'Engenheiro de dados']\n"
   ]
  },
  {
   "cell_type": "code",
   "execution_count": 70,
   "id": "ef048789",
   "metadata": {},
   "outputs": [],
   "source": [
    "# Adicionando um item á lista\n",
    "lista_formacoes_dsa.append('Engenheiro IA')"
   ]
  },
  {
   "cell_type": "code",
   "execution_count": 71,
   "id": "3ca27f20",
   "metadata": {},
   "outputs": [
    {
     "data": {
      "text/plain": [
       "['Analista de Dados',\n",
       " 'Ciêntista de dados',\n",
       " 'Engenheiro de dados',\n",
       " 'Engenheiro IA']"
      ]
     },
     "execution_count": 71,
     "metadata": {},
     "output_type": "execute_result"
    }
   ],
   "source": [
    "lista_formacoes_dsa"
   ]
  },
  {
   "cell_type": "code",
   "execution_count": 72,
   "id": "fa227c98",
   "metadata": {},
   "outputs": [
    {
     "data": {
      "text/plain": [
       "1"
      ]
     },
     "execution_count": 72,
     "metadata": {},
     "output_type": "execute_result"
    }
   ],
   "source": [
    "lista_formacoes_dsa.count('Engenheiro IA')"
   ]
  },
  {
   "cell_type": "code",
   "execution_count": 73,
   "id": "abaaafbd",
   "metadata": {},
   "outputs": [],
   "source": [
    "# Criando uma lista vazia\n",
    "lista_vazia = []"
   ]
  },
  {
   "cell_type": "code",
   "execution_count": 74,
   "id": "b39f033f",
   "metadata": {},
   "outputs": [],
   "source": [
    "lista_vazia.append('agua')"
   ]
  },
  {
   "cell_type": "code",
   "execution_count": 75,
   "id": "1dd55da6",
   "metadata": {},
   "outputs": [],
   "source": [
    "lista_vazia.append(20)"
   ]
  },
  {
   "cell_type": "code",
   "execution_count": 76,
   "id": "cd1d37e6",
   "metadata": {},
   "outputs": [
    {
     "data": {
      "text/plain": [
       "['agua', 20]"
      ]
     },
     "execution_count": 76,
     "metadata": {},
     "output_type": "execute_result"
    }
   ],
   "source": [
    "lista_vazia"
   ]
  },
  {
   "cell_type": "code",
   "execution_count": 78,
   "id": "fba19cb4",
   "metadata": {},
   "outputs": [],
   "source": [
    "## \n",
    "\n",
    "old_list = [0,1,2,3]"
   ]
  },
  {
   "cell_type": "code",
   "execution_count": 79,
   "id": "bc688530",
   "metadata": {},
   "outputs": [],
   "source": [
    "new_list = []"
   ]
  },
  {
   "cell_type": "code",
   "execution_count": 80,
   "id": "5a042f52",
   "metadata": {},
   "outputs": [],
   "source": [
    "# Copiando os itens de uma lista para outra\n",
    "for item in old_list:\n",
    "    new_list.append(item)"
   ]
  },
  {
   "cell_type": "code",
   "execution_count": 81,
   "id": "ea718c01",
   "metadata": {},
   "outputs": [
    {
     "data": {
      "text/plain": [
       "[0, 1, 2, 3]"
      ]
     },
     "execution_count": 81,
     "metadata": {},
     "output_type": "execute_result"
    }
   ],
   "source": [
    "new_list"
   ]
  },
  {
   "cell_type": "code",
   "execution_count": 85,
   "id": "53072e58",
   "metadata": {},
   "outputs": [
    {
     "name": "stdout",
     "output_type": "stream",
     "text": [
      "['Recife', 'Manaus', 'Salvador', 'Fortaleza', 'Palmas']\n"
     ]
    }
   ],
   "source": [
    "cidades = ['Recife', 'Manaus', 'Salvador']\n",
    "cidades.extend(['Fortaleza', 'Palmas'])\n",
    "print(cidades)"
   ]
  },
  {
   "cell_type": "code",
   "execution_count": 87,
   "id": "736d8784",
   "metadata": {},
   "outputs": [
    {
     "data": {
      "text/plain": [
       "2"
      ]
     },
     "execution_count": 87,
     "metadata": {},
     "output_type": "execute_result"
    }
   ],
   "source": [
    "cidades.index('Salvador')"
   ]
  },
  {
   "cell_type": "markdown",
   "id": "416d3949",
   "metadata": {},
   "source": [
    "### Lembre-se em Python o indice começa em 0"
   ]
  },
  {
   "cell_type": "code",
   "execution_count": 88,
   "id": "d3738bc0",
   "metadata": {},
   "outputs": [
    {
     "ename": "ValueError",
     "evalue": "'Rio de Janeiro' is not in list",
     "output_type": "error",
     "traceback": [
      "\u001b[1;31m---------------------------------------------------------------------------\u001b[0m",
      "\u001b[1;31mValueError\u001b[0m                                Traceback (most recent call last)",
      "\u001b[1;32m~\\AppData\\Local\\Temp\\ipykernel_9300\\3891498012.py\u001b[0m in \u001b[0;36m<module>\u001b[1;34m\u001b[0m\n\u001b[1;32m----> 1\u001b[1;33m \u001b[0mcidades\u001b[0m\u001b[1;33m.\u001b[0m\u001b[0mindex\u001b[0m\u001b[1;33m(\u001b[0m\u001b[1;34m'Rio de Janeiro'\u001b[0m\u001b[1;33m)\u001b[0m\u001b[1;33m\u001b[0m\u001b[1;33m\u001b[0m\u001b[0m\n\u001b[0m",
      "\u001b[1;31mValueError\u001b[0m: 'Rio de Janeiro' is not in list"
     ]
    }
   ],
   "source": [
    "cidades.index('Rio de Janeiro')"
   ]
  },
  {
   "cell_type": "code",
   "execution_count": 89,
   "id": "60398675",
   "metadata": {},
   "outputs": [
    {
     "data": {
      "text/plain": [
       "['Recife', 'Manaus', 'Salvador', 'Fortaleza', 'Palmas']"
      ]
     },
     "execution_count": 89,
     "metadata": {},
     "output_type": "execute_result"
    }
   ],
   "source": [
    "cidades"
   ]
  },
  {
   "cell_type": "code",
   "execution_count": 93,
   "id": "db711c59",
   "metadata": {},
   "outputs": [],
   "source": [
    "# \n",
    "cidades.insert(2,110)"
   ]
  },
  {
   "cell_type": "code",
   "execution_count": 91,
   "id": "2561dc62",
   "metadata": {},
   "outputs": [
    {
     "data": {
      "text/plain": [
       "['Recife', 'Manaus', 110, 'Salvador', 'Fortaleza', 'Palmas']"
      ]
     },
     "execution_count": 91,
     "metadata": {},
     "output_type": "execute_result"
    }
   ],
   "source": [
    "cidades"
   ]
  },
  {
   "cell_type": "code",
   "execution_count": 98,
   "id": "b7a90b6c",
   "metadata": {},
   "outputs": [],
   "source": [
    "# removendo a lista\n",
    "cidades.remove(110)"
   ]
  },
  {
   "cell_type": "code",
   "execution_count": 99,
   "id": "2061924c",
   "metadata": {},
   "outputs": [
    {
     "data": {
      "text/plain": [
       "['Recife', 'Manaus', 'Salvador', 'Fortaleza', 'Palmas']"
      ]
     },
     "execution_count": 99,
     "metadata": {},
     "output_type": "execute_result"
    }
   ],
   "source": [
    "cidades"
   ]
  },
  {
   "cell_type": "code",
   "execution_count": 100,
   "id": "905ad680",
   "metadata": {},
   "outputs": [],
   "source": [
    "# Reverte a lista\n",
    "cidades.reverse()"
   ]
  },
  {
   "cell_type": "code",
   "execution_count": 101,
   "id": "7e8f3dc9",
   "metadata": {},
   "outputs": [
    {
     "data": {
      "text/plain": [
       "['Palmas', 'Fortaleza', 'Salvador', 'Manaus', 'Recife']"
      ]
     },
     "execution_count": 101,
     "metadata": {},
     "output_type": "execute_result"
    }
   ],
   "source": [
    "cidades"
   ]
  },
  {
   "cell_type": "code",
   "execution_count": 102,
   "id": "e3fe4f97",
   "metadata": {},
   "outputs": [],
   "source": [
    "x = [3,4,2,1]"
   ]
  },
  {
   "cell_type": "code",
   "execution_count": 103,
   "id": "ce38f658",
   "metadata": {},
   "outputs": [],
   "source": [
    "# ordena a lista\n",
    "x.sort()"
   ]
  },
  {
   "cell_type": "code",
   "execution_count": 104,
   "id": "e6e85b82",
   "metadata": {},
   "outputs": [
    {
     "data": {
      "text/plain": [
       "[1, 2, 3, 4]"
      ]
     },
     "execution_count": 104,
     "metadata": {},
     "output_type": "execute_result"
    }
   ],
   "source": [
    "x"
   ]
  },
  {
   "cell_type": "markdown",
   "id": "69344910",
   "metadata": {},
   "source": [
    "## FIM"
   ]
  }
 ],
 "metadata": {
  "kernelspec": {
   "display_name": "Python 3 (ipykernel)",
   "language": "python",
   "name": "python3"
  },
  "language_info": {
   "codemirror_mode": {
    "name": "ipython",
    "version": 3
   },
   "file_extension": ".py",
   "mimetype": "text/x-python",
   "name": "python",
   "nbconvert_exporter": "python",
   "pygments_lexer": "ipython3",
   "version": "3.9.13"
  }
 },
 "nbformat": 4,
 "nbformat_minor": 5
}
