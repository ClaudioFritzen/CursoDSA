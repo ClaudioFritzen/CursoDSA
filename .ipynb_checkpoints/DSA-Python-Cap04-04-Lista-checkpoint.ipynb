{
 "cells": [
  {
   "cell_type": "markdown",
   "id": "af1ecfcb",
   "metadata": {},
   "source": [
    "## Data Science Academy\n",
    "\n",
    "### Fundamentos de linguagem Python Para Análise de Dados e Data Science\n",
    "\n",
    "### Capitulo 4 - Estruturas de Dados (Listas)"
   ]
  },
  {
   "cell_type": "code",
   "execution_count": null,
   "id": "9bb64c7b",
   "metadata": {},
   "outputs": [],
   "source": []
  },
  {
   "cell_type": "code",
   "execution_count": null,
   "id": "5dbb02dc",
   "metadata": {},
   "outputs": [],
   "source": []
  },
  {
   "cell_type": "code",
   "execution_count": 9,
   "id": "6195f464",
   "metadata": {},
   "outputs": [
    {
     "name": "stdout",
     "output_type": "stream",
     "text": [
      "Versão do python é 3.9.13\n"
     ]
    }
   ],
   "source": [
    "# Ver a versão do python\n",
    "\n",
    "from platform import python_version\n",
    "print('Versão do python é',python_version())"
   ]
  },
  {
   "cell_type": "markdown",
   "id": "9eb4fd8a",
   "metadata": {},
   "source": [
    "#### ** Trabalando com listas **"
   ]
  },
  {
   "cell_type": "code",
   "execution_count": 10,
   "id": "10399393",
   "metadata": {},
   "outputs": [
    {
     "data": {
      "text/plain": [
       "'Açucar'"
      ]
     },
     "execution_count": 10,
     "metadata": {},
     "output_type": "execute_result"
    }
   ],
   "source": [
    "# Criando uma lista \n",
    "lista_1 =[ 'Arroz', 'Feijão', 'Açucar']\n",
    "lista_1[2]"
   ]
  },
  {
   "cell_type": "code",
   "execution_count": 11,
   "id": "434d04ac",
   "metadata": {},
   "outputs": [
    {
     "data": {
      "text/plain": [
       "list"
      ]
     },
     "execution_count": 11,
     "metadata": {},
     "output_type": "execute_result"
    }
   ],
   "source": [
    "type(lista_1)"
   ]
  },
  {
   "cell_type": "code",
   "execution_count": 12,
   "id": "b163c94f",
   "metadata": {},
   "outputs": [
    {
     "name": "stdout",
     "output_type": "stream",
     "text": [
      "['Arroz', 'Feijão', 'Açucar']\n"
     ]
    }
   ],
   "source": [
    "# imprimindo a lista\n",
    "print(lista_1)"
   ]
  },
  {
   "cell_type": "code",
   "execution_count": 13,
   "id": "a45b269c",
   "metadata": {},
   "outputs": [],
   "source": [
    "# Criando outra lista \n",
    "lista_2 = ['arroz', 'frango', 'tomate', 'leite']\n"
   ]
  },
  {
   "cell_type": "code",
   "execution_count": 14,
   "id": "df42d807",
   "metadata": {},
   "outputs": [
    {
     "data": {
      "text/plain": [
       "list"
      ]
     },
     "execution_count": 14,
     "metadata": {},
     "output_type": "execute_result"
    }
   ],
   "source": [
    "type(lista_2)"
   ]
  },
  {
   "cell_type": "markdown",
   "id": "3a7fed22",
   "metadata": {},
   "source": [
    "## Lista de Listas (Listas Aninhadas)\n",
    "#### Listas de listas são matrizes em Python"
   ]
  },
  {
   "cell_type": "code",
   "execution_count": 15,
   "id": "07c6b336",
   "metadata": {},
   "outputs": [],
   "source": [
    "# Criando uma lista de listas\n",
    "listas = [ [1,2,3], [10,4,8], [12,11,14,9] ]"
   ]
  },
  {
   "cell_type": "code",
   "execution_count": 16,
   "id": "ea0bba3f",
   "metadata": {},
   "outputs": [
    {
     "name": "stdout",
     "output_type": "stream",
     "text": [
      "[[1, 2, 3], [10, 4, 8], [12, 11, 14, 9]]\n"
     ]
    }
   ],
   "source": [
    "# imprimindo a lista\n",
    "print(listas)"
   ]
  },
  {
   "cell_type": "code",
   "execution_count": 17,
   "id": "167090fd",
   "metadata": {},
   "outputs": [],
   "source": [
    "# Atribuindo um item da lista a uma variavel\n",
    "a = listas[0]"
   ]
  },
  {
   "cell_type": "code",
   "execution_count": 18,
   "id": "d63ffc22",
   "metadata": {},
   "outputs": [
    {
     "data": {
      "text/plain": [
       "[1, 2, 3]"
      ]
     },
     "execution_count": 18,
     "metadata": {},
     "output_type": "execute_result"
    }
   ],
   "source": [
    "a"
   ]
  },
  {
   "cell_type": "code",
   "execution_count": 19,
   "id": "12a43864",
   "metadata": {},
   "outputs": [],
   "source": [
    "b = a[0]"
   ]
  },
  {
   "cell_type": "code",
   "execution_count": 20,
   "id": "7f275c55",
   "metadata": {},
   "outputs": [
    {
     "data": {
      "text/plain": [
       "1"
      ]
     },
     "execution_count": 20,
     "metadata": {},
     "output_type": "execute_result"
    }
   ],
   "source": [
    "b"
   ]
  },
  {
   "cell_type": "code",
   "execution_count": 25,
   "id": "4b2dad2a",
   "metadata": {},
   "outputs": [],
   "source": [
    "## \n",
    "list1= listas[0]"
   ]
  },
  {
   "cell_type": "code",
   "execution_count": 26,
   "id": "f3161429",
   "metadata": {},
   "outputs": [
    {
     "data": {
      "text/plain": [
       "[1, 2, 3]"
      ]
     },
     "execution_count": 26,
     "metadata": {},
     "output_type": "execute_result"
    }
   ],
   "source": [
    "list1\n"
   ]
  },
  {
   "cell_type": "code",
   "execution_count": 27,
   "id": "76c446d9",
   "metadata": {},
   "outputs": [],
   "source": [
    "valor_1_0 = list1[0]"
   ]
  },
  {
   "cell_type": "code",
   "execution_count": 28,
   "id": "0d91b8d2",
   "metadata": {},
   "outputs": [
    {
     "data": {
      "text/plain": [
       "1"
      ]
     },
     "execution_count": 28,
     "metadata": {},
     "output_type": "execute_result"
    }
   ],
   "source": [
    "valor_1_0"
   ]
  },
  {
   "cell_type": "code",
   "execution_count": 29,
   "id": "ce7235f1",
   "metadata": {},
   "outputs": [],
   "source": [
    "valor_1_1 = list[1]"
   ]
  },
  {
   "cell_type": "code",
   "execution_count": 30,
   "id": "0c538c0c",
   "metadata": {},
   "outputs": [
    {
     "data": {
      "text/plain": [
       "2"
      ]
     },
     "execution_count": 30,
     "metadata": {},
     "output_type": "execute_result"
    }
   ],
   "source": [
    "valor_1_1"
   ]
  },
  {
   "cell_type": "code",
   "execution_count": 31,
   "id": "1a47df59",
   "metadata": {},
   "outputs": [],
   "source": [
    "valor_1_3 = list[2]"
   ]
  },
  {
   "cell_type": "code",
   "execution_count": 32,
   "id": "f3a56bc7",
   "metadata": {},
   "outputs": [
    {
     "data": {
      "text/plain": [
       "3"
      ]
     },
     "execution_count": 32,
     "metadata": {},
     "output_type": "execute_result"
    }
   ],
   "source": [
    "valor_1_3"
   ]
  },
  {
   "cell_type": "markdown",
   "id": "cc11195e",
   "metadata": {},
   "source": [
    "## Operações com Listas"
   ]
  },
  {
   "cell_type": "code",
   "execution_count": 33,
   "id": "3525c5c3",
   "metadata": {},
   "outputs": [],
   "source": [
    "# Criando ima lista aninhada (lista de listas )\n",
    "lista = [ [1,2,3], [10,15,14], [10.1, 0.7, 2.23] ]"
   ]
  },
  {
   "cell_type": "code",
   "execution_count": 34,
   "id": "fe076243",
   "metadata": {},
   "outputs": [
    {
     "data": {
      "text/plain": [
       "[[1, 2, 3], [10, 15, 14], [10.1, 0.7, 2.23]]"
      ]
     },
     "execution_count": 34,
     "metadata": {},
     "output_type": "execute_result"
    }
   ],
   "source": [
    "lista"
   ]
  },
  {
   "cell_type": "code",
   "execution_count": 35,
   "id": "03aa25e8",
   "metadata": {},
   "outputs": [],
   "source": [
    "a = lista [0] [0]"
   ]
  },
  {
   "cell_type": "code",
   "execution_count": 36,
   "id": "d46b177e",
   "metadata": {},
   "outputs": [
    {
     "data": {
      "text/plain": [
       "1"
      ]
     },
     "execution_count": 36,
     "metadata": {},
     "output_type": "execute_result"
    }
   ],
   "source": [
    "a"
   ]
  },
  {
   "cell_type": "code",
   "execution_count": 40,
   "id": "8bdcd1da",
   "metadata": {},
   "outputs": [],
   "source": [
    "b = lista [1][2]"
   ]
  },
  {
   "cell_type": "code",
   "execution_count": 41,
   "id": "bbbbe6f4",
   "metadata": {},
   "outputs": [
    {
     "data": {
      "text/plain": [
       "14"
      ]
     },
     "execution_count": 41,
     "metadata": {},
     "output_type": "execute_result"
    }
   ],
   "source": [
    "b"
   ]
  },
  {
   "cell_type": "code",
   "execution_count": 46,
   "id": "0962cd64",
   "metadata": {},
   "outputs": [],
   "source": [
    "c = lista [0][2] + 10"
   ]
  },
  {
   "cell_type": "code",
   "execution_count": 47,
   "id": "020abec5",
   "metadata": {},
   "outputs": [
    {
     "data": {
      "text/plain": [
       "13"
      ]
     },
     "execution_count": 47,
     "metadata": {},
     "output_type": "execute_result"
    }
   ],
   "source": [
    "c"
   ]
  }
 ],
 "metadata": {
  "kernelspec": {
   "display_name": "Python 3 (ipykernel)",
   "language": "python",
   "name": "python3"
  },
  "language_info": {
   "codemirror_mode": {
    "name": "ipython",
    "version": 3
   },
   "file_extension": ".py",
   "mimetype": "text/x-python",
   "name": "python",
   "nbconvert_exporter": "python",
   "pygments_lexer": "ipython3",
   "version": "3.9.13"
  }
 },
 "nbformat": 4,
 "nbformat_minor": 5
}
