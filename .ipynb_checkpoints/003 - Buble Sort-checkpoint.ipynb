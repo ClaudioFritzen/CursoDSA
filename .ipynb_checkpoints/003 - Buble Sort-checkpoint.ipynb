{
 "cells": [
  {
   "cell_type": "markdown",
   "id": "b041e056",
   "metadata": {},
   "source": [
    "# Buble Sort \n",
    " Bubble Sort é um argumento de ordenação smples que funciona comparando cada elemento com o próximo, e trocando-os de lugar se eles estiverem em ordem incorreta. O algoritmo repete esse processo varias vezes até que todos os elementos estejam ordenados. A cada passagem, o maior elemento \"flutua\" para o final do array, como uma bolha, dando origem ao nome do algoritmo."
   ]
  },
  {
   "cell_type": "markdown",
   "id": "036f24b9",
   "metadata": {},
   "source": [
    "# meu pseudocodigo\n",
    "    pegar a lista\n",
    "        olhar o tamanho da lista\n",
    "            passar por cada item da lista organizando\n",
    "                e mostrar a lista 📃 organizada antes e o depois\n",
    "                \n",
    "    "
   ]
  },
  {
   "cell_type": "markdown",
   "id": "930f7121",
   "metadata": {},
   "source": [
    "# Pseudo da aula\n",
    "Inicio\n",
    "    Para cada elemento i no array de tamanho n\n",
    "        para cada elemento j for maior que elemento n -1\n",
    "            se elemento i for maior que elemento j\n",
    "                troque os elementos i e j\n",
    "    Exiba o array"
   ]
  },
  {
   "cell_type": "code",
   "execution_count": 32,
   "id": "aa249066",
   "metadata": {},
   "outputs": [],
   "source": [
    "# considere essa n\n",
    "lista = [4, 1,2,5, 3]\n"
   ]
  },
  {
   "cell_type": "markdown",
   "id": "5239897a",
   "metadata": {},
   "source": [
    "# convertando o Pseudocódigo 3 em programa Python\n"
   ]
  },
  {
   "cell_type": "code",
   "execution_count": 33,
   "id": "58021b71",
   "metadata": {},
   "outputs": [],
   "source": [
    "# considere essa lista de numeros\n",
    "lista = [1, 0, 10, 3, 4, 2, 9, 6, 8, 7]"
   ]
  },
  {
   "cell_type": "code",
   "execution_count": 34,
   "id": "e452bc33",
   "metadata": {},
   "outputs": [],
   "source": [
    "def buble_sort(arr):\n",
    "    \n",
    "    # contando os itens dentro da lista\n",
    "    n = len(arr)\n",
    "    \n",
    "    # passando por cada item da lista\n",
    "    for i in range(n):\n",
    "        \n",
    "        # passando dentro dos itens no n\n",
    "        for j in range(0, n-i-1):\n",
    "            \n",
    "            # se o elemento i for maior que elemento j\n",
    "            if arr[j] > arr[j+1]:\n",
    "                \n",
    "            \n",
    "                # troque os elementos i e j\n",
    "                arr[j], arr[j+1], arr[j]\n",
    "  \n",
    "    \n",
    "    return arr\n"
   ]
  },
  {
   "cell_type": "code",
   "execution_count": 55,
   "id": "89be3b90",
   "metadata": {},
   "outputs": [],
   "source": [
    "lista=[1,0,9,5,6,3,4]"
   ]
  },
  {
   "cell_type": "code",
   "execution_count": 58,
   "id": "d7c2458c",
   "metadata": {},
   "outputs": [],
   "source": [
    "def bubble_sort(arr):\n",
    "    n = len(arr)\n",
    "    for i in range(n):\n",
    "        for j in range(0, n-i-1):\n",
    "            if arr[j] > arr [j+1]:\n",
    "                \n",
    "                # comparando de dois em dois\n",
    "                arr[j], arr[j+1] = arr[j+1], arr[j]\n",
    "                \n",
    "    print('Chegou aqui pt')\n",
    "    return arr    \n"
   ]
  },
  {
   "cell_type": "code",
   "execution_count": 59,
   "id": "86b0b731",
   "metadata": {},
   "outputs": [
    {
     "name": "stdout",
     "output_type": "stream",
     "text": [
      "Chegou aqui pt\n",
      "[0, 1, 3, 4, 5, 6, 9]\n"
     ]
    }
   ],
   "source": [
    "print(bubble_sort(lista))"
   ]
  },
  {
   "cell_type": "code",
   "execution_count": null,
   "id": "22c314a1",
   "metadata": {},
   "outputs": [],
   "source": []
  }
 ],
 "metadata": {
  "kernelspec": {
   "display_name": "Python 3 (ipykernel)",
   "language": "python",
   "name": "python3"
  },
  "language_info": {
   "codemirror_mode": {
    "name": "ipython",
    "version": 3
   },
   "file_extension": ".py",
   "mimetype": "text/x-python",
   "name": "python",
   "nbconvert_exporter": "python",
   "pygments_lexer": "ipython3",
   "version": "3.9.13"
  }
 },
 "nbformat": 4,
 "nbformat_minor": 5
}
