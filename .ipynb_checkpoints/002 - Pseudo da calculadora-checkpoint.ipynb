{
 "cells": [
  {
   "cell_type": "markdown",
   "id": "dbf4394a",
   "metadata": {},
   "source": [
    "# Como fazer uma calculadora\n",
    "** Passo 1  **\n",
    "    * Dar uma saldação! Como será um sistema para outras pessoas usarem.\n",
    "    * Pegar os numeros e certificar se é numero ou letras\n",
    "    * Fazer as operações basicas da matemática somar, subtrair, dividir e multiplicar.\n",
    "    * Exibir o resultado para o utilizador.\n",
    " \n",
    "    "
   ]
  },
  {
   "cell_type": "markdown",
   "id": "2908e4be",
   "metadata": {},
   "source": [
    "Inicio \n",
    "        \n",
    "        Exiba \"Bem Vindo a Calculadora\n",
    "        Peça para o usuário inserir o primeiro numero\n",
    "        Guarde esse numero.\n",
    "        Peça ao usuario inserir o segundo numero\n",
    "        Guarda a infomação \n",
    "        Peça para o usuario escolher uma operação (somar, subtrair, multiplicar, dividir)\n",
    "        Utilizar a operação escolhida e fazer a ação.\n",
    "        exibir o resultado\n",
    "Fim"
   ]
  },
  {
   "cell_type": "markdown",
   "id": "4b027564",
   "metadata": {},
   "source": [
    "# Convertendo o pseudocodigo em programa Python"
   ]
  },
  {
   "cell_type": "code",
   "execution_count": null,
   "id": "554b6836",
   "metadata": {},
   "outputs": [],
   "source": [
    "# Exibir bem vindo \n",
    "print(\"Hello World! Seja bem vindo!\")"
   ]
  },
  {
   "cell_type": "code",
   "execution_count": 2,
   "id": "4dcf5b0d",
   "metadata": {},
   "outputs": [
    {
     "name": "stdout",
     "output_type": "stream",
     "text": [
      "Digite um numero: 10\n"
     ]
    }
   ],
   "source": [
    "#Peça para o usuário inserir o primeiro numero\n",
    "num1= float(input('Digite um numero: '))\n"
   ]
  },
  {
   "cell_type": "code",
   "execution_count": 3,
   "id": "06aef872",
   "metadata": {},
   "outputs": [
    {
     "name": "stdout",
     "output_type": "stream",
     "text": [
      "Digite 2° número: 20\n"
     ]
    }
   ],
   "source": [
    "# Peça para o usuário inserir o segundo numero\n",
    "num2 = float(input('Digite 2° número: '))"
   ]
  },
  {
   "cell_type": "code",
   "execution_count": 4,
   "id": "eb2daeee",
   "metadata": {},
   "outputs": [
    {
     "name": "stdout",
     "output_type": "stream",
     "text": [
      "Digite a opão desejada: \n",
      " 1 soma  \n",
      " 2 subtrair \n",
      " 3 multiplicar \n",
      " 4 dividir\n",
      "Apenas o numero da ação: 3\n",
      "A multiplicação entre 10.0 e 20.0 é 200.0\n",
      "3\n"
     ]
    }
   ],
   "source": [
    "# ação do usuario\n",
    "print('Digite a opão desejada: \\n 1 soma  \\n 2 subtrair \\n 3 multiplicar \\n 4 dividir')\n",
    "acao = int(input(\"Apenas o numero da ação: \"))\n",
    "\n",
    "if acao == 1:\n",
    "    resultado = num1 + num2\n",
    "    print(f'A soma entre {num1} e {num2} é {resultado}')\n",
    "\n",
    "    \n",
    "elif acao == 2:\n",
    "    resultado = num1 - num2\n",
    "    print(f'A subtração entre {num1} e {num2} é {resultado}')\n",
    "\n",
    "elif acao == 3:\n",
    "    resultado = num1 * num2\n",
    "    print(f'A multiplicação entre {num1} e {num2} é {resultado}')\n",
    "\n",
    "elif acao == 4:\n",
    "    resultado = num1 / num2\n",
    "    print(f'A divisão entre {num1} e {num2} é {resultado}')\n",
    "\n",
    "else:\n",
    "    print('Operação invalida!!!')\n",
    "\n",
    "print(acao)\n"
   ]
  },
  {
   "cell_type": "markdown",
   "id": "e94bccf8",
   "metadata": {},
   "source": [
    "# No futuro fazer os tratamentos \n"
   ]
  }
 ],
 "metadata": {
  "kernelspec": {
   "display_name": "Python 3 (ipykernel)",
   "language": "python",
   "name": "python3"
  },
  "language_info": {
   "codemirror_mode": {
    "name": "ipython",
    "version": 3
   },
   "file_extension": ".py",
   "mimetype": "text/x-python",
   "name": "python",
   "nbconvert_exporter": "python",
   "pygments_lexer": "ipython3",
   "version": "3.9.13"
  }
 },
 "nbformat": 4,
 "nbformat_minor": 5
}
