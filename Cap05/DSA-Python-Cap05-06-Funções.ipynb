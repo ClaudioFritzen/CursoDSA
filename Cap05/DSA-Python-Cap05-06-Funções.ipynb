{
 "cells": [
  {
   "cell_type": "markdown",
   "id": "03ddff04",
   "metadata": {},
   "source": [
    "Data Science Academy\n",
    "\n",
    "Fundamentos da Linguagem Python Para Análise de Dados e Data Science\n",
    "\n",
    "Capitulo 6 - Funções\n"
   ]
  },
  {
   "cell_type": "code",
   "execution_count": 1,
   "id": "cfe6868b",
   "metadata": {},
   "outputs": [
    {
     "name": "stdout",
     "output_type": "stream",
     "text": [
      "A versão do Python é  3.9.13\n"
     ]
    }
   ],
   "source": [
    "# Versão do python \n",
    "from platform import python_version\n",
    "\n",
    "print('A versão do Python é ', python_version())"
   ]
  },
  {
   "cell_type": "markdown",
   "id": "a9d26d9a",
   "metadata": {},
   "source": [
    " ### Funções"
   ]
  },
  {
   "cell_type": "code",
   "execution_count": 2,
   "id": "d26f1d7d",
   "metadata": {},
   "outputs": [
    {
     "name": "stdout",
     "output_type": "stream",
     "text": [
      "Hello World!\n"
     ]
    }
   ],
   "source": [
    "print('Hello World!')"
   ]
  },
  {
   "cell_type": "code",
   "execution_count": 3,
   "id": "4e165ca8",
   "metadata": {},
   "outputs": [],
   "source": [
    "# definindo um função\n",
    "\n",
    "def primeiraFuncao():\n",
    "    print('Hello World!')"
   ]
  },
  {
   "cell_type": "code",
   "execution_count": 4,
   "id": "e451033a",
   "metadata": {},
   "outputs": [
    {
     "name": "stdout",
     "output_type": "stream",
     "text": [
      "Hello World!\n"
     ]
    }
   ],
   "source": [
    "primeiraFuncao()"
   ]
  },
  {
   "cell_type": "code",
   "execution_count": 5,
   "id": "8976c438",
   "metadata": {},
   "outputs": [],
   "source": [
    "# Definindo uma variavel\n",
    "def primeirafunc():\n",
    "    nome = 'Joe'\n",
    "    print('Hello %s' % (nome))"
   ]
  },
  {
   "cell_type": "code",
   "execution_count": 6,
   "id": "2c90b52a",
   "metadata": {},
   "outputs": [
    {
     "name": "stdout",
     "output_type": "stream",
     "text": [
      "Hello Joe\n"
     ]
    }
   ],
   "source": [
    "primeirafunc()"
   ]
  },
  {
   "cell_type": "code",
   "execution_count": 7,
   "id": "fe637150",
   "metadata": {},
   "outputs": [],
   "source": [
    "# definindo uma função com parametro\n",
    "\n",
    "def segunda_funcao(nome):\n",
    "    print('Hello %s' %(nome))"
   ]
  },
  {
   "cell_type": "code",
   "execution_count": 8,
   "id": "b6b4e6b3",
   "metadata": {},
   "outputs": [
    {
     "name": "stdout",
     "output_type": "stream",
     "text": [
      "Hello Aluno\n"
     ]
    }
   ],
   "source": [
    "segunda_funcao('Aluno')"
   ]
  },
  {
   "cell_type": "code",
   "execution_count": 9,
   "id": "d7498d7c",
   "metadata": {},
   "outputs": [
    {
     "ename": "TypeError",
     "evalue": "segunda_funcao() missing 1 required positional argument: 'nome'",
     "output_type": "error",
     "traceback": [
      "\u001b[1;31m---------------------------------------------------------------------------\u001b[0m",
      "\u001b[1;31mTypeError\u001b[0m                                 Traceback (most recent call last)",
      "\u001b[1;32m~\\AppData\\Local\\Temp\\ipykernel_2104\\3072473178.py\u001b[0m in \u001b[0;36m<module>\u001b[1;34m\u001b[0m\n\u001b[1;32m----> 1\u001b[1;33m \u001b[0msegunda_funcao\u001b[0m\u001b[1;33m(\u001b[0m\u001b[1;33m)\u001b[0m\u001b[1;33m\u001b[0m\u001b[1;33m\u001b[0m\u001b[0m\n\u001b[0m",
      "\u001b[1;31mTypeError\u001b[0m: segunda_funcao() missing 1 required positional argument: 'nome'"
     ]
    }
   ],
   "source": [
    "segunda_funcao()"
   ]
  },
  {
   "cell_type": "code",
   "execution_count": null,
   "id": "0ceccc2a",
   "metadata": {},
   "outputs": [],
   "source": [
    "# Função para imprimir números\n",
    "def imprimirNumeros():\n",
    "    \n",
    "    # loop\n",
    "    for i in range(0, 5):\n",
    "        print('Numero ' + str(i))\n",
    "    "
   ]
  },
  {
   "cell_type": "code",
   "execution_count": null,
   "id": "0311719e",
   "metadata": {},
   "outputs": [],
   "source": [
    "imprimirNumeros()"
   ]
  },
  {
   "cell_type": "code",
   "execution_count": null,
   "id": "cb6903c8",
   "metadata": {},
   "outputs": [],
   "source": [
    "# Função para somar numeros\n",
    "\n",
    "def addNum(firstNum, secondNum):\n",
    "    print('Primeiro número: ' + str(firstNum))\n",
    "    print('Segundo número: ' + str(secondNum))\n",
    "    print('Soma: ', firstNum + secondNum)"
   ]
  },
  {
   "cell_type": "code",
   "execution_count": null,
   "id": "d6e9b79a",
   "metadata": {},
   "outputs": [],
   "source": [
    "#  Chamando a função e passando os parametros\n",
    "addNum(5, 5)"
   ]
  },
  {
   "cell_type": "code",
   "execution_count": null,
   "id": "15c18b1c",
   "metadata": {},
   "outputs": [],
   "source": [
    "# chamndo a função e passando parametros\n",
    "addNum(20,3)"
   ]
  },
  {
   "cell_type": "code",
   "execution_count": null,
   "id": "0c27b842",
   "metadata": {},
   "outputs": [],
   "source": [
    "# Funções com número variável de argumentos\n",
    "\n",
    "#\n",
    "\n",
    "def printVarInfo( arg1, *vartuple ):\n",
    "    # imprimindo o valor do primeiro argumento\n",
    "    print('O parametro passado foi:', arg1)\n",
    "    \n",
    "    # imprimindo o valor do segundo argumento\n",
    "    for item in vartuple:\n",
    "        print('O parametro passado foi: ', item)\n",
    "    return;"
   ]
  },
  {
   "cell_type": "code",
   "execution_count": null,
   "id": "6c9c914a",
   "metadata": {},
   "outputs": [],
   "source": [
    "# Fazendo chamada da função usando apenas 1 argumento\n",
    "\n",
    "printVarInfo(10)"
   ]
  },
  {
   "cell_type": "code",
   "execution_count": null,
   "id": "fb93020f",
   "metadata": {},
   "outputs": [],
   "source": [
    "printVarInfo('Pimentos', 'Bacon')"
   ]
  },
  {
   "cell_type": "code",
   "execution_count": null,
   "id": "69e29b79",
   "metadata": {},
   "outputs": [],
   "source": [
    "printVarInfo('Data','Science','Academy')"
   ]
  },
  {
   "cell_type": "code",
   "execution_count": null,
   "id": "fc30223e",
   "metadata": {},
   "outputs": [],
   "source": []
  },
  {
   "cell_type": "markdown",
   "id": "0bdc5ea1",
   "metadata": {},
   "source": [
    "#### Escopo de variavél - Local e Global\n"
   ]
  },
  {
   "cell_type": "code",
   "execution_count": 11,
   "id": "44364db9",
   "metadata": {},
   "outputs": [],
   "source": [
    "# Variavél global\n",
    "var_global = 10 # essa é uma variavél local\n",
    "\n",
    "# Função\n",
    "def multiplica_numeros(num1,num2):\n",
    "    var_global = num1*num2   # esta é uma variavel local\n",
    "    print(var_global)"
   ]
  },
  {
   "cell_type": "code",
   "execution_count": 12,
   "id": "58e56f4e",
   "metadata": {},
   "outputs": [
    {
     "name": "stdout",
     "output_type": "stream",
     "text": [
      "6\n"
     ]
    }
   ],
   "source": [
    "multiplica_numeros(2,3)"
   ]
  },
  {
   "cell_type": "code",
   "execution_count": null,
   "id": "0c37bbcf",
   "metadata": {},
   "outputs": [],
   "source": []
  }
 ],
 "metadata": {
  "kernelspec": {
   "display_name": "Python 3 (ipykernel)",
   "language": "python",
   "name": "python3"
  },
  "language_info": {
   "codemirror_mode": {
    "name": "ipython",
    "version": 3
   },
   "file_extension": ".py",
   "mimetype": "text/x-python",
   "name": "python",
   "nbconvert_exporter": "python",
   "pygments_lexer": "ipython3",
   "version": "3.9.13"
  }
 },
 "nbformat": 4,
 "nbformat_minor": 5
}
