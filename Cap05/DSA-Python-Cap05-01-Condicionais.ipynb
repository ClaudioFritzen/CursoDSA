{
 "cells": [
  {
   "cell_type": "markdown",
   "id": "e977ae71",
   "metadata": {},
   "source": [
    "### Data Science Academy\n",
    "### Fundamentos de Linguagem Python Para Analise de Dados e Data Science\n",
    "\n",
    "### Capitulo 5 - Condicionais"
   ]
  },
  {
   "cell_type": "code",
   "execution_count": 2,
   "id": "44046fec",
   "metadata": {},
   "outputs": [
    {
     "name": "stdout",
     "output_type": "stream",
     "text": [
      "Versão da Linguagem Python Usada Neste Jupyter Notebook 3.9.13\n"
     ]
    }
   ],
   "source": [
    "# Versão da linguagem Python\n",
    "from platform import python_version\n",
    "\n",
    "print('Versão da Linguagem Python Usada Neste Jupyter Notebook',python_version())"
   ]
  },
  {
   "cell_type": "markdown",
   "id": "d3048fd6",
   "metadata": {},
   "source": [
    "##### Condicional if"
   ]
  },
  {
   "cell_type": "code",
   "execution_count": 4,
   "id": "d7af47d8",
   "metadata": {},
   "outputs": [
    {
     "name": "stdout",
     "output_type": "stream",
     "text": [
      "A sentença é verdadeira\n"
     ]
    }
   ],
   "source": [
    "#  condicional if\n",
    "if 5 > 2:\n",
    "    print('A sentença é verdadeira')"
   ]
  },
  {
   "cell_type": "code",
   "execution_count": 5,
   "id": "0878492d",
   "metadata": {},
   "outputs": [
    {
     "name": "stdout",
     "output_type": "stream",
     "text": [
      "A sentença é falsa\n"
     ]
    }
   ],
   "source": [
    "## Condicional if e else\n",
    "if 5 < 2:\n",
    "    print('A sententa é verdadeira')\n",
    "else:\n",
    "    print('A sentença é falsa')"
   ]
  },
  {
   "cell_type": "code",
   "execution_count": 6,
   "id": "c3ea162f",
   "metadata": {},
   "outputs": [
    {
     "name": "stdout",
     "output_type": "stream",
     "text": [
      "Ação invalida\n"
     ]
    }
   ],
   "source": [
    "#  Condiconal If ... Else com variavel\n",
    "dia = 'Terça-Feira'\n",
    "\n",
    "if dia == \"Segunda\":\n",
    "    print('Ação verdadeira')\n",
    "else:\n",
    "    print('Ação invalida')"
   ]
  },
  {
   "cell_type": "code",
   "execution_count": 7,
   "id": "7786b7d5",
   "metadata": {},
   "outputs": [
    {
     "name": "stdout",
     "output_type": "stream",
     "text": [
      "Sem compromisso\n"
     ]
    }
   ],
   "source": [
    "# Podemos usar o operador elif para validar mais de uma condição\n",
    "\n",
    "if dia == 'Segunda':\n",
    "    print('Hoje é segunda!')\n",
    "elif dia == 'Terça feira':\n",
    "    print('Hoje é terça')\n",
    "else:\n",
    "    print('Sem compromisso')"
   ]
  },
  {
   "cell_type": "markdown",
   "id": "d790cd7c",
   "metadata": {},
   "source": [
    "##### Operadores Relacionais"
   ]
  },
  {
   "cell_type": "code",
   "execution_count": 8,
   "id": "b0697196",
   "metadata": {},
   "outputs": [
    {
     "data": {
      "text/plain": [
       "True"
      ]
     },
     "execution_count": 8,
     "metadata": {},
     "output_type": "execute_result"
    }
   ],
   "source": [
    "6 > 3"
   ]
  },
  {
   "cell_type": "code",
   "execution_count": 9,
   "id": "3bd936e6",
   "metadata": {},
   "outputs": [
    {
     "data": {
      "text/plain": [
       "True"
      ]
     },
     "execution_count": 9,
     "metadata": {},
     "output_type": "execute_result"
    }
   ],
   "source": [
    "3 < 7\n"
   ]
  },
  {
   "cell_type": "code",
   "execution_count": 10,
   "id": "497cf7c7",
   "metadata": {},
   "outputs": [
    {
     "data": {
      "text/plain": [
       "False"
      ]
     },
     "execution_count": 10,
     "metadata": {},
     "output_type": "execute_result"
    }
   ],
   "source": [
    "4 >=5"
   ]
  },
  {
   "cell_type": "code",
   "execution_count": 11,
   "id": "a51e1c6d",
   "metadata": {},
   "outputs": [
    {
     "data": {
      "text/plain": [
       "True"
      ]
     },
     "execution_count": 11,
     "metadata": {},
     "output_type": "execute_result"
    }
   ],
   "source": [
    "4 <=5"
   ]
  },
  {
   "cell_type": "code",
   "execution_count": null,
   "id": "bc2a1439",
   "metadata": {},
   "outputs": [],
   "source": []
  }
 ],
 "metadata": {
  "kernelspec": {
   "display_name": "Python 3 (ipykernel)",
   "language": "python",
   "name": "python3"
  },
  "language_info": {
   "codemirror_mode": {
    "name": "ipython",
    "version": 3
   },
   "file_extension": ".py",
   "mimetype": "text/x-python",
   "name": "python",
   "nbconvert_exporter": "python",
   "pygments_lexer": "ipython3",
   "version": "3.9.13"
  }
 },
 "nbformat": 4,
 "nbformat_minor": 5
}
