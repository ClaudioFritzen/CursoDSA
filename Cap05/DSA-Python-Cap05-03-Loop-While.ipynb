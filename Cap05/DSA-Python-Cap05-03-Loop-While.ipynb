{
 "cells": [
  {
   "cell_type": "markdown",
   "id": "ceb31e2c",
   "metadata": {},
   "source": [
    "Data Science Academy\n",
    "\n",
    "Fundamentos de Linguagem Python Para Analise de Dados e Data Science\n",
    "\n",
    "Capítulo 5 - Loop While"
   ]
  },
  {
   "cell_type": "code",
   "execution_count": 1,
   "id": "94be8f59",
   "metadata": {},
   "outputs": [
    {
     "name": "stdout",
     "output_type": "stream",
     "text": [
      "Sua versão do Python 3.9.13\n"
     ]
    }
   ],
   "source": [
    "# verificando a versão do Python\n",
    "from platform import python_version\n",
    "print('Sua versão do Python' , python_version() )"
   ]
  },
  {
   "cell_type": "markdown",
   "id": "9499afa3",
   "metadata": {},
   "source": [
    "Loop While"
   ]
  },
  {
   "cell_type": "code",
   "execution_count": 2,
   "id": "c0df4706",
   "metadata": {},
   "outputs": [
    {
     "name": "stdout",
     "output_type": "stream",
     "text": [
      "0\n",
      "1\n",
      "2\n",
      "3\n",
      "4\n",
      "5\n",
      "6\n",
      "7\n",
      "8\n",
      "9\n"
     ]
    }
   ],
   "source": [
    "# usando o loop while para imprimir os valores de 0 a 9\n",
    "# A condição tem qie deixar de ser verdadeira dentro do logo, senão pode travar o navegador ou\n",
    "# mesmo o computador\n",
    "\n",
    "valor = 0\n",
    "\n",
    "while valor < 10:\n",
    "    print(valor)\n",
    "    valor = valor +1 "
   ]
  },
  {
   "cell_type": "code",
   "execution_count": 6,
   "id": "c6975105",
   "metadata": {},
   "outputs": [],
   "source": [
    "# Entra no loop somente se a condição for verdadeira\n",
    "valor =11\n",
    "while valor <10:\n",
    "    print(valor)\n",
    "    valor = valor+1"
   ]
  },
  {
   "cell_type": "code",
   "execution_count": 7,
   "id": "56d0f91c",
   "metadata": {},
   "outputs": [
    {
     "name": "stdout",
     "output_type": "stream",
     "text": [
      "O Valor x nesta iteração é:  0\n",
      " x ainda é menor que 10, somando 1 a x\n",
      "O Valor x nesta iteração é:  1\n",
      " x ainda é menor que 10, somando 1 a x\n",
      "O Valor x nesta iteração é:  2\n",
      " x ainda é menor que 10, somando 1 a x\n",
      "O Valor x nesta iteração é:  3\n",
      " x ainda é menor que 10, somando 1 a x\n",
      "O Valor x nesta iteração é:  4\n",
      " x ainda é menor que 10, somando 1 a x\n",
      "O Valor x nesta iteração é:  5\n",
      " x ainda é menor que 10, somando 1 a x\n",
      "O Valor x nesta iteração é:  6\n",
      " x ainda é menor que 10, somando 1 a x\n",
      "O Valor x nesta iteração é:  7\n",
      " x ainda é menor que 10, somando 1 a x\n",
      "O Valor x nesta iteração é:  8\n",
      " x ainda é menor que 10, somando 1 a x\n",
      "O Valor x nesta iteração é:  9\n",
      " x ainda é menor que 10, somando 1 a x\n",
      "Loop Concluido\n",
      "10\n"
     ]
    }
   ],
   "source": [
    "# Tambem é possivél usar a clausula else para encerrar o loop while\n",
    "\n",
    "x = 0\n",
    "\n",
    "while x < 10:\n",
    "    print('O Valor x nesta iteração é: ', x)\n",
    "    print(' x ainda é menor que 10, somando 1 a x')\n",
    "    x +=1\n",
    "else:\n",
    "    print('Loop Concluido')\n",
    "print(x)"
   ]
  },
  {
   "cell_type": "markdown",
   "id": "61f3b72f",
   "metadata": {},
   "source": [
    "Pass, Break, Continue"
   ]
  },
  {
   "cell_type": "code",
   "execution_count": 8,
   "id": "cbed5a6e",
   "metadata": {},
   "outputs": [
    {
     "name": "stdout",
     "output_type": "stream",
     "text": [
      "0\n",
      "1\n",
      "2\n",
      "3\n"
     ]
    }
   ],
   "source": [
    "# Se encontramos o número 4 interrompemos o loop\n",
    "\n",
    "valor = 0\n",
    "\n",
    "while valor < 10:\n",
    "    if valor == 4:\n",
    "        break\n",
    "    else:\n",
    "        pass\n",
    "    print(valor)\n",
    "    valor += 1"
   ]
  },
  {
   "cell_type": "code",
   "execution_count": 11,
   "id": "c901c0e6",
   "metadata": {},
   "outputs": [
    {
     "name": "stdout",
     "output_type": "stream",
     "text": [
      "P\n",
      "y\n",
      "t\n",
      "h\n",
      "o\n",
      "n\n",
      " \n",
      "é\n",
      " \n",
      " \n",
      "i\n",
      "n\n",
      "c\n",
      "r\n",
      "í\n",
      "v\n",
      "e\n",
      "l\n"
     ]
    }
   ],
   "source": [
    "# Desconsideramos a letra z ao imprimir os caracteres da frase\n",
    "\n",
    "for letra in 'Python é zz incrível':\n",
    "    if letra == 'z':\n",
    "        continue\n",
    "    print(letra)"
   ]
  },
  {
   "cell_type": "markdown",
   "id": "8847a7b4",
   "metadata": {},
   "source": [
    "#### While e For Juntos\n",
    "\n",
    "Vamos encontrar números primos em uma coleção de números usando o While e For juntos.\n",
    "\n",
    "Um número primo é um número natural maior do que 1 que é divivsível apenas por 1 e por ele mesmo. Isso\n",
    "significa que não há nenhum outro número inteiro que possa dividir o número primo sem deixar resto. Por exemplo, o número 2 é primo, pois é divisível por 1 e 2. O número 4 não é primo, pois é divisível por 2.\n",
    "\n",
    "Aqui está o pseudocodigo:\n"
   ]
  },
  {
   "cell_type": "markdown",
   "id": "e3052e39",
   "metadata": {},
   "source": [
    "Inicialize ua lista vazia para armazenar os números primos\n",
    "\n",
    "Para cada número N entre 2 e 30:\n",
    "    Inicialize uma variável eh_primo como verdadeira\n",
    "    Para cada número 1 entre 2 e N/2:\n",
    "        Se N é divisível por i, então:\n",
    "            Altere a variável eh_primo para falso\n",
    "            Para de verificar os outros números\n",
    "    Se a vaiavel eh_primo ainda é verdadeira, adicione N à lista de números primos\n",
    "Imprima a lista de números primos\n",
    "         "
   ]
  },
  {
   "cell_type": "code",
   "execution_count": null,
   "id": "d88f462e",
   "metadata": {},
   "outputs": [],
   "source": []
  },
  {
   "cell_type": "code",
   "execution_count": null,
   "id": "0eca26c6",
   "metadata": {},
   "outputs": [],
   "source": []
  }
 ],
 "metadata": {
  "kernelspec": {
   "display_name": "Python 3 (ipykernel)",
   "language": "python",
   "name": "python3"
  },
  "language_info": {
   "codemirror_mode": {
    "name": "ipython",
    "version": 3
   },
   "file_extension": ".py",
   "mimetype": "text/x-python",
   "name": "python",
   "nbconvert_exporter": "python",
   "pygments_lexer": "ipython3",
   "version": "3.9.13"
  }
 },
 "nbformat": 4,
 "nbformat_minor": 5
}
