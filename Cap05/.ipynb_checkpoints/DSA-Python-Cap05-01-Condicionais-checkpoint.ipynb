{
 "cells": [
  {
   "cell_type": "markdown",
   "id": "67b130a5",
   "metadata": {},
   "source": [
    "### Data Science Academy\n",
    "### Fundamentos de Linguagem Python Para Analise de Dados e Data Science\n",
    "\n",
    "### Capitulo 5 - Condicionais"
   ]
  },
  {
   "cell_type": "code",
   "execution_count": 2,
   "id": "28ce1064",
   "metadata": {},
   "outputs": [
    {
     "name": "stdout",
     "output_type": "stream",
     "text": [
      "Versão da Linguagem Python Usada Neste Jupyter Notebook 3.9.13\n"
     ]
    }
   ],
   "source": [
    "# Versão da linguagem Python\n",
    "from platform import python_version\n",
    "\n",
    "print('Versão da Linguagem Python Usada Neste Jupyter Notebook',python_version())"
   ]
  },
  {
   "cell_type": "markdown",
   "id": "b7f79d8d",
   "metadata": {},
   "source": [
    "##### Condicional if"
   ]
  },
  {
   "cell_type": "code",
   "execution_count": 4,
   "id": "34b7d29f",
   "metadata": {},
   "outputs": [
    {
     "name": "stdout",
     "output_type": "stream",
     "text": [
      "A sentença é verdadeira\n"
     ]
    }
   ],
   "source": [
    "#  condicional if\n",
    "if 5 > 2:\n",
    "    print('A sentença é verdadeira')"
   ]
  },
  {
   "cell_type": "code",
   "execution_count": 5,
   "id": "e9436216",
   "metadata": {},
   "outputs": [
    {
     "name": "stdout",
     "output_type": "stream",
     "text": [
      "A sentença é falsa\n"
     ]
    }
   ],
   "source": [
    "## Condicional if e else\n",
    "if 5 < 2:\n",
    "    print('A sententa é verdadeira')\n",
    "else:\n",
    "    print('A sentença é falsa')"
   ]
  },
  {
   "cell_type": "code",
   "execution_count": 6,
   "id": "0961625b",
   "metadata": {},
   "outputs": [
    {
     "name": "stdout",
     "output_type": "stream",
     "text": [
      "Ação invalida\n"
     ]
    }
   ],
   "source": [
    "#  Condiconal If ... Else com variavel\n",
    "dia = 'Terça-Feira'\n",
    "\n",
    "if dia == \"Segunda\":\n",
    "    print('Ação verdadeira')\n",
    "else:\n",
    "    print('Ação invalida')"
   ]
  },
  {
   "cell_type": "code",
   "execution_count": 7,
   "id": "7efb4247",
   "metadata": {},
   "outputs": [
    {
     "name": "stdout",
     "output_type": "stream",
     "text": [
      "Sem compromisso\n"
     ]
    }
   ],
   "source": [
    "# Podemos usar o operador elif para validar mais de uma condição\n",
    "\n",
    "if dia == 'Segunda':\n",
    "    print('Hoje é segunda!')\n",
    "elif dia == 'Terça feira':\n",
    "    print('Hoje é terça')\n",
    "else:\n",
    "    print('Sem compromisso')"
   ]
  },
  {
   "cell_type": "markdown",
   "id": "9eb9e814",
   "metadata": {},
   "source": [
    "##### Operadores Relacionais"
   ]
  },
  {
   "cell_type": "code",
   "execution_count": 8,
   "id": "0fde739c",
   "metadata": {},
   "outputs": [
    {
     "data": {
      "text/plain": [
       "True"
      ]
     },
     "execution_count": 8,
     "metadata": {},
     "output_type": "execute_result"
    }
   ],
   "source": [
    "6 > 3"
   ]
  },
  {
   "cell_type": "code",
   "execution_count": 9,
   "id": "e264f30b",
   "metadata": {},
   "outputs": [
    {
     "data": {
      "text/plain": [
       "True"
      ]
     },
     "execution_count": 9,
     "metadata": {},
     "output_type": "execute_result"
    }
   ],
   "source": [
    "3 < 7\n"
   ]
  },
  {
   "cell_type": "code",
   "execution_count": 10,
   "id": "f60d6915",
   "metadata": {},
   "outputs": [
    {
     "data": {
      "text/plain": [
       "False"
      ]
     },
     "execution_count": 10,
     "metadata": {},
     "output_type": "execute_result"
    }
   ],
   "source": [
    "4 >=5"
   ]
  },
  {
   "cell_type": "code",
   "execution_count": 11,
   "id": "57bcddf0",
   "metadata": {},
   "outputs": [
    {
     "data": {
      "text/plain": [
       "True"
      ]
     },
     "execution_count": 11,
     "metadata": {},
     "output_type": "execute_result"
    }
   ],
   "source": [
    "4 <=5"
   ]
  },
  {
   "cell_type": "code",
   "execution_count": 12,
   "id": "d4c10bbb",
   "metadata": {},
   "outputs": [
    {
     "name": "stdout",
     "output_type": "stream",
     "text": [
      "Testando Python!\n"
     ]
    }
   ],
   "source": [
    "if 5==5:\n",
    "    print('Testando Python!')"
   ]
  },
  {
   "cell_type": "code",
   "execution_count": 13,
   "id": "2b71209d",
   "metadata": {},
   "outputs": [
    {
     "name": "stdout",
     "output_type": "stream",
     "text": [
      "Parece que Python funciona\n"
     ]
    }
   ],
   "source": [
    "if True:\n",
    "    print('Parece que Python funciona')"
   ]
  },
  {
   "cell_type": "code",
   "execution_count": null,
   "id": "bf425d39",
   "metadata": {},
   "outputs": [],
   "source": [
    "# Atenção com sintaxe \n",
    "if 4 > 3:\n",
    "    print('Tudo funciona!')"
   ]
  },
  {
   "cell_type": "code",
   "execution_count": 14,
   "id": "8176d572",
   "metadata": {},
   "outputs": [
    {
     "ename": "IndentationError",
     "evalue": "expected an indented block (4223458573.py, line 3)",
     "output_type": "error",
     "traceback": [
      "\u001b[1;36m  File \u001b[1;32m\"C:\\Users\\Bruna Cirigaita\\AppData\\Local\\Temp\\ipykernel_10592\\4223458573.py\"\u001b[1;36m, line \u001b[1;32m3\u001b[0m\n\u001b[1;33m    print('Tudo funciona')\u001b[0m\n\u001b[1;37m    ^\u001b[0m\n\u001b[1;31mIndentationError\u001b[0m\u001b[1;31m:\u001b[0m expected an indented block\n"
     ]
    }
   ],
   "source": [
    "## atençaõ com sintaxe\n",
    "if 4 > 3:\n",
    "print('Tudo funciona')"
   ]
  },
  {
   "cell_type": "markdown",
   "id": "549ca9d1",
   "metadata": {},
   "source": [
    "#### -> Fique atento com os espaços entre a margem e cada um dos seus comandos. Falaremos mais sobre indentação ao longo do curso. A indentação faz parte da sintaxe em Python."
   ]
  },
  {
   "cell_type": "markdown",
   "id": "2f90ce30",
   "metadata": {},
   "source": [
    "Confições aninhadas"
   ]
  },
  {
   "cell_type": "code",
   "execution_count": 15,
   "id": "9d5fc345",
   "metadata": {},
   "outputs": [
    {
     "name": "stdout",
     "output_type": "stream",
     "text": [
      "Você pode dirigir!\n"
     ]
    }
   ],
   "source": [
    "idade = 18\n",
    "if idade > 17:\n",
    "    print('Você pode dirigir!')"
   ]
  },
  {
   "cell_type": "code",
   "execution_count": 16,
   "id": "8f51b64f",
   "metadata": {},
   "outputs": [
    {
     "name": "stdout",
     "output_type": "stream",
     "text": [
      "Você está autorizado a entrar.\n"
     ]
    }
   ],
   "source": [
    "nome = 'Bob'\n",
    "\n",
    "if idade > 13:\n",
    "    if nome == 'Bob':\n",
    "        print('Você está autorizado a entrar.')\n",
    "    else:\n",
    "        print('Desculpa!, Você não pode entrar!')"
   ]
  },
  {
   "cell_type": "code",
   "execution_count": 21,
   "id": "7838da2f",
   "metadata": {},
   "outputs": [
    {
     "name": "stdout",
     "output_type": "stream",
     "text": [
      "Entrada autorizada!\n"
     ]
    }
   ],
   "source": [
    "idade = 13\n",
    "nome = 'Bob'\n",
    "\n",
    "if (idade >= 13) and (nome =='Bob'):\n",
    "    print('Entrada autorizada!')\n",
    "else:\n",
    "    print('Entrada negada!')"
   ]
  },
  {
   "cell_type": "code",
   "execution_count": 22,
   "id": "7088021a",
   "metadata": {},
   "outputs": [
    {
     "name": "stdout",
     "output_type": "stream",
     "text": [
      "Entrada autorizada!\n"
     ]
    }
   ],
   "source": [
    "idade = 12\n",
    "nome = 'Bob'\n",
    "\n",
    "if idade >= 13 or nome == 'Bob':\n",
    "    print('Entrada autorizada!')\n",
    "else:\n",
    "    print('Entrada negada!')"
   ]
  },
  {
   "cell_type": "markdown",
   "id": "b06dca16",
   "metadata": {},
   "source": [
    "Operadores Lógicos"
   ]
  },
  {
   "cell_type": "code",
   "execution_count": 24,
   "id": "0f064826",
   "metadata": {},
   "outputs": [
    {
     "name": "stdout",
     "output_type": "stream",
     "text": [
      "Você pode dirigir!\n"
     ]
    }
   ],
   "source": [
    "idade = 18\n",
    "nome = 'Bob'\n",
    "\n",
    "if idade > 17:\n",
    "    print('Você pode dirigir!')"
   ]
  },
  {
   "cell_type": "code",
   "execution_count": 25,
   "id": "d11c6da7",
   "metadata": {},
   "outputs": [
    {
     "name": "stdout",
     "output_type": "stream",
     "text": [
      "Autorizado\n"
     ]
    }
   ],
   "source": [
    "idade = 18\n",
    "\n",
    "if idade > 17 and nome == 'Bob':\n",
    "    print('Autorizado')"
   ]
  },
  {
   "cell_type": "markdown",
   "id": "aa31736d",
   "metadata": {},
   "source": [
    "Os operadores lógicos funcionam assim:\n",
    "    ° Operador and - retorna True se ambas as declarações foram verdadeiras\n",
    "    ° Operador or - retorna True se uma das declarações for verdadeira.\n",
    "    ° Operador not - Inverte o resultado, retorna False se o resultado for True\n",
    "    "
   ]
  },
  {
   "cell_type": "code",
   "execution_count": 26,
   "id": "cd3b56c4",
   "metadata": {},
   "outputs": [
    {
     "name": "stdout",
     "output_type": "stream",
     "text": [
      "Isso está sendo impresso porque as duas conndições são verdadeiras!\n"
     ]
    }
   ],
   "source": [
    "# operador and\n",
    "numero = 4\n",
    "if (numero > 2) and (numero % 2 == 0):\n",
    "    print('Isso está sendo impresso porque as duas conndições são verdadeiras!')"
   ]
  },
  {
   "cell_type": "code",
   "execution_count": 27,
   "id": "6f67a9e6",
   "metadata": {},
   "outputs": [
    {
     "name": "stdout",
     "output_type": "stream",
     "text": [
      "Isso está sendo impresso porque uma das duas é falsa\n"
     ]
    }
   ],
   "source": [
    "# operaador or\n",
    "\n",
    "numero = 4\n",
    "if (numero > 5) and (numero % 2 == 0):\n",
    "    print('Isso está sendo impresso porque as duas condições são verdadeiras!')\n",
    "else:\n",
    "    print('Isso está sendo impresso porque uma das duas é falsa')"
   ]
  },
  {
   "cell_type": "code",
   "execution_count": 28,
   "id": "15eb1279",
   "metadata": {},
   "outputs": [
    {
     "name": "stdout",
     "output_type": "stream",
     "text": [
      "Isso está sendo impresso porque as duas condições são verdadeiras!\n"
     ]
    }
   ],
   "source": [
    "# operador not\n",
    "\n",
    "numero = 4\n",
    "\n",
    "if not (numero > 5) and (numero % 2 == 0):\n",
    "    print('Isso está sendo impresso porque as duas condições são verdadeiras!')\n",
    "else:\n",
    "    print('Isso esta sendo impresso porque uma das duas condições é falsa!')\n"
   ]
  },
  {
   "cell_type": "code",
   "execution_count": 31,
   "id": "b152b27e",
   "metadata": {},
   "outputs": [
    {
     "name": "stdout",
     "output_type": "stream",
     "text": [
      "Isso está sendo impresso porque as duas primeiras condições é verdadeiras ou a terceira é verdadeira\n"
     ]
    }
   ],
   "source": [
    "# operador and, or, not\n",
    "numero = 4\n",
    "\n",
    "if (not(numero > 5) and (numero % 2 == 0)) or (numero == 4):\n",
    "    print('Isso está sendo impresso porque as duas primeiras condições é verdadeiras ou a terceira é verdadeira')\n",
    "else:\n",
    "    print('Nada a declarar')"
   ]
  },
  {
   "cell_type": "code",
   "execution_count": 34,
   "id": "ca305fae",
   "metadata": {},
   "outputs": [
    {
     "name": "stdout",
     "output_type": "stream",
     "text": [
      "Lamento, acho que precisa estudar mais!\n"
     ]
    }
   ],
   "source": [
    "# operadores logicos pt2\n",
    "\n",
    "diciplina = 'Data Science'\n",
    "nota_final = 69.9\n",
    "\n",
    "if diciplina == 'Data Science' and nota_final >= 70:\n",
    "    print('Você foi aprovado!')\n",
    "else:\n",
    "    print('Lamento, acho que precisa estudar mais!')"
   ]
  },
  {
   "cell_type": "code",
   "execution_count": 35,
   "id": "d853c0de",
   "metadata": {},
   "outputs": [
    {
     "name": "stdout",
     "output_type": "stream",
     "text": [
      "Lamento, acho que você precisa estudar mais.\n"
     ]
    }
   ],
   "source": [
    "# Usando mais de uma condição na clausula if\n",
    "\n",
    "materia = 'Data Science'\n",
    "nota_final = 60\n",
    "\n",
    "if  materia == 'Data Science' and nota_final >=70:\n",
    "    print('Aprovado!')\n",
    "else:\n",
    "    print('Lamento, acho que você precisa estudar mais.')"
   ]
  },
  {
   "cell_type": "code",
   "execution_count": 36,
   "id": "4acc22ca",
   "metadata": {},
   "outputs": [
    {
     "name": "stdout",
     "output_type": "stream",
     "text": [
      "Você foi apreovado!\n"
     ]
    }
   ],
   "source": [
    "# usando mais de uma condição na cláusula if e introdução Placeholders\n",
    "\n",
    "disciplina = 'Data Science'\n",
    "nota_final = 90\n",
    "semestre = 2\n",
    "\n",
    "if disciplina == 'Data Science' and nota_final >= 80 and semestre != 1:\n",
    "    print('Você foi aprovado!')\n",
    "else:\n",
    "    print(reprovado)"
   ]
  },
  {
   "cell_type": "code",
   "execution_count": null,
   "id": "c2aefad8",
   "metadata": {},
   "outputs": [],
   "source": []
  },
  {
   "cell_type": "code",
   "execution_count": null,
   "id": "a0489c0b",
   "metadata": {},
   "outputs": [],
   "source": []
  },
  {
   "cell_type": "code",
   "execution_count": null,
   "id": "5f1ab336",
   "metadata": {},
   "outputs": [],
   "source": []
  },
  {
   "cell_type": "code",
   "execution_count": null,
   "id": "d85bc27c",
   "metadata": {},
   "outputs": [],
   "source": []
  },
  {
   "cell_type": "code",
   "execution_count": null,
   "id": "a066dcca",
   "metadata": {},
   "outputs": [],
   "source": []
  }
 ],
 "metadata": {
  "kernelspec": {
   "display_name": "Python 3 (ipykernel)",
   "language": "python",
   "name": "python3"
  },
  "language_info": {
   "codemirror_mode": {
    "name": "ipython",
    "version": 3
   },
   "file_extension": ".py",
   "mimetype": "text/x-python",
   "name": "python",
   "nbconvert_exporter": "python",
   "pygments_lexer": "ipython3",
   "version": "3.9.13"
  }
 },
 "nbformat": 4,
 "nbformat_minor": 5
}
