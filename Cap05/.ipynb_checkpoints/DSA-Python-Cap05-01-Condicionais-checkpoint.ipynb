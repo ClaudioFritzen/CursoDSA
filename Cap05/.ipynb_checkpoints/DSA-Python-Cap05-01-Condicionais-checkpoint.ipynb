{
 "cells": [
  {
   "cell_type": "markdown",
   "id": "eceff63d",
   "metadata": {},
   "source": [
    "### Data Science Academy\n",
    "### Fundamentos de Linguagem Python Para Analise de Dados e Data Science\n",
    "\n",
    "### Capitulo 5 - Condicionais"
   ]
  },
  {
   "cell_type": "code",
   "execution_count": 2,
   "id": "b98c5eab",
   "metadata": {},
   "outputs": [
    {
     "name": "stdout",
     "output_type": "stream",
     "text": [
      "Versão da Linguagem Python Usada Neste Jupyter Notebook 3.9.13\n"
     ]
    }
   ],
   "source": [
    "# Versão da linguagem Python\n",
    "from platform import python_version\n",
    "\n",
    "print('Versão da Linguagem Python Usada Neste Jupyter Notebook',python_version())"
   ]
  },
  {
   "cell_type": "markdown",
   "id": "be1d2148",
   "metadata": {},
   "source": [
    "##### Condicional if"
   ]
  },
  {
   "cell_type": "code",
   "execution_count": 4,
   "id": "03d03bda",
   "metadata": {},
   "outputs": [
    {
     "name": "stdout",
     "output_type": "stream",
     "text": [
      "A sentença é verdadeira\n"
     ]
    }
   ],
   "source": [
    "#  condicional if\n",
    "if 5 > 2:\n",
    "    print('A sentença é verdadeira')"
   ]
  },
  {
   "cell_type": "code",
   "execution_count": 5,
   "id": "b2f40ee2",
   "metadata": {},
   "outputs": [
    {
     "name": "stdout",
     "output_type": "stream",
     "text": [
      "A sentença é falsa\n"
     ]
    }
   ],
   "source": [
    "## Condicional if e else\n",
    "if 5 < 2:\n",
    "    print('A sententa é verdadeira')\n",
    "else:\n",
    "    print('A sentença é falsa')"
   ]
  },
  {
   "cell_type": "code",
   "execution_count": 6,
   "id": "5a2fecf9",
   "metadata": {},
   "outputs": [
    {
     "name": "stdout",
     "output_type": "stream",
     "text": [
      "Ação invalida\n"
     ]
    }
   ],
   "source": [
    "#  Condiconal If ... Else com variavel\n",
    "dia = 'Terça-Feira'\n",
    "\n",
    "if dia == \"Segunda\":\n",
    "    print('Ação verdadeira')\n",
    "else:\n",
    "    print('Ação invalida')"
   ]
  },
  {
   "cell_type": "code",
   "execution_count": 7,
   "id": "1dab814f",
   "metadata": {},
   "outputs": [
    {
     "name": "stdout",
     "output_type": "stream",
     "text": [
      "Sem compromisso\n"
     ]
    }
   ],
   "source": [
    "# Podemos usar o operador elif para validar mais de uma condição\n",
    "\n",
    "if dia == 'Segunda':\n",
    "    print('Hoje é segunda!')\n",
    "elif dia == 'Terça feira':\n",
    "    print('Hoje é terça')\n",
    "else:\n",
    "    print('Sem compromisso')"
   ]
  },
  {
   "cell_type": "markdown",
   "id": "909c8dc0",
   "metadata": {},
   "source": [
    "##### Operadores Relacionais"
   ]
  },
  {
   "cell_type": "code",
   "execution_count": 8,
   "id": "9d892266",
   "metadata": {},
   "outputs": [
    {
     "data": {
      "text/plain": [
       "True"
      ]
     },
     "execution_count": 8,
     "metadata": {},
     "output_type": "execute_result"
    }
   ],
   "source": [
    "6 > 3"
   ]
  },
  {
   "cell_type": "code",
   "execution_count": 9,
   "id": "20fb413d",
   "metadata": {},
   "outputs": [
    {
     "data": {
      "text/plain": [
       "True"
      ]
     },
     "execution_count": 9,
     "metadata": {},
     "output_type": "execute_result"
    }
   ],
   "source": [
    "3 < 7\n"
   ]
  },
  {
   "cell_type": "code",
   "execution_count": 10,
   "id": "41033d33",
   "metadata": {},
   "outputs": [
    {
     "data": {
      "text/plain": [
       "False"
      ]
     },
     "execution_count": 10,
     "metadata": {},
     "output_type": "execute_result"
    }
   ],
   "source": [
    "4 >=5"
   ]
  },
  {
   "cell_type": "code",
   "execution_count": 11,
   "id": "1b016b00",
   "metadata": {},
   "outputs": [
    {
     "data": {
      "text/plain": [
       "True"
      ]
     },
     "execution_count": 11,
     "metadata": {},
     "output_type": "execute_result"
    }
   ],
   "source": [
    "4 <=5"
   ]
  },
  {
   "cell_type": "code",
   "execution_count": 12,
   "id": "3f16b54b",
   "metadata": {},
   "outputs": [
    {
     "name": "stdout",
     "output_type": "stream",
     "text": [
      "Testando Python!\n"
     ]
    }
   ],
   "source": [
    "if 5==5:\n",
    "    print('Testando Python!')"
   ]
  },
  {
   "cell_type": "code",
   "execution_count": 13,
   "id": "bde32d21",
   "metadata": {},
   "outputs": [
    {
     "name": "stdout",
     "output_type": "stream",
     "text": [
      "Parece que Python funciona\n"
     ]
    }
   ],
   "source": [
    "if True:\n",
    "    print('Parece que Python funciona')"
   ]
  },
  {
   "cell_type": "code",
   "execution_count": null,
   "id": "0f15fc70",
   "metadata": {},
   "outputs": [],
   "source": [
    "# Atenção com sintaxe \n",
    "if 4 > 3:\n",
    "    print('Tudo funciona!')"
   ]
  },
  {
   "cell_type": "code",
   "execution_count": 14,
   "id": "f4981ae9",
   "metadata": {},
   "outputs": [
    {
     "ename": "IndentationError",
     "evalue": "expected an indented block (4223458573.py, line 3)",
     "output_type": "error",
     "traceback": [
      "\u001b[1;36m  File \u001b[1;32m\"C:\\Users\\Bruna Cirigaita\\AppData\\Local\\Temp\\ipykernel_10592\\4223458573.py\"\u001b[1;36m, line \u001b[1;32m3\u001b[0m\n\u001b[1;33m    print('Tudo funciona')\u001b[0m\n\u001b[1;37m    ^\u001b[0m\n\u001b[1;31mIndentationError\u001b[0m\u001b[1;31m:\u001b[0m expected an indented block\n"
     ]
    }
   ],
   "source": [
    "## atençaõ com sintaxe\n",
    "if 4 > 3:\n",
    "print('Tudo funciona')"
   ]
  },
  {
   "cell_type": "markdown",
   "id": "5378efb4",
   "metadata": {},
   "source": [
    "#### -> Fique atento com os espaços entre a margem e cada um dos seus comandos. Falaremos mais sobre indentação ao longo do curso. A indentação faz parte da sintaxe em Python."
   ]
  },
  {
   "cell_type": "markdown",
   "id": "ffa3f54e",
   "metadata": {},
   "source": [
    "Confições aninhadas"
   ]
  },
  {
   "cell_type": "code",
   "execution_count": 15,
   "id": "ad496166",
   "metadata": {},
   "outputs": [
    {
     "name": "stdout",
     "output_type": "stream",
     "text": [
      "Você pode dirigir!\n"
     ]
    }
   ],
   "source": [
    "idade = 18\n",
    "if idade > 17:\n",
    "    print('Você pode dirigir!')"
   ]
  },
  {
   "cell_type": "code",
   "execution_count": 16,
   "id": "28b308ab",
   "metadata": {},
   "outputs": [
    {
     "name": "stdout",
     "output_type": "stream",
     "text": [
      "Você está autorizado a entrar.\n"
     ]
    }
   ],
   "source": [
    "nome = 'Bob'\n",
    "\n",
    "if idade > 13:\n",
    "    if nome == 'Bob':\n",
    "        print('Você está autorizado a entrar.')\n",
    "    else:\n",
    "        print('Desculpa!, Você não pode entrar!')"
   ]
  },
  {
   "cell_type": "code",
   "execution_count": 21,
   "id": "b28ae608",
   "metadata": {},
   "outputs": [
    {
     "name": "stdout",
     "output_type": "stream",
     "text": [
      "Entrada autorizada!\n"
     ]
    }
   ],
   "source": [
    "idade = 13\n",
    "nome = 'Bob'\n",
    "\n",
    "if (idade >= 13) and (nome =='Bob'):\n",
    "    print('Entrada autorizada!')\n",
    "else:\n",
    "    print('Entrada negada!')"
   ]
  },
  {
   "cell_type": "code",
   "execution_count": 22,
   "id": "f61ebc6f",
   "metadata": {},
   "outputs": [
    {
     "name": "stdout",
     "output_type": "stream",
     "text": [
      "Entrada autorizada!\n"
     ]
    }
   ],
   "source": [
    "idade = 12\n",
    "nome = 'Bob'\n",
    "\n",
    "if idade >= 13 or nome == 'Bob':\n",
    "    print('Entrada autorizada!')\n",
    "else:\n",
    "    print('Entrada negada!')"
   ]
  },
  {
   "cell_type": "markdown",
   "id": "93102312",
   "metadata": {},
   "source": [
    "Operadores Lógicos"
   ]
  },
  {
   "cell_type": "code",
   "execution_count": null,
   "id": "0bd2bfa1",
   "metadata": {},
   "outputs": [],
   "source": []
  },
  {
   "cell_type": "code",
   "execution_count": null,
   "id": "febeb232",
   "metadata": {},
   "outputs": [],
   "source": []
  }
 ],
 "metadata": {
  "kernelspec": {
   "display_name": "Python 3 (ipykernel)",
   "language": "python",
   "name": "python3"
  },
  "language_info": {
   "codemirror_mode": {
    "name": "ipython",
    "version": 3
   },
   "file_extension": ".py",
   "mimetype": "text/x-python",
   "name": "python",
   "nbconvert_exporter": "python",
   "pygments_lexer": "ipython3",
   "version": "3.9.13"
  }
 },
 "nbformat": 4,
 "nbformat_minor": 5
}
