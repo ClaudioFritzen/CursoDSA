{
 "cells": [
  {
   "cell_type": "markdown",
   "id": "b0141070",
   "metadata": {},
   "source": [
    "Data Science Academy\n",
    "\n",
    "Fundamentos de Linguagem Python Para Analise de Dados e Data Science\n",
    "\n",
    "Capitulo 5 - Loop For"
   ]
  },
  {
   "cell_type": "code",
   "execution_count": 2,
   "id": "050c3285",
   "metadata": {},
   "outputs": [
    {
     "name": "stdout",
     "output_type": "stream",
     "text": [
      "Sua versão do Python é  3.9.13\n"
     ]
    }
   ],
   "source": [
    "# Versão da linguagem python\n",
    "\n",
    "from platform import python_version\n",
    "\n",
    "print('Sua versão do Python é ', python_version())"
   ]
  },
  {
   "cell_type": "markdown",
   "id": "ad8ed82b",
   "metadata": {},
   "source": [
    "Loop For"
   ]
  },
  {
   "cell_type": "code",
   "execution_count": 3,
   "id": "a7a18fb0",
   "metadata": {},
   "outputs": [
    {
     "name": "stdout",
     "output_type": "stream",
     "text": [
      "1\n",
      "2\n",
      "43\n",
      "3\n"
     ]
    }
   ],
   "source": [
    "# Criando uma tupla e imprimindo cada um dos valores\n",
    "\n",
    "a = (1,2,43,3)\n",
    "\n",
    "for i in a:\n",
    "    print(i)"
   ]
  },
  {
   "cell_type": "code",
   "execution_count": 4,
   "id": "c54be9df",
   "metadata": {},
   "outputs": [
    {
     "name": "stdout",
     "output_type": "stream",
     "text": [
      "Claudio\n",
      "Antonio\n",
      "Bruna\n"
     ]
    }
   ],
   "source": [
    "# Criando uma lista e imprimindo cada um dos valores\n",
    "listadeStrings = [ 'Claudio', 'Antonio', 'Bruna']\n",
    "\n",
    "for nomes in listadeStrings:\n",
    "    print(nomes)"
   ]
  },
  {
   "cell_type": "code",
   "execution_count": 6,
   "id": "d379783c",
   "metadata": {},
   "outputs": [
    {
     "name": "stdout",
     "output_type": "stream",
     "text": [
      "0\n",
      "1\n",
      "2\n",
      "3\n",
      "4\n",
      "5\n"
     ]
    }
   ],
   "source": [
    "# Imprimindo os valores no intervalo entre 0 e 5 (exclusive)\n",
    "\n",
    "for contador in range(0,6):\n",
    "    print(contador)"
   ]
  },
  {
   "cell_type": "code",
   "execution_count": 7,
   "id": "a2e4e77c",
   "metadata": {},
   "outputs": [
    {
     "name": "stdout",
     "output_type": "stream",
     "text": [
      "2\n",
      "4\n",
      "6\n",
      "8\n",
      "10\n"
     ]
    }
   ],
   "source": [
    "## Imprimindo os números pares da lista de números\n",
    "\n",
    "lista = [1,2,3,4,5,6,7,8,9,10,11]\n",
    "\n",
    "for num in lista:\n",
    "    if num %2 == 0:\n",
    "        print(num)"
   ]
  },
  {
   "cell_type": "code",
   "execution_count": 10,
   "id": "a616e8a2",
   "metadata": {},
   "outputs": [
    {
     "name": "stdout",
     "output_type": "stream",
     "text": [
      "0\n",
      "7\n",
      "14\n",
      "21\n",
      "28\n",
      "35\n",
      "42\n",
      "49\n",
      "56\n",
      "63\n",
      "70\n",
      "77\n",
      "84\n",
      "91\n",
      "98\n"
     ]
    }
   ],
   "source": [
    "# Listando os números no intervalo entre 0 e 101, com incremento em 2\n",
    "\n",
    "for i in range(0, 101,7):\n",
    "    print(i)"
   ]
  },
  {
   "cell_type": "code",
   "execution_count": 11,
   "id": "9bec9845",
   "metadata": {},
   "outputs": [
    {
     "name": "stdout",
     "output_type": "stream",
     "text": [
      "P\n",
      "y\n",
      "t\n",
      "h\n",
      "o\n",
      "n\n",
      " \n",
      "é\n",
      " \n",
      "u\n",
      "m\n",
      "a\n",
      " \n",
      "l\n",
      "i\n",
      "m\n",
      "g\n",
      "u\n",
      "a\n",
      "g\n",
      "e\n",
      "m\n",
      " \n",
      "d\n",
      "e\n",
      " \n",
      "p\n",
      "r\n",
      "o\n",
      "g\n",
      "r\n",
      "a\n",
      "m\n",
      "a\n",
      "ç\n",
      "ã\n",
      "o\n",
      " \n",
      "d\n",
      "i\n",
      "v\n",
      "e\n",
      "r\n",
      "t\n",
      "i\n",
      "d\n",
      "a\n",
      "!\n"
     ]
    }
   ],
   "source": [
    "# Strings também são seguencias\n",
    "for caracter in 'Python é uma limguagem de programação divertida!':\n",
    "    print (caracter)"
   ]
  },
  {
   "cell_type": "markdown",
   "id": "152246a8",
   "metadata": {},
   "source": [
    "Loop For Aninhado"
   ]
  },
  {
   "cell_type": "code",
   "execution_count": 13,
   "id": "c5cb4754",
   "metadata": {},
   "outputs": [
    {
     "name": "stdout",
     "output_type": "stream",
     "text": [
      "\n",
      " 0\n",
      "\n",
      " 0\n",
      "\n",
      " 0\n",
      "----\n",
      "\n",
      " 1\n",
      "\n",
      " 2\n",
      "\n",
      " 3\n",
      "----\n",
      "\n",
      " 2\n",
      "\n",
      " 4\n",
      "\n",
      " 6\n",
      "----\n",
      "\n",
      " 3\n",
      "\n",
      " 6\n",
      "\n",
      " 9\n",
      "----\n",
      "\n",
      " 4\n",
      "\n",
      " 8\n",
      "\n",
      " 12\n",
      "----\n"
     ]
    }
   ],
   "source": [
    "# Loop Aninhado\n",
    "\n",
    "lista1 = [0,1,2,3,4]\n",
    "lista2 = [1,2,3]\n",
    "\n",
    "# loop externo\n",
    "\n",
    "for elemento_lista1 in lista1:\n",
    "    # loop interno\n",
    "    for elemento_lista2 in lista2:\n",
    "        print('\\n', elemento_lista1 * elemento_lista2)\n",
    "    print('----')"
   ]
  },
  {
   "cell_type": "code",
   "execution_count": 46,
   "id": "c58e07c8",
   "metadata": {},
   "outputs": [
    {
     "name": "stdout",
     "output_type": "stream",
     "text": [
      "O número 47 está presente nas duas listas\n"
     ]
    }
   ],
   "source": [
    "## o numero 47 aparece nas dua listas?\n",
    "\n",
    "lista1 = [10,18,24,39, 47]\n",
    "lista2 = [30,78,43,55,13, 47]\n",
    "\n",
    "# loop externo\n",
    "for (loop_lista1) in (lista1):\n",
    "    \n",
    "    for (loop_lista2) in (lista2):\n",
    "        \n",
    "        if loop_lista1 == 47 and loop_lista2 == 47:\n",
    "            print('O número 47 está presente nas duas listas')\n",
    "       "
   ]
  },
  {
   "cell_type": "code",
   "execution_count": 48,
   "id": "9842f969",
   "metadata": {},
   "outputs": [
    {
     "name": "stdout",
     "output_type": "stream",
     "text": [
      "A soma dos números pares das duas listas é igual a 160\n"
     ]
    }
   ],
   "source": [
    "# somar os numeros pares da primeira lista com números pares da segunda lista\n",
    "\n",
    "lista1 = [10,3,4,24,39,47, 2]\n",
    "lista2 = [32, 89, 47, 76, 12]\n",
    "soma = 0\n",
    "\n",
    "# loop externo \n",
    "for lista in (lista1, lista2):\n",
    "    # externo\n",
    "    for num in lista:\n",
    "        \n",
    "        # condicional\n",
    "        if num % 2 == 0:\n",
    "            soma += num\n",
    "\n",
    "print('A soma dos números pares das duas listas é igual a', soma)"
   ]
  },
  {
   "cell_type": "code",
   "execution_count": 52,
   "id": "56e5687b",
   "metadata": {},
   "outputs": [
    {
     "name": "stdout",
     "output_type": "stream",
     "text": [
      "A soma dos números impares das duas listas é igual a 307\n"
     ]
    }
   ],
   "source": [
    "# somar os numeros impares da primeira lista com números impares da segunda lista\n",
    "\n",
    "lista1 = [10,3,4,24,39,47, 2]\n",
    "lista2 = [32, 89, 47, 76, 12]\n",
    "soma = 0\n",
    "\n",
    "# loop externo \n",
    "for lista in (lista1, lista2):\n",
    "    # externo\n",
    "    for num in lista:\n",
    "        \n",
    "        # condicional\n",
    "        if num % 3 != 0 or num % 3 == 1:\n",
    "            soma += num\n",
    "\n",
    "print('A soma dos números impares das duas listas é igual a', soma)"
   ]
  },
  {
   "cell_type": "code",
   "execution_count": null,
   "id": "f53963b6",
   "metadata": {},
   "outputs": [],
   "source": []
  },
  {
   "cell_type": "code",
   "execution_count": null,
   "id": "3da72599",
   "metadata": {},
   "outputs": [],
   "source": []
  },
  {
   "cell_type": "code",
   "execution_count": null,
   "id": "d6206349",
   "metadata": {},
   "outputs": [],
   "source": []
  },
  {
   "cell_type": "code",
   "execution_count": null,
   "id": "9039aa47",
   "metadata": {},
   "outputs": [],
   "source": []
  },
  {
   "cell_type": "code",
   "execution_count": null,
   "id": "1f3a163c",
   "metadata": {},
   "outputs": [],
   "source": []
  }
 ],
 "metadata": {
  "kernelspec": {
   "display_name": "Python 3 (ipykernel)",
   "language": "python",
   "name": "python3"
  },
  "language_info": {
   "codemirror_mode": {
    "name": "ipython",
    "version": 3
   },
   "file_extension": ".py",
   "mimetype": "text/x-python",
   "name": "python",
   "nbconvert_exporter": "python",
   "pygments_lexer": "ipython3",
   "version": "3.9.13"
  }
 },
 "nbformat": 4,
 "nbformat_minor": 5
}
