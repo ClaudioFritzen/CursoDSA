{
 "cells": [
  {
   "cell_type": "markdown",
   "id": "60e96cb1",
   "metadata": {},
   "source": [
    "Data Science Academy\n",
    "\n",
    "Fundamentos de Linguagem Python Para Analise de Dados e Data Science\n",
    "\n",
    "Capitulo 5 - Loop For"
   ]
  },
  {
   "cell_type": "code",
   "execution_count": 2,
   "id": "3cfe32b5",
   "metadata": {},
   "outputs": [
    {
     "name": "stdout",
     "output_type": "stream",
     "text": [
      "Sua versão do Python é  3.9.13\n"
     ]
    }
   ],
   "source": [
    "# Versão da linguagem python\n",
    "\n",
    "from platform import python_version\n",
    "\n",
    "print('Sua versão do Python é ', python_version())"
   ]
  },
  {
   "cell_type": "markdown",
   "id": "37f0cf10",
   "metadata": {},
   "source": [
    "Loop For"
   ]
  },
  {
   "cell_type": "code",
   "execution_count": 3,
   "id": "5ae1717c",
   "metadata": {},
   "outputs": [
    {
     "name": "stdout",
     "output_type": "stream",
     "text": [
      "1\n",
      "2\n",
      "43\n",
      "3\n"
     ]
    }
   ],
   "source": [
    "# Criando uma tupla e imprimindo cada um dos valores\n",
    "\n",
    "a = (1,2,43,3)\n",
    "\n",
    "for i in a:\n",
    "    print(i)"
   ]
  },
  {
   "cell_type": "code",
   "execution_count": 4,
   "id": "3a2f1627",
   "metadata": {},
   "outputs": [
    {
     "name": "stdout",
     "output_type": "stream",
     "text": [
      "Claudio\n",
      "Antonio\n",
      "Bruna\n"
     ]
    }
   ],
   "source": [
    "# Criando uma lista e imprimindo cada um dos valores\n",
    "listadeStrings = [ 'Claudio', 'Antonio', 'Bruna']\n",
    "\n",
    "for nomes in listadeStrings:\n",
    "    print(nomes)"
   ]
  },
  {
   "cell_type": "code",
   "execution_count": 6,
   "id": "19e45d98",
   "metadata": {},
   "outputs": [
    {
     "name": "stdout",
     "output_type": "stream",
     "text": [
      "0\n",
      "1\n",
      "2\n",
      "3\n",
      "4\n",
      "5\n"
     ]
    }
   ],
   "source": [
    "# Imprimindo os valores no intervalo entre 0 e 5 (exclusive)\n",
    "\n",
    "for contador in range(0,6):\n",
    "    print(contador)"
   ]
  },
  {
   "cell_type": "code",
   "execution_count": 7,
   "id": "82cfc53d",
   "metadata": {},
   "outputs": [
    {
     "name": "stdout",
     "output_type": "stream",
     "text": [
      "2\n",
      "4\n",
      "6\n",
      "8\n",
      "10\n"
     ]
    }
   ],
   "source": [
    "## Imprimindo os números pares da lista de números\n",
    "\n",
    "lista = [1,2,3,4,5,6,7,8,9,10,11]\n",
    "\n",
    "for num in lista:\n",
    "    if num %2 == 0:\n",
    "        print(num)"
   ]
  },
  {
   "cell_type": "code",
   "execution_count": 10,
   "id": "66225adc",
   "metadata": {},
   "outputs": [
    {
     "name": "stdout",
     "output_type": "stream",
     "text": [
      "0\n",
      "7\n",
      "14\n",
      "21\n",
      "28\n",
      "35\n",
      "42\n",
      "49\n",
      "56\n",
      "63\n",
      "70\n",
      "77\n",
      "84\n",
      "91\n",
      "98\n"
     ]
    }
   ],
   "source": [
    "# Listando os números no intervalo entre 0 e 101, com incremento em 2\n",
    "\n",
    "for i in range(0, 101,7):\n",
    "    print(i)"
   ]
  },
  {
   "cell_type": "code",
   "execution_count": 11,
   "id": "e4bb9717",
   "metadata": {},
   "outputs": [
    {
     "name": "stdout",
     "output_type": "stream",
     "text": [
      "P\n",
      "y\n",
      "t\n",
      "h\n",
      "o\n",
      "n\n",
      " \n",
      "é\n",
      " \n",
      "u\n",
      "m\n",
      "a\n",
      " \n",
      "l\n",
      "i\n",
      "m\n",
      "g\n",
      "u\n",
      "a\n",
      "g\n",
      "e\n",
      "m\n",
      " \n",
      "d\n",
      "e\n",
      " \n",
      "p\n",
      "r\n",
      "o\n",
      "g\n",
      "r\n",
      "a\n",
      "m\n",
      "a\n",
      "ç\n",
      "ã\n",
      "o\n",
      " \n",
      "d\n",
      "i\n",
      "v\n",
      "e\n",
      "r\n",
      "t\n",
      "i\n",
      "d\n",
      "a\n",
      "!\n"
     ]
    }
   ],
   "source": [
    "# Strings também são seguencias\n",
    "for caracter in 'Python é uma limguagem de programação divertida!':\n",
    "    print (caracter)"
   ]
  },
  {
   "cell_type": "markdown",
   "id": "a9ddf533",
   "metadata": {},
   "source": [
    "Loop For Aninhado"
   ]
  },
  {
   "cell_type": "code",
   "execution_count": 13,
   "id": "59ce129d",
   "metadata": {},
   "outputs": [
    {
     "name": "stdout",
     "output_type": "stream",
     "text": [
      "\n",
      " 0\n",
      "\n",
      " 0\n",
      "\n",
      " 0\n",
      "----\n",
      "\n",
      " 1\n",
      "\n",
      " 2\n",
      "\n",
      " 3\n",
      "----\n",
      "\n",
      " 2\n",
      "\n",
      " 4\n",
      "\n",
      " 6\n",
      "----\n",
      "\n",
      " 3\n",
      "\n",
      " 6\n",
      "\n",
      " 9\n",
      "----\n",
      "\n",
      " 4\n",
      "\n",
      " 8\n",
      "\n",
      " 12\n",
      "----\n"
     ]
    }
   ],
   "source": [
    "# Loop Aninhado\n",
    "\n",
    "lista1 = [0,1,2,3,4]\n",
    "lista2 = [1,2,3]\n",
    "\n",
    "# loop externo\n",
    "\n",
    "for elemento_lista1 in lista1:\n",
    "    # loop interno\n",
    "    for elemento_lista2 in lista2:\n",
    "        print('\\n', elemento_lista1 * elemento_lista2)\n",
    "    print('----')"
   ]
  },
  {
   "cell_type": "code",
   "execution_count": 46,
   "id": "22a1b78d",
   "metadata": {},
   "outputs": [
    {
     "name": "stdout",
     "output_type": "stream",
     "text": [
      "O número 47 está presente nas duas listas\n"
     ]
    }
   ],
   "source": [
    "## o numero 47 aparece nas dua listas?\n",
    "\n",
    "lista1 = [10,18,24,39, 47]\n",
    "lista2 = [30,78,43,55,13, 47]\n",
    "\n",
    "# loop externo\n",
    "for (loop_lista1) in (lista1):\n",
    "    \n",
    "    for (loop_lista2) in (lista2):\n",
    "        \n",
    "        if loop_lista1 == 47 and loop_lista2 == 47:\n",
    "            print('O número 47 está presente nas duas listas')\n",
    "       "
   ]
  },
  {
   "cell_type": "code",
   "execution_count": 48,
   "id": "0ba4d38d",
   "metadata": {},
   "outputs": [
    {
     "name": "stdout",
     "output_type": "stream",
     "text": [
      "A soma dos números pares das duas listas é igual a 160\n"
     ]
    }
   ],
   "source": [
    "# somar os numeros pares da primeira lista com números pares da segunda lista\n",
    "\n",
    "lista1 = [10,3,4,24,39,47, 2]\n",
    "lista2 = [32, 89, 47, 76, 12]\n",
    "soma = 0\n",
    "\n",
    "# loop externo \n",
    "for lista in (lista1, lista2):\n",
    "    # externo\n",
    "    for num in lista:\n",
    "        \n",
    "        # condicional\n",
    "        if num % 2 == 0:\n",
    "            soma += num\n",
    "\n",
    "print('A soma dos números pares das duas listas é igual a', soma)"
   ]
  },
  {
   "cell_type": "code",
   "execution_count": 53,
   "id": "9ebe601d",
   "metadata": {},
   "outputs": [
    {
     "name": "stdout",
     "output_type": "stream",
     "text": [
      "A soma dos números impares das duas listas é igual a 307\n"
     ]
    }
   ],
   "source": [
    "# somar os numeros impares da primeira lista com números impares da segunda lista\n",
    "\n",
    "lista1 = [10,3,4,24,39,47, 2]\n",
    "lista2 = [32, 89, 47, 76, 12]\n",
    "soma = 0\n",
    "\n",
    "# loop externo \n",
    "for lista in (lista1, lista2):\n",
    "    # externo\n",
    "    for num in lista:\n",
    "        \n",
    "        # condicional\n",
    "        if num % 3 != 0 or num % 3 == 1:\n",
    "            soma += num\n",
    "\n",
    "print('A soma dos números impares das duas listas é igual a', soma)"
   ]
  },
  {
   "cell_type": "code",
   "execution_count": 54,
   "id": "9747a159",
   "metadata": {},
   "outputs": [
    {
     "data": {
      "text/plain": [
       "[10, 3, 4, 24, 39, 47, 2, 32, 89, 47, 76, 12]"
      ]
     },
     "execution_count": 54,
     "metadata": {},
     "output_type": "execute_result"
    }
   ],
   "source": [
    "# lista podem ser concatenadas em Python\n",
    "lista1+lista2"
   ]
  },
  {
   "cell_type": "code",
   "execution_count": 55,
   "id": "48c2cf80",
   "metadata": {},
   "outputs": [
    {
     "name": "stdout",
     "output_type": "stream",
     "text": [
      "Soma dos valores pares:  170\n"
     ]
    }
   ],
   "source": [
    "# some os numeros pares da primeira lista com os numeros pares da segunda lista\n",
    "lista1 = [10, 16, 24, 39, 47]\n",
    "lista2 = [32, 89, 47, 76, 12]\n",
    "soma = 0\n",
    "\n",
    "for num in lista1+lista2:\n",
    "    if num % 2 == 0:\n",
    "        soma += num\n",
    "print('Soma dos valores pares: ', soma)"
   ]
  },
  {
   "cell_type": "code",
   "execution_count": 56,
   "id": "c06ae803",
   "metadata": {},
   "outputs": [
    {
     "name": "stdout",
     "output_type": "stream",
     "text": [
      "Maior número:  215\n"
     ]
    }
   ],
   "source": [
    "# loop em lista de listas (matrizes) para encontrar o maior número\n",
    "\n",
    "matrix = [ [42, 23, 34], [100, 215, 114], [10.1, 98.7, 12.3]]\n",
    "maior_numero = 0\n",
    "\n",
    "# loop externo\n",
    "for linha in matrix:\n",
    "    # loop interno\n",
    "    for num in linha:\n",
    "        \n",
    "        # conficional\n",
    "        if num > maior_numero:\n",
    "            maior_numero = num\n",
    "print('Maior número: ', maior_numero)\n",
    "    "
   ]
  },
  {
   "cell_type": "code",
   "execution_count": 57,
   "id": "fdbf5d8f",
   "metadata": {},
   "outputs": [
    {
     "name": "stdout",
     "output_type": "stream",
     "text": [
      "k1\n",
      "k2\n",
      "k3\n"
     ]
    }
   ],
   "source": [
    "# listando as chaves de um dicionario\n",
    "\n",
    "dict = {'k1':'Python', \n",
    "        'k2': 'R',\n",
    "        'k3': 'Scala'\n",
    "       }\n",
    "for item in dict:\n",
    "    print(item)"
   ]
  },
  {
   "cell_type": "code",
   "execution_count": 59,
   "id": "ef86873e",
   "metadata": {},
   "outputs": [
    {
     "name": "stdout",
     "output_type": "stream",
     "text": [
      "k1 Python\n",
      "k2 R\n",
      "k3 Scala\n"
     ]
    }
   ],
   "source": [
    "# imprimindo chave e valor do dicionario. Usando o metodo items() para retornar os itens de um dicionario\n",
    "\n",
    "for k,v in dict.items():\n",
    "    print(k,v)"
   ]
  },
  {
   "cell_type": "code",
   "execution_count": null,
   "id": "86a39729",
   "metadata": {},
   "outputs": [],
   "source": []
  },
  {
   "cell_type": "code",
   "execution_count": null,
   "id": "aa0f0934",
   "metadata": {},
   "outputs": [],
   "source": []
  },
  {
   "cell_type": "code",
   "execution_count": null,
   "id": "9476e610",
   "metadata": {},
   "outputs": [],
   "source": []
  }
 ],
 "metadata": {
  "kernelspec": {
   "display_name": "Python 3 (ipykernel)",
   "language": "python",
   "name": "python3"
  },
  "language_info": {
   "codemirror_mode": {
    "name": "ipython",
    "version": 3
   },
   "file_extension": ".py",
   "mimetype": "text/x-python",
   "name": "python",
   "nbconvert_exporter": "python",
   "pygments_lexer": "ipython3",
   "version": "3.9.13"
  }
 },
 "nbformat": 4,
 "nbformat_minor": 5
}
