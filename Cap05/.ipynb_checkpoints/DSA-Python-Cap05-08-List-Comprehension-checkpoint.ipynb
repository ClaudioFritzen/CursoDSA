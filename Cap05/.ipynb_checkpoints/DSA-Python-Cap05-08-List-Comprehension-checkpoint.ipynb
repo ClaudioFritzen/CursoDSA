{
 "cells": [
  {
   "cell_type": "markdown",
   "id": "6ca0f49d",
   "metadata": {},
   "source": [
    "Data Science Academy\n",
    "\n",
    "Fundamentos de Linguagem Python Para Analise de Dados e Data Science\n",
    "\n",
    "Capitulo 5 - List Comprehension\n",
    "\n"
   ]
  },
  {
   "cell_type": "code",
   "execution_count": 2,
   "id": "fdc41ece",
   "metadata": {},
   "outputs": [
    {
     "name": "stdout",
     "output_type": "stream",
     "text": [
      "Sua versão é  3.9.13\n"
     ]
    }
   ],
   "source": [
    "from platform import python_version\n",
    "\n",
    "print('Sua versão é ', python_version())"
   ]
  },
  {
   "cell_type": "markdown",
   "id": "ad06dd78",
   "metadata": {},
   "source": [
    "### List Comprehension\n",
    "\n",
    "#### [ expressão for item iterable if condição == True]"
   ]
  },
  {
   "cell_type": "code",
   "execution_count": 4,
   "id": "86fb5844",
   "metadata": {},
   "outputs": [
    {
     "data": {
      "text/plain": [
       "[0, 1, 2, 3, 4, 5, 6, 7, 8, 9]"
      ]
     },
     "execution_count": 4,
     "metadata": {},
     "output_type": "execute_result"
    }
   ],
   "source": [
    "# list comprehension que imprime os números até 10\n",
    "[x for x in range(10)]"
   ]
  },
  {
   "cell_type": "code",
   "execution_count": 8,
   "id": "205b0f9b",
   "metadata": {},
   "outputs": [],
   "source": [
    "# list comprehension que imprime os números até 10 e grava em uma lista Python\n",
    "\n",
    "lista_numeros = [ x for x in range(10)]\n"
   ]
  },
  {
   "cell_type": "code",
   "execution_count": 9,
   "id": "523e4512",
   "metadata": {},
   "outputs": [
    {
     "name": "stdout",
     "output_type": "stream",
     "text": [
      "[0, 1, 2, 3, 4, 5, 6, 7, 8, 9]\n"
     ]
    }
   ],
   "source": [
    "print(lista_numeros)"
   ]
  },
  {
   "cell_type": "code",
   "execution_count": 10,
   "id": "9ed4675b",
   "metadata": {},
   "outputs": [],
   "source": [
    "# List Comprenhension que imprima os números menores que 5 em intervalo de 1 a 10\n",
    "lista_numeros = [ x for x in range(10) if x < 5]"
   ]
  },
  {
   "cell_type": "code",
   "execution_count": 11,
   "id": "87178908",
   "metadata": {},
   "outputs": [
    {
     "data": {
      "text/plain": [
       "[0, 1, 2, 3, 4]"
      ]
     },
     "execution_count": 11,
     "metadata": {},
     "output_type": "execute_result"
    }
   ],
   "source": [
    "lista_numeros"
   ]
  },
  {
   "cell_type": "code",
   "execution_count": 23,
   "id": "dbc31605",
   "metadata": {},
   "outputs": [],
   "source": [
    "## Lista de frutas\n",
    "\n",
    "lista_frutas = ['Pera', 'Banana', 'Laranja', 'Alfaçe', 'manga', 'mamão']\n",
    "\n",
    "# nova lista\n",
    "nova_lista = []\n"
   ]
  },
  {
   "cell_type": "code",
   "execution_count": 24,
   "id": "03eed314",
   "metadata": {},
   "outputs": [
    {
     "data": {
      "text/plain": [
       "['Pera', 'Banana', 'Laranja', 'Alfaçe', 'manga', 'mamão']"
      ]
     },
     "execution_count": 24,
     "metadata": {},
     "output_type": "execute_result"
    }
   ],
   "source": [
    "lista_frutas"
   ]
  },
  {
   "cell_type": "code",
   "execution_count": 25,
   "id": "f8e9084b",
   "metadata": {},
   "outputs": [
    {
     "name": "stdout",
     "output_type": "stream",
     "text": [
      "['manga', 'mamão']\n"
     ]
    }
   ],
   "source": [
    "## loop tadicional para buscar as palavras com letra \"m\"\n",
    "\n",
    "for x in lista_frutas:\n",
    "    if 'm' in x:\n",
    "        nova_lista.append(x)\n",
    "\n",
    "print(nova_lista)"
   ]
  },
  {
   "cell_type": "code",
   "execution_count": 27,
   "id": "ce962097",
   "metadata": {},
   "outputs": [
    {
     "data": {
      "text/plain": [
       "['manga', 'mamão']"
      ]
     },
     "execution_count": 27,
     "metadata": {},
     "output_type": "execute_result"
    }
   ],
   "source": [
    "# Mesma coisa só com list comprehension\n",
    "nova_lista = [ x for x in lista_frutas if 'm' in x]\n",
    "nova_lista"
   ]
  },
  {
   "cell_type": "markdown",
   "id": "a3b3d9db",
   "metadata": {},
   "source": [
    "## Dict Comprehension"
   ]
  },
  {
   "cell_type": "code",
   "execution_count": 31,
   "id": "177c95d0",
   "metadata": {},
   "outputs": [
    {
     "data": {
      "text/plain": [
       "{'Bob': 69, 'Michael': 89, 'Claudio': 76}"
      ]
     },
     "execution_count": 31,
     "metadata": {},
     "output_type": "execute_result"
    }
   ],
   "source": [
    "# Dict Comprehension\n",
    "\n",
    "# Dicionario de alunos e notas\n",
    "\n",
    "dict_alunos = { 'Bob': 69, 'Michael': 89, 'Claudio': 76}\n",
    "\n",
    "## Criamos um novo dicionario imprimindo os pares de chave:valor\n",
    "dict_alunos_status = { k:v for (k, v) in dict_alunos.items()}\n",
    "dict_alunos_status"
   ]
  },
  {
   "cell_type": "code",
   "execution_count": 34,
   "id": "f6355e26",
   "metadata": {},
   "outputs": [
    {
     "data": {
      "text/plain": [
       "{'Bob': 'reprovado', 'Michael': 'Aprovado', 'Claudio': 'Aprovado'}"
      ]
     },
     "execution_count": 34,
     "metadata": {},
     "output_type": "execute_result"
    }
   ],
   "source": [
    "# Dict Comprehension \n",
    "\n",
    "# Dicionario de alunos e notas\n",
    "dict_alunos = { 'Bob': 69, 'Michael': 89, 'Claudio': 76}\n",
    "\n",
    "# Criamos um novo dicionario com status: notas maior que 70, aprovado, senão , reprovado\n",
    "dict_alunos_status = { k: ('Aprovado' if v > 70 else 'reprovado') for (k, v) in dict_alunos.items()}\n",
    "dict_alunos_status\n",
    "\n"
   ]
  },
  {
   "cell_type": "markdown",
   "id": "429a9d0a",
   "metadata": {},
   "source": [
    "## FIM"
   ]
  }
 ],
 "metadata": {
  "kernelspec": {
   "display_name": "Python 3 (ipykernel)",
   "language": "python",
   "name": "python3"
  },
  "language_info": {
   "codemirror_mode": {
    "name": "ipython",
    "version": 3
   },
   "file_extension": ".py",
   "mimetype": "text/x-python",
   "name": "python",
   "nbconvert_exporter": "python",
   "pygments_lexer": "ipython3",
   "version": "3.9.13"
  }
 },
 "nbformat": 4,
 "nbformat_minor": 5
}
