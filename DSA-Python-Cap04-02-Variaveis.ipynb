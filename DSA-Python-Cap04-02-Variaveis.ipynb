{
 "cells": [
  {
   "cell_type": "markdown",
   "id": "1cfb9a47",
   "metadata": {},
   "source": [
    "### Trabalhando com Variável"
   ]
  },
  {
   "cell_type": "code",
   "execution_count": 4,
   "id": "825215fd",
   "metadata": {},
   "outputs": [
    {
     "name": "stdout",
     "output_type": "stream",
     "text": [
      "1\n"
     ]
    }
   ],
   "source": [
    "# atribuindo o valor 1 á uma variável var_teste\n",
    "var_teste = 1\n",
    "print(var_teste)"
   ]
  },
  {
   "cell_type": "code",
   "execution_count": 6,
   "id": "4ae8b6a3",
   "metadata": {},
   "outputs": [
    {
     "data": {
      "text/plain": [
       "1"
      ]
     },
     "execution_count": 6,
     "metadata": {},
     "output_type": "execute_result"
    }
   ],
   "source": [
    "# imprimindo o valor da variavel\n",
    "var_teste"
   ]
  },
  {
   "cell_type": "code",
   "execution_count": 5,
   "id": "91b05b88",
   "metadata": {},
   "outputs": [
    {
     "name": "stdout",
     "output_type": "stream",
     "text": [
      "1\n"
     ]
    }
   ],
   "source": [
    "# imprimindo o valor da variavel\n",
    "print(var_teste)"
   ]
  },
  {
   "cell_type": "code",
   "execution_count": 7,
   "id": "f26d4809",
   "metadata": {},
   "outputs": [
    {
     "data": {
      "text/plain": [
       "int"
      ]
     },
     "execution_count": 7,
     "metadata": {},
     "output_type": "execute_result"
    }
   ],
   "source": [
    "type(var_teste)"
   ]
  },
  {
   "cell_type": "code",
   "execution_count": 8,
   "id": "ff0d68df",
   "metadata": {},
   "outputs": [],
   "source": [
    "var_teste = 9.5"
   ]
  },
  {
   "cell_type": "code",
   "execution_count": 9,
   "id": "70eb5490",
   "metadata": {},
   "outputs": [
    {
     "data": {
      "text/plain": [
       "float"
      ]
     },
     "execution_count": 9,
     "metadata": {},
     "output_type": "execute_result"
    }
   ],
   "source": [
    "type(var_teste)"
   ]
  },
  {
   "cell_type": "markdown",
   "id": "67344bae",
   "metadata": {},
   "source": [
    "## Declaração Multipla\n",
    "pessoa1, pessoa2, pessoa3 = 'Claudio', 'Gabriela', 'Antonio'"
   ]
  },
  {
   "cell_type": "code",
   "execution_count": 11,
   "id": "b8c7f267",
   "metadata": {},
   "outputs": [],
   "source": [
    "pessoa1, pessoa2, pessoa3 = 'Claudio', 'Gabriela', 'Antonio'"
   ]
  },
  {
   "cell_type": "code",
   "execution_count": 12,
   "id": "4e14d94b",
   "metadata": {},
   "outputs": [
    {
     "data": {
      "text/plain": [
       "'Claudio'"
      ]
     },
     "execution_count": 12,
     "metadata": {},
     "output_type": "execute_result"
    }
   ],
   "source": [
    "pessoa1"
   ]
  },
  {
   "cell_type": "code",
   "execution_count": 13,
   "id": "a0a40e00",
   "metadata": {},
   "outputs": [
    {
     "data": {
      "text/plain": [
       "'Gabriela'"
      ]
     },
     "execution_count": 13,
     "metadata": {},
     "output_type": "execute_result"
    }
   ],
   "source": [
    "pessoa2"
   ]
  },
  {
   "cell_type": "code",
   "execution_count": 14,
   "id": "69a9e803",
   "metadata": {},
   "outputs": [
    {
     "data": {
      "text/plain": [
       "'Antonio'"
      ]
     },
     "execution_count": 14,
     "metadata": {},
     "output_type": "execute_result"
    }
   ],
   "source": [
    "pessoa3"
   ]
  },
  {
   "cell_type": "code",
   "execution_count": null,
   "id": "5bd843e6",
   "metadata": {},
   "outputs": [],
   "source": []
  },
  {
   "cell_type": "code",
   "execution_count": 15,
   "id": "79edfddf",
   "metadata": {},
   "outputs": [],
   "source": [
    "fruta1 = fruta2 = fruta3 = 'Melancia'\n"
   ]
  },
  {
   "cell_type": "code",
   "execution_count": 17,
   "id": "10b5c617",
   "metadata": {},
   "outputs": [
    {
     "data": {
      "text/plain": [
       "'Melancia'"
      ]
     },
     "execution_count": 17,
     "metadata": {},
     "output_type": "execute_result"
    }
   ],
   "source": [
    "fruta1"
   ]
  },
  {
   "cell_type": "code",
   "execution_count": 18,
   "id": "c8dbcb3d",
   "metadata": {},
   "outputs": [
    {
     "data": {
      "text/plain": [
       "'Melancia'"
      ]
     },
     "execution_count": 18,
     "metadata": {},
     "output_type": "execute_result"
    }
   ],
   "source": [
    "fruta2"
   ]
  },
  {
   "cell_type": "code",
   "execution_count": 19,
   "id": "b37cf9b3",
   "metadata": {},
   "outputs": [
    {
     "data": {
      "text/plain": [
       "'Melancia'"
      ]
     },
     "execution_count": 19,
     "metadata": {},
     "output_type": "execute_result"
    }
   ],
   "source": [
    "fruta3"
   ]
  },
  {
   "cell_type": "code",
   "execution_count": 16,
   "id": "84981d76",
   "metadata": {},
   "outputs": [
    {
     "ename": "NameError",
     "evalue": "name 'Fruta2' is not defined",
     "output_type": "error",
     "traceback": [
      "\u001b[1;31m---------------------------------------------------------------------------\u001b[0m",
      "\u001b[1;31mNameError\u001b[0m                                 Traceback (most recent call last)",
      "\u001b[1;32m~\\AppData\\Local\\Temp\\ipykernel_8236\\698894450.py\u001b[0m in \u001b[0;36m<module>\u001b[1;34m\u001b[0m\n\u001b[0;32m      1\u001b[0m \u001b[1;31m# Fique atento!!! Python é case-sensitive. Criamos a variável fruta2, mas não a variável Fruta2.\u001b[0m\u001b[1;33m\u001b[0m\u001b[1;33m\u001b[0m\u001b[0m\n\u001b[0;32m      2\u001b[0m \u001b[1;31m# Letras maiuscula e minuscua tem diferença no nome da variavél\u001b[0m\u001b[1;33m\u001b[0m\u001b[1;33m\u001b[0m\u001b[0m\n\u001b[1;32m----> 3\u001b[1;33m \u001b[0mFruta2\u001b[0m\u001b[1;33m\u001b[0m\u001b[1;33m\u001b[0m\u001b[0m\n\u001b[0m",
      "\u001b[1;31mNameError\u001b[0m: name 'Fruta2' is not defined"
     ]
    }
   ],
   "source": [
    "# Fique atento!!! Python é case-sensitive. Criamos a variável fruta2, mas não a variável Fruta2.\n",
    "# Letras maiuscula e minuscua tem diferença no nome da variavél\n",
    "Fruta2"
   ]
  },
  {
   "cell_type": "markdown",
   "id": "e01bfed6",
   "metadata": {},
   "source": [
    "** Pode-se usar letras, números e underline em nome de variável(mas não posso iniciar com númerob) **"
   ]
  },
  {
   "cell_type": "code",
   "execution_count": 21,
   "id": "3e5bc003",
   "metadata": {},
   "outputs": [],
   "source": [
    "x1 = 50"
   ]
  },
  {
   "cell_type": "code",
   "execution_count": 22,
   "id": "cbd87bbe",
   "metadata": {},
   "outputs": [
    {
     "data": {
      "text/plain": [
       "50"
      ]
     },
     "execution_count": 22,
     "metadata": {},
     "output_type": "execute_result"
    }
   ],
   "source": [
    "x1"
   ]
  },
  {
   "cell_type": "code",
   "execution_count": 23,
   "id": "ddf71546",
   "metadata": {},
   "outputs": [
    {
     "ename": "SyntaxError",
     "evalue": "invalid syntax (3383317564.py, line 1)",
     "output_type": "error",
     "traceback": [
      "\u001b[1;36m  File \u001b[1;32m\"C:\\Users\\Bruna Cirigaita\\AppData\\Local\\Temp\\ipykernel_8236\\3383317564.py\"\u001b[1;36m, line \u001b[1;32m1\u001b[0m\n\u001b[1;33m    1x =50\u001b[0m\n\u001b[1;37m     ^\u001b[0m\n\u001b[1;31mSyntaxError\u001b[0m\u001b[1;31m:\u001b[0m invalid syntax\n"
     ]
    }
   ],
   "source": [
    "1x =50"
   ]
  },
  {
   "cell_type": "markdown",
   "id": "0643d182",
   "metadata": {},
   "source": [
    "° Não se pode usar palavras reservadas como nome de variavel\n",
    "Abaixo segue uma lista das palavras reservadas em Python 3.9:\n",
    "\n",
    "False\n",
    "None\n",
    "True\n",
    "and\n",
    "as\n",
    "assert\n",
    "async\n",
    "await\n",
    "break\n",
    "class\n",
    "continue\n",
    "def\n",
    "del\n",
    "elif\n",
    "else\n",
    "except\n",
    "finally\n",
    "for\n",
    "from\n",
    "global\n",
    "if\n",
    "import\n",
    "in\n",
    "is\n",
    "lambda\n",
    "nonlocal\n",
    "not\n",
    "or\n",
    "pass\n",
    "raise\n",
    "return\n",
    "try\n",
    "while\n",
    "with\n",
    "yield\n",
    "Essas palavras são reservadas e não podem ser usadas como nomes de variáveis, funções, classes, ou qualquer outro identificador no seu código. Além disso, elas têm uma função específica na sintaxe do Python e devem ser usadas de acordo com as regras da linguagem."
   ]
  },
  {
   "cell_type": "markdown",
   "id": "4b1f226f",
   "metadata": {},
   "source": [
    "## Variavéis Atribuidas a Outras Variaveis e Ordem dos Operadores"
   ]
  },
  {
   "cell_type": "code",
   "execution_count": 25,
   "id": "c7e5fbd3",
   "metadata": {},
   "outputs": [],
   "source": [
    "largura =2"
   ]
  },
  {
   "cell_type": "code",
   "execution_count": 27,
   "id": "0abfca32",
   "metadata": {},
   "outputs": [],
   "source": [
    "altura = 4"
   ]
  },
  {
   "cell_type": "code",
   "execution_count": 28,
   "id": "132a8634",
   "metadata": {},
   "outputs": [],
   "source": [
    "area = largura * altura"
   ]
  },
  {
   "cell_type": "code",
   "execution_count": 29,
   "id": "5bac510e",
   "metadata": {},
   "outputs": [
    {
     "name": "stdout",
     "output_type": "stream",
     "text": [
      "8\n"
     ]
    }
   ],
   "source": [
    "print(area)"
   ]
  },
  {
   "cell_type": "code",
   "execution_count": 31,
   "id": "c232f9b3",
   "metadata": {},
   "outputs": [],
   "source": [
    "perimetro = 2 * largura + 2 * altura"
   ]
  },
  {
   "cell_type": "code",
   "execution_count": 32,
   "id": "18126667",
   "metadata": {},
   "outputs": [
    {
     "data": {
      "text/plain": [
       "12"
      ]
     },
     "execution_count": 32,
     "metadata": {},
     "output_type": "execute_result"
    }
   ],
   "source": [
    "perimetro"
   ]
  },
  {
   "cell_type": "code",
   "execution_count": 34,
   "id": "1570a255",
   "metadata": {},
   "outputs": [],
   "source": [
    "# A ordem dos operadores é a mesma seguida na matematica\n",
    "perimetro = 2 * (largura +2) * altura"
   ]
  },
  {
   "cell_type": "code",
   "execution_count": 36,
   "id": "04aa7859",
   "metadata": {},
   "outputs": [
    {
     "data": {
      "text/plain": [
       "32"
      ]
     },
     "execution_count": 36,
     "metadata": {},
     "output_type": "execute_result"
    }
   ],
   "source": [
    "perimetro"
   ]
  },
  {
   "cell_type": "markdown",
   "id": "33993e20",
   "metadata": {},
   "source": [
    "## Operação com Variáveis \n"
   ]
  },
  {
   "cell_type": "code",
   "execution_count": 39,
   "id": "24e2ce96",
   "metadata": {},
   "outputs": [],
   "source": [
    "idade1 =24"
   ]
  },
  {
   "cell_type": "code",
   "execution_count": 40,
   "id": "7676e75c",
   "metadata": {},
   "outputs": [],
   "source": [
    "idade2 = 27"
   ]
  },
  {
   "cell_type": "code",
   "execution_count": 41,
   "id": "921cc94e",
   "metadata": {},
   "outputs": [],
   "source": [
    "idade = 54"
   ]
  },
  {
   "cell_type": "code",
   "execution_count": 42,
   "id": "c41bd65d",
   "metadata": {},
   "outputs": [
    {
     "data": {
      "text/plain": [
       "30"
      ]
     },
     "execution_count": 42,
     "metadata": {},
     "output_type": "execute_result"
    }
   ],
   "source": [
    "idade -idade1"
   ]
  },
  {
   "cell_type": "code",
   "execution_count": 43,
   "id": "1d538ec6",
   "metadata": {},
   "outputs": [
    {
     "data": {
      "text/plain": [
       "51"
      ]
     },
     "execution_count": 43,
     "metadata": {},
     "output_type": "execute_result"
    }
   ],
   "source": [
    "idade2 + idade1"
   ]
  },
  {
   "cell_type": "markdown",
   "id": "ada52ced",
   "metadata": {},
   "source": [
    "## Concatenação de variáveis"
   ]
  },
  {
   "cell_type": "markdown",
   "id": "b377641a",
   "metadata": {},
   "source": [
    "nome = 'Claudio'"
   ]
  },
  {
   "cell_type": "code",
   "execution_count": 46,
   "id": "edea664f",
   "metadata": {},
   "outputs": [],
   "source": [
    "sobrenome = 'Fritzen'"
   ]
  },
  {
   "cell_type": "code",
   "execution_count": 47,
   "id": "44af9879",
   "metadata": {},
   "outputs": [],
   "source": [
    "nome ='Claudio'"
   ]
  },
  {
   "cell_type": "code",
   "execution_count": 48,
   "id": "1d1f997c",
   "metadata": {},
   "outputs": [],
   "source": [
    "fullName = nome + \" \" + sobrenome"
   ]
  },
  {
   "cell_type": "code",
   "execution_count": 49,
   "id": "3d293e11",
   "metadata": {},
   "outputs": [
    {
     "data": {
      "text/plain": [
       "'Claudio Fritzen'"
      ]
     },
     "execution_count": 49,
     "metadata": {},
     "output_type": "execute_result"
    }
   ],
   "source": [
    "fullName"
   ]
  },
  {
   "cell_type": "markdown",
   "id": "009b1a13",
   "metadata": {},
   "source": [
    "# FIM\n",
    "\n",
    "## Obrigado\n",
    "\n",
    "### Até a próxima"
   ]
  }
 ],
 "metadata": {
  "kernelspec": {
   "display_name": "Python 3 (ipykernel)",
   "language": "python",
   "name": "python3"
  },
  "language_info": {
   "codemirror_mode": {
    "name": "ipython",
    "version": 3
   },
   "file_extension": ".py",
   "mimetype": "text/x-python",
   "name": "python",
   "nbconvert_exporter": "python",
   "pygments_lexer": "ipython3",
   "version": "3.9.13"
  }
 },
 "nbformat": 4,
 "nbformat_minor": 5
}
