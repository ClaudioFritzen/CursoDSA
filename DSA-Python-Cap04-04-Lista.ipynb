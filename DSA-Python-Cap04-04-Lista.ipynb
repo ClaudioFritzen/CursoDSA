{
 "cells": [
  {
   "cell_type": "markdown",
   "id": "af1ecfcb",
   "metadata": {},
   "source": [
    "## Data Science Academy\n",
    "\n",
    "### Fundamentos de linguagem Python Para Análise de Dados e Data Science\n",
    "\n",
    "### Capitulo 4 - Estruturas de Dados (Listas)"
   ]
  },
  {
   "cell_type": "code",
   "execution_count": null,
   "id": "5112253c",
   "metadata": {},
   "outputs": [],
   "source": []
  },
  {
   "cell_type": "code",
   "execution_count": null,
   "id": "17949b86",
   "metadata": {},
   "outputs": [],
   "source": []
  },
  {
   "cell_type": "code",
   "execution_count": 9,
   "id": "6195f464",
   "metadata": {},
   "outputs": [
    {
     "name": "stdout",
     "output_type": "stream",
     "text": [
      "Versão do python é 3.9.13\n"
     ]
    }
   ],
   "source": [
    "# Ver a versão do python\n",
    "\n",
    "from platform import python_version\n",
    "print('Versão do python é',python_version())"
   ]
  },
  {
   "cell_type": "markdown",
   "id": "9eb4fd8a",
   "metadata": {},
   "source": [
    "#### ** Trabalando com listas **"
   ]
  },
  {
   "cell_type": "code",
   "execution_count": 10,
   "id": "10399393",
   "metadata": {},
   "outputs": [
    {
     "data": {
      "text/plain": [
       "'Açucar'"
      ]
     },
     "execution_count": 10,
     "metadata": {},
     "output_type": "execute_result"
    }
   ],
   "source": [
    "# Criando uma lista \n",
    "lista_1 =[ 'Arroz', 'Feijão', 'Açucar']\n",
    "lista_1[2]"
   ]
  },
  {
   "cell_type": "code",
   "execution_count": 11,
   "id": "434d04ac",
   "metadata": {},
   "outputs": [
    {
     "data": {
      "text/plain": [
       "list"
      ]
     },
     "execution_count": 11,
     "metadata": {},
     "output_type": "execute_result"
    }
   ],
   "source": [
    "type(lista_1)"
   ]
  },
  {
   "cell_type": "code",
   "execution_count": 12,
   "id": "b163c94f",
   "metadata": {},
   "outputs": [
    {
     "name": "stdout",
     "output_type": "stream",
     "text": [
      "['Arroz', 'Feijão', 'Açucar']\n"
     ]
    }
   ],
   "source": [
    "# imprimindo a lista\n",
    "print(lista_1)"
   ]
  },
  {
   "cell_type": "code",
   "execution_count": 13,
   "id": "a45b269c",
   "metadata": {},
   "outputs": [],
   "source": [
    "# Criando outra lista \n",
    "lista_2 = ['arroz', 'frango', 'tomate', 'leite']\n"
   ]
  },
  {
   "cell_type": "code",
   "execution_count": 14,
   "id": "df42d807",
   "metadata": {},
   "outputs": [
    {
     "data": {
      "text/plain": [
       "list"
      ]
     },
     "execution_count": 14,
     "metadata": {},
     "output_type": "execute_result"
    }
   ],
   "source": [
    "type(lista_2)"
   ]
  },
  {
   "cell_type": "markdown",
   "id": "644a008c",
   "metadata": {},
   "source": [
    "## Lista de Listas (Listas Aninhadas)\n",
    "#### Listas de listas são matrizes em Python"
   ]
  },
  {
   "cell_type": "code",
   "execution_count": 15,
   "id": "a36a1c02",
   "metadata": {},
   "outputs": [],
   "source": [
    "# Criando uma lista de listas\n",
    "listas = [ [1,2,3], [10,4,8], [12,11,14,9] ]"
   ]
  },
  {
   "cell_type": "code",
   "execution_count": 16,
   "id": "8961540d",
   "metadata": {},
   "outputs": [
    {
     "name": "stdout",
     "output_type": "stream",
     "text": [
      "[[1, 2, 3], [10, 4, 8], [12, 11, 14, 9]]\n"
     ]
    }
   ],
   "source": [
    "# imprimindo a lista\n",
    "print(listas)"
   ]
  },
  {
   "cell_type": "code",
   "execution_count": 17,
   "id": "f9fcf2ef",
   "metadata": {},
   "outputs": [],
   "source": [
    "# Atribuindo um item da lista a uma variavel\n",
    "a = listas[0]"
   ]
  },
  {
   "cell_type": "code",
   "execution_count": 18,
   "id": "ad203cdd",
   "metadata": {},
   "outputs": [
    {
     "data": {
      "text/plain": [
       "[1, 2, 3]"
      ]
     },
     "execution_count": 18,
     "metadata": {},
     "output_type": "execute_result"
    }
   ],
   "source": [
    "a"
   ]
  },
  {
   "cell_type": "code",
   "execution_count": 19,
   "id": "532cef74",
   "metadata": {},
   "outputs": [],
   "source": [
    "b = a[0]"
   ]
  },
  {
   "cell_type": "code",
   "execution_count": 20,
   "id": "dd00bc9c",
   "metadata": {},
   "outputs": [
    {
     "data": {
      "text/plain": [
       "1"
      ]
     },
     "execution_count": 20,
     "metadata": {},
     "output_type": "execute_result"
    }
   ],
   "source": [
    "b"
   ]
  },
  {
   "cell_type": "code",
   "execution_count": 25,
   "id": "9743090f",
   "metadata": {},
   "outputs": [],
   "source": [
    "## \n",
    "list1= listas[0]"
   ]
  },
  {
   "cell_type": "code",
   "execution_count": 26,
   "id": "575aa222",
   "metadata": {},
   "outputs": [
    {
     "data": {
      "text/plain": [
       "[1, 2, 3]"
      ]
     },
     "execution_count": 26,
     "metadata": {},
     "output_type": "execute_result"
    }
   ],
   "source": [
    "list1\n"
   ]
  },
  {
   "cell_type": "code",
   "execution_count": 27,
   "id": "43bd2ab5",
   "metadata": {},
   "outputs": [],
   "source": [
    "valor_1_0 = list1[0]"
   ]
  },
  {
   "cell_type": "code",
   "execution_count": 28,
   "id": "c3c88f18",
   "metadata": {},
   "outputs": [
    {
     "data": {
      "text/plain": [
       "1"
      ]
     },
     "execution_count": 28,
     "metadata": {},
     "output_type": "execute_result"
    }
   ],
   "source": [
    "valor_1_0"
   ]
  },
  {
   "cell_type": "code",
   "execution_count": 29,
   "id": "bf8ae0f4",
   "metadata": {},
   "outputs": [],
   "source": [
    "valor_1_1 = list[1]"
   ]
  },
  {
   "cell_type": "code",
   "execution_count": 30,
   "id": "a336b9f4",
   "metadata": {},
   "outputs": [
    {
     "data": {
      "text/plain": [
       "2"
      ]
     },
     "execution_count": 30,
     "metadata": {},
     "output_type": "execute_result"
    }
   ],
   "source": [
    "valor_1_1"
   ]
  },
  {
   "cell_type": "code",
   "execution_count": 31,
   "id": "522eedc9",
   "metadata": {},
   "outputs": [],
   "source": [
    "valor_1_3 = list[2]"
   ]
  },
  {
   "cell_type": "code",
   "execution_count": 32,
   "id": "be0c0d5e",
   "metadata": {},
   "outputs": [
    {
     "data": {
      "text/plain": [
       "3"
      ]
     },
     "execution_count": 32,
     "metadata": {},
     "output_type": "execute_result"
    }
   ],
   "source": [
    "valor_1_3"
   ]
  },
  {
   "cell_type": "markdown",
   "id": "4e6239a1",
   "metadata": {},
   "source": [
    "## Operações com Listas"
   ]
  },
  {
   "cell_type": "code",
   "execution_count": 33,
   "id": "853e696e",
   "metadata": {},
   "outputs": [],
   "source": [
    "# Criando ima lista aninhada (lista de listas )\n",
    "lista = [ [1,2,3], [10,15,14], [10.1, 0.7, 2.23] ]"
   ]
  },
  {
   "cell_type": "code",
   "execution_count": 34,
   "id": "e8b7fb95",
   "metadata": {},
   "outputs": [
    {
     "data": {
      "text/plain": [
       "[[1, 2, 3], [10, 15, 14], [10.1, 0.7, 2.23]]"
      ]
     },
     "execution_count": 34,
     "metadata": {},
     "output_type": "execute_result"
    }
   ],
   "source": [
    "lista"
   ]
  },
  {
   "cell_type": "code",
   "execution_count": 35,
   "id": "1b0c12ac",
   "metadata": {},
   "outputs": [],
   "source": [
    "a = lista [0] [0]"
   ]
  },
  {
   "cell_type": "code",
   "execution_count": 36,
   "id": "6f8b6d39",
   "metadata": {},
   "outputs": [
    {
     "data": {
      "text/plain": [
       "1"
      ]
     },
     "execution_count": 36,
     "metadata": {},
     "output_type": "execute_result"
    }
   ],
   "source": [
    "a"
   ]
  },
  {
   "cell_type": "code",
   "execution_count": 40,
   "id": "056a2e35",
   "metadata": {},
   "outputs": [],
   "source": [
    "b = lista [1][2]"
   ]
  },
  {
   "cell_type": "code",
   "execution_count": 41,
   "id": "ed233565",
   "metadata": {},
   "outputs": [
    {
     "data": {
      "text/plain": [
       "14"
      ]
     },
     "execution_count": 41,
     "metadata": {},
     "output_type": "execute_result"
    }
   ],
   "source": [
    "b"
   ]
  },
  {
   "cell_type": "code",
   "execution_count": 46,
   "id": "0ffa5f6b",
   "metadata": {},
   "outputs": [],
   "source": [
    "c = lista [0][2] + 10"
   ]
  },
  {
   "cell_type": "code",
   "execution_count": 47,
   "id": "87d8d82f",
   "metadata": {},
   "outputs": [
    {
     "data": {
      "text/plain": [
       "13"
      ]
     },
     "execution_count": 47,
     "metadata": {},
     "output_type": "execute_result"
    }
   ],
   "source": [
    "c"
   ]
  },
  {
   "cell_type": "code",
   "execution_count": 48,
   "id": "6884b385",
   "metadata": {},
   "outputs": [],
   "source": [
    "d = 10"
   ]
  },
  {
   "cell_type": "code",
   "execution_count": 49,
   "id": "df9528b7",
   "metadata": {},
   "outputs": [
    {
     "data": {
      "text/plain": [
       "10"
      ]
     },
     "execution_count": 49,
     "metadata": {},
     "output_type": "execute_result"
    }
   ],
   "source": [
    "d"
   ]
  },
  {
   "cell_type": "code",
   "execution_count": 51,
   "id": "cf8dcea5",
   "metadata": {},
   "outputs": [],
   "source": [
    "e = d * lista[2][0]"
   ]
  },
  {
   "cell_type": "code",
   "execution_count": 52,
   "id": "5f48468c",
   "metadata": {},
   "outputs": [
    {
     "data": {
      "text/plain": [
       "101.0"
      ]
     },
     "execution_count": 52,
     "metadata": {},
     "output_type": "execute_result"
    }
   ],
   "source": [
    "e"
   ]
  },
  {
   "cell_type": "markdown",
   "id": "d3331a3c",
   "metadata": {},
   "source": [
    "### Concatenando Listas"
   ]
  },
  {
   "cell_type": "code",
   "execution_count": 53,
   "id": "aee736d8",
   "metadata": {},
   "outputs": [],
   "source": [
    "lista_s1 = [34, 32, 56]"
   ]
  },
  {
   "cell_type": "code",
   "execution_count": 54,
   "id": "a688d4b8",
   "metadata": {},
   "outputs": [
    {
     "data": {
      "text/plain": [
       "[34, 32, 56]"
      ]
     },
     "execution_count": 54,
     "metadata": {},
     "output_type": "execute_result"
    }
   ],
   "source": [
    "lista_s1"
   ]
  },
  {
   "cell_type": "code",
   "execution_count": 55,
   "id": "1757359e",
   "metadata": {},
   "outputs": [],
   "source": [
    "lista_s2 = [21, 90, 51]"
   ]
  },
  {
   "cell_type": "code",
   "execution_count": 56,
   "id": "7350b1d5",
   "metadata": {},
   "outputs": [
    {
     "data": {
      "text/plain": [
       "[21, 90, 51]"
      ]
     },
     "execution_count": 56,
     "metadata": {},
     "output_type": "execute_result"
    }
   ],
   "source": [
    "lista_s2\n"
   ]
  },
  {
   "cell_type": "code",
   "execution_count": 57,
   "id": "590083c1",
   "metadata": {},
   "outputs": [],
   "source": [
    "## concatenando listas\n",
    "lista_total = lista_s1 + lista_s2"
   ]
  },
  {
   "cell_type": "code",
   "execution_count": 58,
   "id": "6faf3a57",
   "metadata": {},
   "outputs": [
    {
     "data": {
      "text/plain": [
       "[34, 32, 56, 21, 90, 51]"
      ]
     },
     "execution_count": 58,
     "metadata": {},
     "output_type": "execute_result"
    }
   ],
   "source": [
    "lista_total"
   ]
  },
  {
   "cell_type": "markdown",
   "id": "bdd893e5",
   "metadata": {},
   "source": [
    "### Operador in"
   ]
  },
  {
   "cell_type": "code",
   "execution_count": 59,
   "id": "6cc382c0",
   "metadata": {},
   "outputs": [],
   "source": [
    "# Criando uma lista\n",
    "lista_teste_op = [ 100, 2, -5, 3.4]"
   ]
  },
  {
   "cell_type": "code",
   "execution_count": 62,
   "id": "fea51991",
   "metadata": {},
   "outputs": [
    {
     "name": "stdout",
     "output_type": "stream",
     "text": [
      "True\n"
     ]
    }
   ],
   "source": [
    "## verificando se o valor 10 pertence a lista\n",
    "print(-5 in lista_teste_op)"
   ]
  },
  {
   "cell_type": "markdown",
   "id": "b9fd80d7",
   "metadata": {},
   "source": [
    "### Função Buit-in"
   ]
  },
  {
   "cell_type": "code",
   "execution_count": 63,
   "id": "3431a3fc",
   "metadata": {},
   "outputs": [],
   "source": [
    "# Criando uma lista \n",
    "lista_numeros = [ 10, 30, 50, -3.]"
   ]
  },
  {
   "cell_type": "code",
   "execution_count": null,
   "id": "65ece9e5",
   "metadata": {},
   "outputs": [],
   "source": []
  }
 ],
 "metadata": {
  "kernelspec": {
   "display_name": "Python 3 (ipykernel)",
   "language": "python",
   "name": "python3"
  },
  "language_info": {
   "codemirror_mode": {
    "name": "ipython",
    "version": 3
   },
   "file_extension": ".py",
   "mimetype": "text/x-python",
   "name": "python",
   "nbconvert_exporter": "python",
   "pygments_lexer": "ipython3",
   "version": "3.9.13"
  }
 },
 "nbformat": 4,
 "nbformat_minor": 5
}
