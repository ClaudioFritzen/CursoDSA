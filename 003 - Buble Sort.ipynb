{
 "cells": [
  {
   "cell_type": "markdown",
   "id": "85e6503d",
   "metadata": {},
   "source": [
    "# Buble Sort \n",
    " Bubble Sort é um argumento de ordenação smples que funciona comparando cada elemento com o próximo, e trocando-os de lugar se eles estiverem em ordem incorreta. O algoritmo repete esse processo varias vezes até que todos os elementos estejam ordenados. A cada passagem, o maior elemento \"flutua\" para o final do array, como uma bolha, dando origem ao nome do algoritmo."
   ]
  },
  {
   "cell_type": "markdown",
   "id": "461a6deb",
   "metadata": {},
   "source": [
    "# meu pseudocodigo\n",
    "    pegar a lista\n",
    "        olhar o tamanho da lista\n",
    "            passar por cada item da lista organizando\n",
    "                e mostrar a lista 📃 organizada antes e o depois\n",
    "                \n",
    "    "
   ]
  }
 ],
 "metadata": {
  "kernelspec": {
   "display_name": "Python 3 (ipykernel)",
   "language": "python",
   "name": "python3"
  },
  "language_info": {
   "codemirror_mode": {
    "name": "ipython",
    "version": 3
   },
   "file_extension": ".py",
   "mimetype": "text/x-python",
   "name": "python",
   "nbconvert_exporter": "python",
   "pygments_lexer": "ipython3",
   "version": "3.9.13"
  }
 },
 "nbformat": 4,
 "nbformat_minor": 5
}
