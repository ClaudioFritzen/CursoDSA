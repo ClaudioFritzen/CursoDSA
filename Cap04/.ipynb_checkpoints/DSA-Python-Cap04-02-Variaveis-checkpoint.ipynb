{
 "cells": [
  {
   "cell_type": "markdown",
   "id": "63effaa9",
   "metadata": {},
   "source": [
    "### Trabalhando com Variável"
   ]
  },
  {
   "cell_type": "code",
   "execution_count": 4,
   "id": "55f3fb76",
   "metadata": {},
   "outputs": [
    {
     "name": "stdout",
     "output_type": "stream",
     "text": [
      "1\n"
     ]
    }
   ],
   "source": [
    "# atribuindo o valor 1 á uma variável var_teste\n",
    "var_teste = 1\n",
    "print(var_teste)"
   ]
  },
  {
   "cell_type": "code",
   "execution_count": 6,
   "id": "6847cf06",
   "metadata": {},
   "outputs": [
    {
     "data": {
      "text/plain": [
       "1"
      ]
     },
     "execution_count": 6,
     "metadata": {},
     "output_type": "execute_result"
    }
   ],
   "source": [
    "# imprimindo o valor da variavel\n",
    "var_teste"
   ]
  },
  {
   "cell_type": "code",
   "execution_count": 5,
   "id": "559a4a79",
   "metadata": {},
   "outputs": [
    {
     "name": "stdout",
     "output_type": "stream",
     "text": [
      "1\n"
     ]
    }
   ],
   "source": [
    "# imprimindo o valor da variavel\n",
    "print(var_teste)"
   ]
  },
  {
   "cell_type": "code",
   "execution_count": 7,
   "id": "6932d7a1",
   "metadata": {},
   "outputs": [
    {
     "data": {
      "text/plain": [
       "int"
      ]
     },
     "execution_count": 7,
     "metadata": {},
     "output_type": "execute_result"
    }
   ],
   "source": [
    "type(var_teste)"
   ]
  },
  {
   "cell_type": "code",
   "execution_count": 8,
   "id": "daa96fe6",
   "metadata": {},
   "outputs": [],
   "source": [
    "var_teste = 9.5"
   ]
  },
  {
   "cell_type": "code",
   "execution_count": 9,
   "id": "0fa59a0b",
   "metadata": {},
   "outputs": [
    {
     "data": {
      "text/plain": [
       "float"
      ]
     },
     "execution_count": 9,
     "metadata": {},
     "output_type": "execute_result"
    }
   ],
   "source": [
    "type(var_teste)"
   ]
  },
  {
   "cell_type": "markdown",
   "id": "57f2ce02",
   "metadata": {},
   "source": [
    "## Declaração Multipla\n",
    "pessoa1, pessoa2, pessoa3 = 'Claudio', 'Gabriela', 'Antonio'"
   ]
  },
  {
   "cell_type": "code",
   "execution_count": 11,
   "id": "124ace73",
   "metadata": {},
   "outputs": [],
   "source": [
    "pessoa1, pessoa2, pessoa3 = 'Claudio', 'Gabriela', 'Antonio'"
   ]
  },
  {
   "cell_type": "code",
   "execution_count": 12,
   "id": "12056097",
   "metadata": {},
   "outputs": [
    {
     "data": {
      "text/plain": [
       "'Claudio'"
      ]
     },
     "execution_count": 12,
     "metadata": {},
     "output_type": "execute_result"
    }
   ],
   "source": [
    "pessoa1"
   ]
  },
  {
   "cell_type": "code",
   "execution_count": 13,
   "id": "bb86d9cf",
   "metadata": {},
   "outputs": [
    {
     "data": {
      "text/plain": [
       "'Gabriela'"
      ]
     },
     "execution_count": 13,
     "metadata": {},
     "output_type": "execute_result"
    }
   ],
   "source": [
    "pessoa2"
   ]
  },
  {
   "cell_type": "code",
   "execution_count": 14,
   "id": "8d9dfb20",
   "metadata": {},
   "outputs": [
    {
     "data": {
      "text/plain": [
       "'Antonio'"
      ]
     },
     "execution_count": 14,
     "metadata": {},
     "output_type": "execute_result"
    }
   ],
   "source": [
    "pessoa3"
   ]
  },
  {
   "cell_type": "code",
   "execution_count": null,
   "id": "81c30336",
   "metadata": {},
   "outputs": [],
   "source": []
  },
  {
   "cell_type": "code",
   "execution_count": 15,
   "id": "f321a598",
   "metadata": {},
   "outputs": [],
   "source": [
    "fruta1 = fruta2 = fruta3 = 'Melancia'\n"
   ]
  },
  {
   "cell_type": "code",
   "execution_count": 17,
   "id": "96256171",
   "metadata": {},
   "outputs": [
    {
     "data": {
      "text/plain": [
       "'Melancia'"
      ]
     },
     "execution_count": 17,
     "metadata": {},
     "output_type": "execute_result"
    }
   ],
   "source": [
    "fruta1"
   ]
  },
  {
   "cell_type": "code",
   "execution_count": 18,
   "id": "996c4f90",
   "metadata": {},
   "outputs": [
    {
     "data": {
      "text/plain": [
       "'Melancia'"
      ]
     },
     "execution_count": 18,
     "metadata": {},
     "output_type": "execute_result"
    }
   ],
   "source": [
    "fruta2"
   ]
  },
  {
   "cell_type": "code",
   "execution_count": 19,
   "id": "a538a9bb",
   "metadata": {},
   "outputs": [
    {
     "data": {
      "text/plain": [
       "'Melancia'"
      ]
     },
     "execution_count": 19,
     "metadata": {},
     "output_type": "execute_result"
    }
   ],
   "source": [
    "fruta3"
   ]
  },
  {
   "cell_type": "code",
   "execution_count": 16,
   "id": "43c9a1f5",
   "metadata": {},
   "outputs": [
    {
     "ename": "NameError",
     "evalue": "name 'Fruta2' is not defined",
     "output_type": "error",
     "traceback": [
      "\u001b[1;31m---------------------------------------------------------------------------\u001b[0m",
      "\u001b[1;31mNameError\u001b[0m                                 Traceback (most recent call last)",
      "\u001b[1;32m~\\AppData\\Local\\Temp\\ipykernel_8236\\698894450.py\u001b[0m in \u001b[0;36m<module>\u001b[1;34m\u001b[0m\n\u001b[0;32m      1\u001b[0m \u001b[1;31m# Fique atento!!! Python é case-sensitive. Criamos a variável fruta2, mas não a variável Fruta2.\u001b[0m\u001b[1;33m\u001b[0m\u001b[1;33m\u001b[0m\u001b[0m\n\u001b[0;32m      2\u001b[0m \u001b[1;31m# Letras maiuscula e minuscua tem diferença no nome da variavél\u001b[0m\u001b[1;33m\u001b[0m\u001b[1;33m\u001b[0m\u001b[0m\n\u001b[1;32m----> 3\u001b[1;33m \u001b[0mFruta2\u001b[0m\u001b[1;33m\u001b[0m\u001b[1;33m\u001b[0m\u001b[0m\n\u001b[0m",
      "\u001b[1;31mNameError\u001b[0m: name 'Fruta2' is not defined"
     ]
    }
   ],
   "source": [
    "# Fique atento!!! Python é case-sensitive. Criamos a variável fruta2, mas não a variável Fruta2.\n",
    "# Letras maiuscula e minuscua tem diferença no nome da variavél\n",
    "Fruta2"
   ]
  },
  {
   "cell_type": "markdown",
   "id": "d0263365",
   "metadata": {},
   "source": [
    "** Pode-se usar letras, números e underline em nome de variável(mas não posso iniciar com númerob) **"
   ]
  },
  {
   "cell_type": "code",
   "execution_count": 21,
   "id": "1f5828b9",
   "metadata": {},
   "outputs": [],
   "source": [
    "x1 = 50"
   ]
  },
  {
   "cell_type": "code",
   "execution_count": 22,
   "id": "93f136d7",
   "metadata": {},
   "outputs": [
    {
     "data": {
      "text/plain": [
       "50"
      ]
     },
     "execution_count": 22,
     "metadata": {},
     "output_type": "execute_result"
    }
   ],
   "source": [
    "x1"
   ]
  },
  {
   "cell_type": "code",
   "execution_count": 23,
   "id": "c2ef6863",
   "metadata": {},
   "outputs": [
    {
     "ename": "SyntaxError",
     "evalue": "invalid syntax (3383317564.py, line 1)",
     "output_type": "error",
     "traceback": [
      "\u001b[1;36m  File \u001b[1;32m\"C:\\Users\\Bruna Cirigaita\\AppData\\Local\\Temp\\ipykernel_8236\\3383317564.py\"\u001b[1;36m, line \u001b[1;32m1\u001b[0m\n\u001b[1;33m    1x =50\u001b[0m\n\u001b[1;37m     ^\u001b[0m\n\u001b[1;31mSyntaxError\u001b[0m\u001b[1;31m:\u001b[0m invalid syntax\n"
     ]
    }
   ],
   "source": [
    "1x =50"
   ]
  },
  {
   "cell_type": "markdown",
   "id": "17e234e6",
   "metadata": {},
   "source": [
    "° Não se pode usar palavras reservadas como nome de variavel\n",
    "Abaixo segue uma lista das palavras reservadas em Python 3.9:\n",
    "\n",
    "False\n",
    "None\n",
    "True\n",
    "and\n",
    "as\n",
    "assert\n",
    "async\n",
    "await\n",
    "break\n",
    "class\n",
    "continue\n",
    "def\n",
    "del\n",
    "elif\n",
    "else\n",
    "except\n",
    "finally\n",
    "for\n",
    "from\n",
    "global\n",
    "if\n",
    "import\n",
    "in\n",
    "is\n",
    "lambda\n",
    "nonlocal\n",
    "not\n",
    "or\n",
    "pass\n",
    "raise\n",
    "return\n",
    "try\n",
    "while\n",
    "with\n",
    "yield\n",
    "Essas palavras são reservadas e não podem ser usadas como nomes de variáveis, funções, classes, ou qualquer outro identificador no seu código. Além disso, elas têm uma função específica na sintaxe do Python e devem ser usadas de acordo com as regras da linguagem."
   ]
  },
  {
   "cell_type": "markdown",
   "id": "1ce01ef3",
   "metadata": {},
   "source": [
    "## Variavéis Atribuidas a Outras Variaveis e Ordem dos Operadores"
   ]
  },
  {
   "cell_type": "code",
   "execution_count": 25,
   "id": "b6fb1c60",
   "metadata": {},
   "outputs": [],
   "source": [
    "largura =2"
   ]
  },
  {
   "cell_type": "code",
   "execution_count": 27,
   "id": "52ff05f7",
   "metadata": {},
   "outputs": [],
   "source": [
    "altura = 4"
   ]
  },
  {
   "cell_type": "code",
   "execution_count": 28,
   "id": "0cbf3f17",
   "metadata": {},
   "outputs": [],
   "source": [
    "area = largura * altura"
   ]
  },
  {
   "cell_type": "code",
   "execution_count": 29,
   "id": "a8840704",
   "metadata": {},
   "outputs": [
    {
     "name": "stdout",
     "output_type": "stream",
     "text": [
      "8\n"
     ]
    }
   ],
   "source": [
    "print(area)"
   ]
  },
  {
   "cell_type": "code",
   "execution_count": 31,
   "id": "aa5da9a2",
   "metadata": {},
   "outputs": [],
   "source": [
    "perimetro = 2 * largura + 2 * altura"
   ]
  },
  {
   "cell_type": "code",
   "execution_count": 32,
   "id": "b786a37c",
   "metadata": {},
   "outputs": [
    {
     "data": {
      "text/plain": [
       "12"
      ]
     },
     "execution_count": 32,
     "metadata": {},
     "output_type": "execute_result"
    }
   ],
   "source": [
    "perimetro"
   ]
  },
  {
   "cell_type": "code",
   "execution_count": 34,
   "id": "b55a20f5",
   "metadata": {},
   "outputs": [],
   "source": [
    "# A ordem dos operadores é a mesma seguida na matematica\n",
    "perimetro = 2 * (largura +2) * altura"
   ]
  },
  {
   "cell_type": "code",
   "execution_count": 36,
   "id": "cd6a3b0a",
   "metadata": {},
   "outputs": [
    {
     "data": {
      "text/plain": [
       "32"
      ]
     },
     "execution_count": 36,
     "metadata": {},
     "output_type": "execute_result"
    }
   ],
   "source": [
    "perimetro"
   ]
  },
  {
   "cell_type": "markdown",
   "id": "592564d7",
   "metadata": {},
   "source": [
    "## Operação com Variáveis \n"
   ]
  },
  {
   "cell_type": "code",
   "execution_count": 39,
   "id": "ffff09e2",
   "metadata": {},
   "outputs": [],
   "source": [
    "idade1 =24"
   ]
  },
  {
   "cell_type": "code",
   "execution_count": 40,
   "id": "5c1ccf3d",
   "metadata": {},
   "outputs": [],
   "source": [
    "idade2 = 27"
   ]
  },
  {
   "cell_type": "code",
   "execution_count": 41,
   "id": "200a7a74",
   "metadata": {},
   "outputs": [],
   "source": [
    "idade = 54"
   ]
  },
  {
   "cell_type": "code",
   "execution_count": 42,
   "id": "5ec656fb",
   "metadata": {},
   "outputs": [
    {
     "data": {
      "text/plain": [
       "30"
      ]
     },
     "execution_count": 42,
     "metadata": {},
     "output_type": "execute_result"
    }
   ],
   "source": [
    "idade -idade1"
   ]
  },
  {
   "cell_type": "code",
   "execution_count": 43,
   "id": "07a6850a",
   "metadata": {},
   "outputs": [
    {
     "data": {
      "text/plain": [
       "51"
      ]
     },
     "execution_count": 43,
     "metadata": {},
     "output_type": "execute_result"
    }
   ],
   "source": [
    "idade2 + idade1"
   ]
  },
  {
   "cell_type": "markdown",
   "id": "7b2bbcba",
   "metadata": {},
   "source": [
    "## Concatenação de variáveis"
   ]
  },
  {
   "cell_type": "markdown",
   "id": "0402c371",
   "metadata": {},
   "source": [
    "nome = 'Claudio'"
   ]
  },
  {
   "cell_type": "code",
   "execution_count": 46,
   "id": "2c04638e",
   "metadata": {},
   "outputs": [],
   "source": [
    "sobrenome = 'Fritzen'"
   ]
  },
  {
   "cell_type": "code",
   "execution_count": 47,
   "id": "d963c7a6",
   "metadata": {},
   "outputs": [],
   "source": [
    "nome ='Claudio'"
   ]
  },
  {
   "cell_type": "code",
   "execution_count": 48,
   "id": "0d1f5baf",
   "metadata": {},
   "outputs": [],
   "source": [
    "fullName = nome + \" \" + sobrenome"
   ]
  },
  {
   "cell_type": "code",
   "execution_count": 49,
   "id": "2999c63a",
   "metadata": {},
   "outputs": [
    {
     "data": {
      "text/plain": [
       "'Claudio Fritzen'"
      ]
     },
     "execution_count": 49,
     "metadata": {},
     "output_type": "execute_result"
    }
   ],
   "source": [
    "fullName"
   ]
  },
  {
   "cell_type": "markdown",
   "id": "d4091eb2",
   "metadata": {},
   "source": [
    "# FIM\n",
    "\n",
    "## Obrigado\n",
    "\n",
    "### Até a próxima"
   ]
  }
 ],
 "metadata": {
  "kernelspec": {
   "display_name": "Python 3 (ipykernel)",
   "language": "python",
   "name": "python3"
  },
  "language_info": {
   "codemirror_mode": {
    "name": "ipython",
    "version": 3
   },
   "file_extension": ".py",
   "mimetype": "text/x-python",
   "name": "python",
   "nbconvert_exporter": "python",
   "pygments_lexer": "ipython3",
   "version": "3.9.13"
  }
 },
 "nbformat": 4,
 "nbformat_minor": 5
}
