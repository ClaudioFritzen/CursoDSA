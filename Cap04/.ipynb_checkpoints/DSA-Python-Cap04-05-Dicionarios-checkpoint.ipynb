{
 "cells": [
  {
   "cell_type": "markdown",
   "id": "f71b468b",
   "metadata": {},
   "source": [
    "### Data Science Academy\n",
    "#### Fundamentos de Linguagem Python para Análise de Dados e Data Science\n",
    "\n",
    "#### Capitulo 4 - Estruturas de Dados ( Dicionários)"
   ]
  },
  {
   "cell_type": "code",
   "execution_count": 47,
   "id": "5726cde7",
   "metadata": {},
   "outputs": [
    {
     "name": "stdout",
     "output_type": "stream",
     "text": [
      "A versão do Python é  3.9.13\n"
     ]
    }
   ],
   "source": [
    "## versão do python\n",
    "\n",
    "from platform import python_version\n",
    "print('A versão do Python é ', python_version())"
   ]
  },
  {
   "cell_type": "markdown",
   "id": "f35c3ea6",
   "metadata": {},
   "source": [
    "## Trabalhando com dicionarios\n"
   ]
  },
  {
   "cell_type": "code",
   "execution_count": 48,
   "id": "09d6ae9e",
   "metadata": {},
   "outputs": [],
   "source": [
    "# Isso é uma lista \n",
    "estudantes_lista = ['Pedro', 24, 'Ana', 22, 'Ronaldo', 26, 'Janaína', 25]"
   ]
  },
  {
   "cell_type": "code",
   "execution_count": 49,
   "id": "def209f9",
   "metadata": {},
   "outputs": [
    {
     "data": {
      "text/plain": [
       "['Pedro', 24, 'Ana', 22, 'Ronaldo', 26, 'Janaína', 25]"
      ]
     },
     "execution_count": 49,
     "metadata": {},
     "output_type": "execute_result"
    }
   ],
   "source": [
    "estudantes_lista"
   ]
  },
  {
   "cell_type": "code",
   "execution_count": 50,
   "id": "8c247c72",
   "metadata": {},
   "outputs": [],
   "source": [
    "## isso é um dicionario\n",
    "estudante_dicionario = {'Pedro':24, 'Ana':20, 'Ronaldo':27, 'Janaína':22}"
   ]
  },
  {
   "cell_type": "code",
   "execution_count": 51,
   "id": "7dad0be9",
   "metadata": {},
   "outputs": [
    {
     "data": {
      "text/plain": [
       "{'Pedro': 24, 'Ana': 20, 'Ronaldo': 27, 'Janaína': 22}"
      ]
     },
     "execution_count": 51,
     "metadata": {},
     "output_type": "execute_result"
    }
   ],
   "source": [
    "estudante_dicionario"
   ]
  },
  {
   "cell_type": "code",
   "execution_count": 52,
   "id": "0ab1c53e",
   "metadata": {},
   "outputs": [
    {
     "data": {
      "text/plain": [
       "24"
      ]
     },
     "execution_count": 52,
     "metadata": {},
     "output_type": "execute_result"
    }
   ],
   "source": [
    "estudante_dicionario['Pedro']"
   ]
  },
  {
   "cell_type": "code",
   "execution_count": 53,
   "id": "9dd1ed16",
   "metadata": {},
   "outputs": [],
   "source": [
    "## Adicionamos um item ao dicionario\n",
    "estudante_dicionario['Marcelo'] = 23"
   ]
  },
  {
   "cell_type": "code",
   "execution_count": 54,
   "id": "cd6ff334",
   "metadata": {},
   "outputs": [
    {
     "data": {
      "text/plain": [
       "{'Pedro': 24, 'Ana': 20, 'Ronaldo': 27, 'Janaína': 22, 'Marcelo': 23}"
      ]
     },
     "execution_count": 54,
     "metadata": {},
     "output_type": "execute_result"
    }
   ],
   "source": [
    "estudante_dicionario"
   ]
  },
  {
   "cell_type": "code",
   "execution_count": 55,
   "id": "f634916e",
   "metadata": {},
   "outputs": [],
   "source": [
    "## limpando um dicionario\n",
    "estudante_dicionario.clear()"
   ]
  },
  {
   "cell_type": "code",
   "execution_count": 56,
   "id": "cb8aa649",
   "metadata": {},
   "outputs": [
    {
     "data": {
      "text/plain": [
       "{}"
      ]
     },
     "execution_count": 56,
     "metadata": {},
     "output_type": "execute_result"
    }
   ],
   "source": [
    "estudante_dicionario"
   ]
  },
  {
   "cell_type": "code",
   "execution_count": 57,
   "id": "7bd1d59e",
   "metadata": {},
   "outputs": [],
   "source": [
    "# Escluindo uma lista\n",
    "del estudante_dicionario"
   ]
  },
  {
   "cell_type": "code",
   "execution_count": 58,
   "id": "898b98b2",
   "metadata": {},
   "outputs": [
    {
     "ename": "NameError",
     "evalue": "name 'estudante_dicionario' is not defined",
     "output_type": "error",
     "traceback": [
      "\u001b[1;31m---------------------------------------------------------------------------\u001b[0m",
      "\u001b[1;31mNameError\u001b[0m                                 Traceback (most recent call last)",
      "\u001b[1;32m~\\AppData\\Local\\Temp\\ipykernel_11052\\2258133274.py\u001b[0m in \u001b[0;36m<module>\u001b[1;34m\u001b[0m\n\u001b[1;32m----> 1\u001b[1;33m \u001b[0mestudante_dicionario\u001b[0m\u001b[1;33m\u001b[0m\u001b[1;33m\u001b[0m\u001b[0m\n\u001b[0m",
      "\u001b[1;31mNameError\u001b[0m: name 'estudante_dicionario' is not defined"
     ]
    }
   ],
   "source": [
    "estudante_dicionario"
   ]
  },
  {
   "cell_type": "code",
   "execution_count": 59,
   "id": "54cdaeb7",
   "metadata": {},
   "outputs": [],
   "source": [
    "estudantes = { 'Claudio':27, 'Bruna':26, 'Cleci':45, 'Carla': 53 }"
   ]
  },
  {
   "cell_type": "code",
   "execution_count": 60,
   "id": "8c23bd42",
   "metadata": {},
   "outputs": [
    {
     "data": {
      "text/plain": [
       "4"
      ]
     },
     "execution_count": 60,
     "metadata": {},
     "output_type": "execute_result"
    }
   ],
   "source": [
    "len(estudantes)"
   ]
  },
  {
   "cell_type": "code",
   "execution_count": 61,
   "id": "7506230b",
   "metadata": {},
   "outputs": [
    {
     "data": {
      "text/plain": [
       "dict_keys(['Claudio', 'Bruna', 'Cleci', 'Carla'])"
      ]
     },
     "execution_count": 61,
     "metadata": {},
     "output_type": "execute_result"
    }
   ],
   "source": [
    "estudantes.keys()"
   ]
  },
  {
   "cell_type": "code",
   "execution_count": 62,
   "id": "5e9ab9ed",
   "metadata": {},
   "outputs": [
    {
     "data": {
      "text/plain": [
       "dict_items([('Claudio', 27), ('Bruna', 26), ('Cleci', 45), ('Carla', 53)])"
      ]
     },
     "execution_count": 62,
     "metadata": {},
     "output_type": "execute_result"
    }
   ],
   "source": [
    "estudantes.items()"
   ]
  },
  {
   "cell_type": "code",
   "execution_count": 63,
   "id": "03b82c62",
   "metadata": {},
   "outputs": [],
   "source": [
    "estudantes2 = {'Antonio Jorge':77, 'Gabriela':66, 'Adriana': 44, 'Roberta': 54 }"
   ]
  },
  {
   "cell_type": "code",
   "execution_count": 64,
   "id": "dd87f7e7",
   "metadata": {},
   "outputs": [
    {
     "data": {
      "text/plain": [
       "{'Antonio Jorge': 77, 'Gabriela': 66, 'Adriana': 44, 'Roberta': 54}"
      ]
     },
     "execution_count": 64,
     "metadata": {},
     "output_type": "execute_result"
    }
   ],
   "source": [
    "estudantes2"
   ]
  },
  {
   "cell_type": "code",
   "execution_count": 65,
   "id": "7220a56a",
   "metadata": {},
   "outputs": [],
   "source": [
    "## juntando duas listas numa só\n",
    "estudantes.update(estudantes2)"
   ]
  },
  {
   "cell_type": "code",
   "execution_count": 66,
   "id": "984bfdb1",
   "metadata": {},
   "outputs": [
    {
     "data": {
      "text/plain": [
       "{'Claudio': 27,\n",
       " 'Bruna': 26,\n",
       " 'Cleci': 45,\n",
       " 'Carla': 53,\n",
       " 'Antonio Jorge': 77,\n",
       " 'Gabriela': 66,\n",
       " 'Adriana': 44,\n",
       " 'Roberta': 54}"
      ]
     },
     "execution_count": 66,
     "metadata": {},
     "output_type": "execute_result"
    }
   ],
   "source": [
    "estudantes"
   ]
  },
  {
   "cell_type": "code",
   "execution_count": 67,
   "id": "8a165750",
   "metadata": {},
   "outputs": [],
   "source": [
    "dicio1 = {}"
   ]
  },
  {
   "cell_type": "code",
   "execution_count": 68,
   "id": "b957f9ea",
   "metadata": {},
   "outputs": [
    {
     "data": {
      "text/plain": [
       "{}"
      ]
     },
     "execution_count": 68,
     "metadata": {},
     "output_type": "execute_result"
    }
   ],
   "source": [
    "dicio1"
   ]
  },
  {
   "cell_type": "code",
   "execution_count": 69,
   "id": "441a3ff4",
   "metadata": {},
   "outputs": [],
   "source": [
    "dicio1['Chave_um'] = 2"
   ]
  },
  {
   "cell_type": "code",
   "execution_count": 70,
   "id": "55671717",
   "metadata": {},
   "outputs": [
    {
     "name": "stdout",
     "output_type": "stream",
     "text": [
      "{'Chave_um': 2}\n"
     ]
    }
   ],
   "source": [
    "print(dicio1)"
   ]
  },
  {
   "cell_type": "code",
   "execution_count": 71,
   "id": "6383381e",
   "metadata": {},
   "outputs": [],
   "source": [
    "dicio1[10] = 3"
   ]
  },
  {
   "cell_type": "code",
   "execution_count": 72,
   "id": "16fd39a4",
   "metadata": {},
   "outputs": [
    {
     "data": {
      "text/plain": [
       "{'Chave_um': 2, 10: 3}"
      ]
     },
     "execution_count": 72,
     "metadata": {},
     "output_type": "execute_result"
    }
   ],
   "source": [
    "dicio1"
   ]
  },
  {
   "cell_type": "code",
   "execution_count": 73,
   "id": "cf723c21",
   "metadata": {},
   "outputs": [],
   "source": [
    "dicio1[9.13] = 'Python'"
   ]
  },
  {
   "cell_type": "code",
   "execution_count": 74,
   "id": "34902697",
   "metadata": {},
   "outputs": [
    {
     "data": {
      "text/plain": [
       "{'Chave_um': 2, 10: 3, 9.13: 'Python'}"
      ]
     },
     "execution_count": 74,
     "metadata": {},
     "output_type": "execute_result"
    }
   ],
   "source": [
    "dicio1"
   ]
  },
  {
   "cell_type": "code",
   "execution_count": 75,
   "id": "5a89429c",
   "metadata": {},
   "outputs": [],
   "source": [
    "dicio1['Teste'] = 22"
   ]
  },
  {
   "cell_type": "code",
   "execution_count": 76,
   "id": "d7289d87",
   "metadata": {},
   "outputs": [],
   "source": [
    "dicio2= {}"
   ]
  },
  {
   "cell_type": "code",
   "execution_count": 77,
   "id": "34c5a9d2",
   "metadata": {},
   "outputs": [
    {
     "data": {
      "text/plain": [
       "{}"
      ]
     },
     "execution_count": 77,
     "metadata": {},
     "output_type": "execute_result"
    }
   ],
   "source": [
    "dicio2"
   ]
  },
  {
   "cell_type": "code",
   "execution_count": 78,
   "id": "2da5afa8",
   "metadata": {},
   "outputs": [],
   "source": [
    "dicio2['Tete'] = 32"
   ]
  },
  {
   "cell_type": "code",
   "execution_count": 79,
   "id": "d52c4f49",
   "metadata": {},
   "outputs": [],
   "source": [
    "dicio2['Ana'] = 'Clara'"
   ]
  },
  {
   "cell_type": "code",
   "execution_count": 80,
   "id": "30dca688",
   "metadata": {},
   "outputs": [
    {
     "data": {
      "text/plain": [
       "{'Tete': 32, 'Ana': 'Clara'}"
      ]
     },
     "execution_count": 80,
     "metadata": {},
     "output_type": "execute_result"
    }
   ],
   "source": [
    "dicio2"
   ]
  },
  {
   "cell_type": "code",
   "execution_count": 83,
   "id": "0bc24382",
   "metadata": {},
   "outputs": [
    {
     "data": {
      "text/plain": [
       "{'Tete': 32, 'Ana': 'Clara'}"
      ]
     },
     "execution_count": 83,
     "metadata": {},
     "output_type": "execute_result"
    }
   ],
   "source": [
    "# Atenção pois chave e valor podem ser iguais, mas reçresentam coisas diferentes\n",
    "dicio2"
   ]
  },
  {
   "cell_type": "code",
   "execution_count": 84,
   "id": "0fe1e985",
   "metadata": {},
   "outputs": [],
   "source": [
    "dicio3 = {}"
   ]
  },
  {
   "cell_type": "code",
   "execution_count": 85,
   "id": "7c1a21d9",
   "metadata": {},
   "outputs": [],
   "source": [
    "dicio3['Key1'] = 'Data Science'"
   ]
  },
  {
   "cell_type": "code",
   "execution_count": 86,
   "id": "87a3a985",
   "metadata": {},
   "outputs": [],
   "source": [
    "dicio3['Key2'] = 10"
   ]
  },
  {
   "cell_type": "code",
   "execution_count": 88,
   "id": "aa932aca",
   "metadata": {},
   "outputs": [],
   "source": [
    "dicio3['Key3'] = 40"
   ]
  },
  {
   "cell_type": "code",
   "execution_count": 89,
   "id": "9181762d",
   "metadata": {},
   "outputs": [
    {
     "data": {
      "text/plain": [
       "{'Key1': 'Data Science', 'Key2': 10, 'Key3': 40}"
      ]
     },
     "execution_count": 89,
     "metadata": {},
     "output_type": "execute_result"
    }
   ],
   "source": [
    "dicio3"
   ]
  },
  {
   "cell_type": "code",
   "execution_count": 96,
   "id": "186d0e06",
   "metadata": {},
   "outputs": [],
   "source": [
    "a = dicio3['Key1']"
   ]
  },
  {
   "cell_type": "code",
   "execution_count": 97,
   "id": "82bf8fba",
   "metadata": {},
   "outputs": [
    {
     "data": {
      "text/plain": [
       "'Data Science'"
      ]
     },
     "execution_count": 97,
     "metadata": {},
     "output_type": "execute_result"
    }
   ],
   "source": [
    "a"
   ]
  },
  {
   "cell_type": "code",
   "execution_count": 100,
   "id": "1b51a970",
   "metadata": {},
   "outputs": [],
   "source": [
    "b = dicio3['Key2']"
   ]
  },
  {
   "cell_type": "code",
   "execution_count": 101,
   "id": "0c021f30",
   "metadata": {},
   "outputs": [
    {
     "data": {
      "text/plain": [
       "10"
      ]
     },
     "execution_count": 101,
     "metadata": {},
     "output_type": "execute_result"
    }
   ],
   "source": [
    "b"
   ]
  },
  {
   "cell_type": "code",
   "execution_count": 102,
   "id": "7bc1c767",
   "metadata": {},
   "outputs": [],
   "source": [
    "c = dicio3['Key3']"
   ]
  },
  {
   "cell_type": "code",
   "execution_count": 103,
   "id": "2dd09fc5",
   "metadata": {},
   "outputs": [
    {
     "data": {
      "text/plain": [
       "('Data Science', 10, 40)"
      ]
     },
     "execution_count": 103,
     "metadata": {},
     "output_type": "execute_result"
    }
   ],
   "source": [
    "a,b,c"
   ]
  },
  {
   "cell_type": "code",
   "execution_count": null,
   "id": "ca6c37e4",
   "metadata": {},
   "outputs": [],
   "source": []
  },
  {
   "cell_type": "code",
   "execution_count": null,
   "id": "bf4f75f7",
   "metadata": {},
   "outputs": [],
   "source": []
  }
 ],
 "metadata": {
  "kernelspec": {
   "display_name": "Python 3 (ipykernel)",
   "language": "python",
   "name": "python3"
  },
  "language_info": {
   "codemirror_mode": {
    "name": "ipython",
    "version": 3
   },
   "file_extension": ".py",
   "mimetype": "text/x-python",
   "name": "python",
   "nbconvert_exporter": "python",
   "pygments_lexer": "ipython3",
   "version": "3.9.13"
  }
 },
 "nbformat": 4,
 "nbformat_minor": 5
}
