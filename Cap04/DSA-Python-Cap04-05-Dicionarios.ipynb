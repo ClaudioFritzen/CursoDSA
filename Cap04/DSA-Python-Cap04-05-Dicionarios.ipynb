{
 "cells": [
  {
   "cell_type": "markdown",
   "id": "e9fd35fc",
   "metadata": {},
   "source": [
    "### Data Science Academy\n",
    "#### Fundamentos de Linguagem Python para Análise de Dados e Data Science\n",
    "\n",
    "#### Capitulo 4 - Estruturas de Dados ( Dicionários)"
   ]
  },
  {
   "cell_type": "code",
   "execution_count": 47,
   "id": "9f20bb9b",
   "metadata": {},
   "outputs": [
    {
     "name": "stdout",
     "output_type": "stream",
     "text": [
      "A versão do Python é  3.9.13\n"
     ]
    }
   ],
   "source": [
    "## versão do python\n",
    "\n",
    "from platform import python_version\n",
    "print('A versão do Python é ', python_version())"
   ]
  },
  {
   "cell_type": "markdown",
   "id": "2136ee45",
   "metadata": {},
   "source": [
    "## Trabalhando com dicionarios\n"
   ]
  },
  {
   "cell_type": "code",
   "execution_count": 48,
   "id": "262ae3cd",
   "metadata": {},
   "outputs": [],
   "source": [
    "# Isso é uma lista \n",
    "estudantes_lista = ['Pedro', 24, 'Ana', 22, 'Ronaldo', 26, 'Janaína', 25]"
   ]
  },
  {
   "cell_type": "code",
   "execution_count": 49,
   "id": "d1879180",
   "metadata": {},
   "outputs": [
    {
     "data": {
      "text/plain": [
       "['Pedro', 24, 'Ana', 22, 'Ronaldo', 26, 'Janaína', 25]"
      ]
     },
     "execution_count": 49,
     "metadata": {},
     "output_type": "execute_result"
    }
   ],
   "source": [
    "estudantes_lista"
   ]
  },
  {
   "cell_type": "code",
   "execution_count": 50,
   "id": "b5f608cc",
   "metadata": {},
   "outputs": [],
   "source": [
    "## isso é um dicionario\n",
    "estudante_dicionario = {'Pedro':24, 'Ana':20, 'Ronaldo':27, 'Janaína':22}"
   ]
  },
  {
   "cell_type": "code",
   "execution_count": 51,
   "id": "23de814f",
   "metadata": {},
   "outputs": [
    {
     "data": {
      "text/plain": [
       "{'Pedro': 24, 'Ana': 20, 'Ronaldo': 27, 'Janaína': 22}"
      ]
     },
     "execution_count": 51,
     "metadata": {},
     "output_type": "execute_result"
    }
   ],
   "source": [
    "estudante_dicionario"
   ]
  },
  {
   "cell_type": "code",
   "execution_count": 52,
   "id": "da8930b6",
   "metadata": {},
   "outputs": [
    {
     "data": {
      "text/plain": [
       "24"
      ]
     },
     "execution_count": 52,
     "metadata": {},
     "output_type": "execute_result"
    }
   ],
   "source": [
    "estudante_dicionario['Pedro']"
   ]
  },
  {
   "cell_type": "code",
   "execution_count": 53,
   "id": "a1371043",
   "metadata": {},
   "outputs": [],
   "source": [
    "## Adicionamos um item ao dicionario\n",
    "estudante_dicionario['Marcelo'] = 23"
   ]
  },
  {
   "cell_type": "code",
   "execution_count": 54,
   "id": "596a30ba",
   "metadata": {},
   "outputs": [
    {
     "data": {
      "text/plain": [
       "{'Pedro': 24, 'Ana': 20, 'Ronaldo': 27, 'Janaína': 22, 'Marcelo': 23}"
      ]
     },
     "execution_count": 54,
     "metadata": {},
     "output_type": "execute_result"
    }
   ],
   "source": [
    "estudante_dicionario"
   ]
  },
  {
   "cell_type": "code",
   "execution_count": 55,
   "id": "be377cba",
   "metadata": {},
   "outputs": [],
   "source": [
    "## limpando um dicionario\n",
    "estudante_dicionario.clear()"
   ]
  },
  {
   "cell_type": "code",
   "execution_count": 56,
   "id": "aa237b6f",
   "metadata": {},
   "outputs": [
    {
     "data": {
      "text/plain": [
       "{}"
      ]
     },
     "execution_count": 56,
     "metadata": {},
     "output_type": "execute_result"
    }
   ],
   "source": [
    "estudante_dicionario"
   ]
  },
  {
   "cell_type": "code",
   "execution_count": 57,
   "id": "bd99818f",
   "metadata": {},
   "outputs": [],
   "source": [
    "# Escluindo uma lista\n",
    "del estudante_dicionario"
   ]
  },
  {
   "cell_type": "code",
   "execution_count": 58,
   "id": "8ff82490",
   "metadata": {},
   "outputs": [
    {
     "ename": "NameError",
     "evalue": "name 'estudante_dicionario' is not defined",
     "output_type": "error",
     "traceback": [
      "\u001b[1;31m---------------------------------------------------------------------------\u001b[0m",
      "\u001b[1;31mNameError\u001b[0m                                 Traceback (most recent call last)",
      "\u001b[1;32m~\\AppData\\Local\\Temp\\ipykernel_11052\\2258133274.py\u001b[0m in \u001b[0;36m<module>\u001b[1;34m\u001b[0m\n\u001b[1;32m----> 1\u001b[1;33m \u001b[0mestudante_dicionario\u001b[0m\u001b[1;33m\u001b[0m\u001b[1;33m\u001b[0m\u001b[0m\n\u001b[0m",
      "\u001b[1;31mNameError\u001b[0m: name 'estudante_dicionario' is not defined"
     ]
    }
   ],
   "source": [
    "estudante_dicionario"
   ]
  },
  {
   "cell_type": "code",
   "execution_count": 59,
   "id": "833a32fa",
   "metadata": {},
   "outputs": [],
   "source": [
    "estudantes = { 'Claudio':27, 'Bruna':26, 'Cleci':45, 'Carla': 53 }"
   ]
  },
  {
   "cell_type": "code",
   "execution_count": 60,
   "id": "cb902e1f",
   "metadata": {},
   "outputs": [
    {
     "data": {
      "text/plain": [
       "4"
      ]
     },
     "execution_count": 60,
     "metadata": {},
     "output_type": "execute_result"
    }
   ],
   "source": [
    "len(estudantes)"
   ]
  },
  {
   "cell_type": "code",
   "execution_count": 61,
   "id": "09e8ba42",
   "metadata": {},
   "outputs": [
    {
     "data": {
      "text/plain": [
       "dict_keys(['Claudio', 'Bruna', 'Cleci', 'Carla'])"
      ]
     },
     "execution_count": 61,
     "metadata": {},
     "output_type": "execute_result"
    }
   ],
   "source": [
    "estudantes.keys()"
   ]
  },
  {
   "cell_type": "code",
   "execution_count": 62,
   "id": "ab1ad1de",
   "metadata": {},
   "outputs": [
    {
     "data": {
      "text/plain": [
       "dict_items([('Claudio', 27), ('Bruna', 26), ('Cleci', 45), ('Carla', 53)])"
      ]
     },
     "execution_count": 62,
     "metadata": {},
     "output_type": "execute_result"
    }
   ],
   "source": [
    "estudantes.items()"
   ]
  },
  {
   "cell_type": "code",
   "execution_count": 63,
   "id": "47db1087",
   "metadata": {},
   "outputs": [],
   "source": [
    "estudantes2 = {'Antonio Jorge':77, 'Gabriela':66, 'Adriana': 44, 'Roberta': 54 }"
   ]
  },
  {
   "cell_type": "code",
   "execution_count": 64,
   "id": "f8ce4243",
   "metadata": {},
   "outputs": [
    {
     "data": {
      "text/plain": [
       "{'Antonio Jorge': 77, 'Gabriela': 66, 'Adriana': 44, 'Roberta': 54}"
      ]
     },
     "execution_count": 64,
     "metadata": {},
     "output_type": "execute_result"
    }
   ],
   "source": [
    "estudantes2"
   ]
  },
  {
   "cell_type": "code",
   "execution_count": 65,
   "id": "51a6d62f",
   "metadata": {},
   "outputs": [],
   "source": [
    "## juntando duas listas numa só\n",
    "estudantes.update(estudantes2)"
   ]
  },
  {
   "cell_type": "code",
   "execution_count": 66,
   "id": "9630f138",
   "metadata": {},
   "outputs": [
    {
     "data": {
      "text/plain": [
       "{'Claudio': 27,\n",
       " 'Bruna': 26,\n",
       " 'Cleci': 45,\n",
       " 'Carla': 53,\n",
       " 'Antonio Jorge': 77,\n",
       " 'Gabriela': 66,\n",
       " 'Adriana': 44,\n",
       " 'Roberta': 54}"
      ]
     },
     "execution_count": 66,
     "metadata": {},
     "output_type": "execute_result"
    }
   ],
   "source": [
    "estudantes"
   ]
  },
  {
   "cell_type": "code",
   "execution_count": 67,
   "id": "05500002",
   "metadata": {},
   "outputs": [],
   "source": [
    "dicio1 = {}"
   ]
  },
  {
   "cell_type": "code",
   "execution_count": 68,
   "id": "3865d443",
   "metadata": {},
   "outputs": [
    {
     "data": {
      "text/plain": [
       "{}"
      ]
     },
     "execution_count": 68,
     "metadata": {},
     "output_type": "execute_result"
    }
   ],
   "source": [
    "dicio1"
   ]
  },
  {
   "cell_type": "code",
   "execution_count": 69,
   "id": "7cd184f8",
   "metadata": {},
   "outputs": [],
   "source": [
    "dicio1['Chave_um'] = 2"
   ]
  },
  {
   "cell_type": "code",
   "execution_count": 70,
   "id": "7e1f6235",
   "metadata": {},
   "outputs": [
    {
     "name": "stdout",
     "output_type": "stream",
     "text": [
      "{'Chave_um': 2}\n"
     ]
    }
   ],
   "source": [
    "print(dicio1)"
   ]
  },
  {
   "cell_type": "code",
   "execution_count": 71,
   "id": "5a43f36a",
   "metadata": {},
   "outputs": [],
   "source": [
    "dicio1[10] = 3"
   ]
  },
  {
   "cell_type": "code",
   "execution_count": 72,
   "id": "c557d1b0",
   "metadata": {},
   "outputs": [
    {
     "data": {
      "text/plain": [
       "{'Chave_um': 2, 10: 3}"
      ]
     },
     "execution_count": 72,
     "metadata": {},
     "output_type": "execute_result"
    }
   ],
   "source": [
    "dicio1"
   ]
  },
  {
   "cell_type": "code",
   "execution_count": 73,
   "id": "19aa53fe",
   "metadata": {},
   "outputs": [],
   "source": [
    "dicio1[9.13] = 'Python'"
   ]
  },
  {
   "cell_type": "code",
   "execution_count": 74,
   "id": "7aa44e72",
   "metadata": {},
   "outputs": [
    {
     "data": {
      "text/plain": [
       "{'Chave_um': 2, 10: 3, 9.13: 'Python'}"
      ]
     },
     "execution_count": 74,
     "metadata": {},
     "output_type": "execute_result"
    }
   ],
   "source": [
    "dicio1"
   ]
  },
  {
   "cell_type": "code",
   "execution_count": 75,
   "id": "940a6b80",
   "metadata": {},
   "outputs": [],
   "source": [
    "dicio1['Teste'] = 22"
   ]
  },
  {
   "cell_type": "code",
   "execution_count": 76,
   "id": "3bcc9ec4",
   "metadata": {},
   "outputs": [],
   "source": [
    "dicio2= {}"
   ]
  },
  {
   "cell_type": "code",
   "execution_count": 77,
   "id": "dca277f2",
   "metadata": {},
   "outputs": [
    {
     "data": {
      "text/plain": [
       "{}"
      ]
     },
     "execution_count": 77,
     "metadata": {},
     "output_type": "execute_result"
    }
   ],
   "source": [
    "dicio2"
   ]
  },
  {
   "cell_type": "code",
   "execution_count": 78,
   "id": "6efad611",
   "metadata": {},
   "outputs": [],
   "source": [
    "dicio2['Tete'] = 32"
   ]
  },
  {
   "cell_type": "code",
   "execution_count": 79,
   "id": "8919cd85",
   "metadata": {},
   "outputs": [],
   "source": [
    "dicio2['Ana'] = 'Clara'"
   ]
  },
  {
   "cell_type": "code",
   "execution_count": 80,
   "id": "6b31dc0c",
   "metadata": {},
   "outputs": [
    {
     "data": {
      "text/plain": [
       "{'Tete': 32, 'Ana': 'Clara'}"
      ]
     },
     "execution_count": 80,
     "metadata": {},
     "output_type": "execute_result"
    }
   ],
   "source": [
    "dicio2"
   ]
  },
  {
   "cell_type": "code",
   "execution_count": 83,
   "id": "7512db6f",
   "metadata": {},
   "outputs": [
    {
     "data": {
      "text/plain": [
       "{'Tete': 32, 'Ana': 'Clara'}"
      ]
     },
     "execution_count": 83,
     "metadata": {},
     "output_type": "execute_result"
    }
   ],
   "source": [
    "# Atenção pois chave e valor podem ser iguais, mas reçresentam coisas diferentes\n",
    "dicio2"
   ]
  },
  {
   "cell_type": "code",
   "execution_count": 1,
   "id": "f63db1e4",
   "metadata": {},
   "outputs": [],
   "source": [
    "dicio3 = {}"
   ]
  },
  {
   "cell_type": "code",
   "execution_count": 2,
   "id": "07954a99",
   "metadata": {},
   "outputs": [],
   "source": [
    "dicio3['Key1'] = 'Data Science'"
   ]
  },
  {
   "cell_type": "code",
   "execution_count": 3,
   "id": "5ed9f097",
   "metadata": {},
   "outputs": [
    {
     "data": {
      "text/plain": [
       "{'Key1': 'Data Science'}"
      ]
     },
     "execution_count": 3,
     "metadata": {},
     "output_type": "execute_result"
    }
   ],
   "source": [
    "dicio3"
   ]
  },
  {
   "cell_type": "code",
   "execution_count": 86,
   "id": "b6e61178",
   "metadata": {},
   "outputs": [],
   "source": [
    "dicio3['Key2'] = 10"
   ]
  },
  {
   "cell_type": "code",
   "execution_count": 88,
   "id": "72a2456e",
   "metadata": {},
   "outputs": [],
   "source": [
    "dicio3['Key3'] = 40"
   ]
  },
  {
   "cell_type": "code",
   "execution_count": 89,
   "id": "825db505",
   "metadata": {},
   "outputs": [
    {
     "data": {
      "text/plain": [
       "{'Key1': 'Data Science', 'Key2': 10, 'Key3': 40}"
      ]
     },
     "execution_count": 89,
     "metadata": {},
     "output_type": "execute_result"
    }
   ],
   "source": [
    "dicio3"
   ]
  },
  {
   "cell_type": "code",
   "execution_count": 96,
   "id": "e7032eea",
   "metadata": {},
   "outputs": [],
   "source": [
    "a = dicio3['Key1']"
   ]
  },
  {
   "cell_type": "code",
   "execution_count": 97,
   "id": "b8b918f1",
   "metadata": {},
   "outputs": [
    {
     "data": {
      "text/plain": [
       "'Data Science'"
      ]
     },
     "execution_count": 97,
     "metadata": {},
     "output_type": "execute_result"
    }
   ],
   "source": [
    "a"
   ]
  },
  {
   "cell_type": "code",
   "execution_count": 100,
   "id": "c29d5e7c",
   "metadata": {},
   "outputs": [],
   "source": [
    "b = dicio3['Key2']"
   ]
  },
  {
   "cell_type": "code",
   "execution_count": 101,
   "id": "b31a700b",
   "metadata": {},
   "outputs": [
    {
     "data": {
      "text/plain": [
       "10"
      ]
     },
     "execution_count": 101,
     "metadata": {},
     "output_type": "execute_result"
    }
   ],
   "source": [
    "b"
   ]
  },
  {
   "cell_type": "code",
   "execution_count": 102,
   "id": "24503cf3",
   "metadata": {},
   "outputs": [],
   "source": [
    "c = dicio3['Key3']"
   ]
  },
  {
   "cell_type": "code",
   "execution_count": 103,
   "id": "8a83a223",
   "metadata": {},
   "outputs": [
    {
     "data": {
      "text/plain": [
       "('Data Science', 10, 40)"
      ]
     },
     "execution_count": 103,
     "metadata": {},
     "output_type": "execute_result"
    }
   ],
   "source": [
    "a,b,c"
   ]
  },
  {
   "cell_type": "code",
   "execution_count": 112,
   "id": "b23c748c",
   "metadata": {},
   "outputs": [],
   "source": [
    "# Dicionario de listas\n",
    "dicio4 = { 'chave1': 1234, 'chave2': [20, 45, 73.4], 'chave3': ['picanha', 'fraudinha', 'alcatra']}\n"
   ]
  },
  {
   "cell_type": "code",
   "execution_count": 113,
   "id": "2071fb07",
   "metadata": {},
   "outputs": [
    {
     "data": {
      "text/plain": [
       "{'chave1': 1234,\n",
       " 'chave2': [20, 45, 73.4],\n",
       " 'chave3': ['picanha', 'fraudinha', 'alcatra']}"
      ]
     },
     "execution_count": 113,
     "metadata": {},
     "output_type": "execute_result"
    }
   ],
   "source": [
    "dicio4"
   ]
  },
  {
   "cell_type": "code",
   "execution_count": 114,
   "id": "ec298c94",
   "metadata": {},
   "outputs": [
    {
     "data": {
      "text/plain": [
       "[20, 45, 73.4]"
      ]
     },
     "execution_count": 114,
     "metadata": {},
     "output_type": "execute_result"
    }
   ],
   "source": [
    "dicio4['chave2']"
   ]
  },
  {
   "cell_type": "code",
   "execution_count": 109,
   "id": "2db1fad4",
   "metadata": {},
   "outputs": [
    {
     "data": {
      "text/plain": [
       "['chave2']"
      ]
     },
     "execution_count": 109,
     "metadata": {},
     "output_type": "execute_result"
    }
   ],
   "source": [
    "dicio4"
   ]
  },
  {
   "cell_type": "code",
   "execution_count": 115,
   "id": "f9b7f913",
   "metadata": {},
   "outputs": [
    {
     "data": {
      "text/plain": [
       "'PICANHA'"
      ]
     },
     "execution_count": 115,
     "metadata": {},
     "output_type": "execute_result"
    }
   ],
   "source": [
    "# Acessando um item da lista, dentro do dicionario\n",
    "dicio4['chave3'][0].upper()"
   ]
  },
  {
   "cell_type": "code",
   "execution_count": 118,
   "id": "4b315618",
   "metadata": {},
   "outputs": [],
   "source": [
    "# operação com itens da lista, dentro do dicionario\n",
    "var1 = dicio4['chave2'][0] - 2"
   ]
  },
  {
   "cell_type": "code",
   "execution_count": 119,
   "id": "d0f3fb5a",
   "metadata": {},
   "outputs": [
    {
     "data": {
      "text/plain": [
       "18"
      ]
     },
     "execution_count": 119,
     "metadata": {},
     "output_type": "execute_result"
    }
   ],
   "source": [
    "var1"
   ]
  },
  {
   "cell_type": "code",
   "execution_count": 121,
   "id": "d46550e4",
   "metadata": {},
   "outputs": [],
   "source": [
    "## Duas operações mo mesmo comando, para atualizar um item dentro da lista\n",
    "dicio4['chave2'][0] -= 2"
   ]
  },
  {
   "cell_type": "code",
   "execution_count": 122,
   "id": "05beb103",
   "metadata": {},
   "outputs": [
    {
     "data": {
      "text/plain": [
       "{'chave1': 1234,\n",
       " 'chave2': [18, 45, 73.4],\n",
       " 'chave3': ['picanha', 'fraudinha', 'alcatra']}"
      ]
     },
     "execution_count": 122,
     "metadata": {},
     "output_type": "execute_result"
    }
   ],
   "source": [
    "dicio4"
   ]
  },
  {
   "cell_type": "markdown",
   "id": "5a6888e2",
   "metadata": {},
   "source": [
    "## Criando dicionarios aninhados"
   ]
  },
  {
   "cell_type": "code",
   "execution_count": 123,
   "id": "cc718ebc",
   "metadata": {},
   "outputs": [],
   "source": [
    "dict_aninhado = { 'key1': {'key2_aninhada': {'key3_aninhada': 'Dict aninhado em Python'}}}\n"
   ]
  },
  {
   "cell_type": "code",
   "execution_count": 124,
   "id": "edf22f38",
   "metadata": {},
   "outputs": [
    {
     "data": {
      "text/plain": [
       "{'key1': {'key2_aninhada': {'key3_aninhada': 'Dict aninhado em Python'}}}"
      ]
     },
     "execution_count": 124,
     "metadata": {},
     "output_type": "execute_result"
    }
   ],
   "source": [
    "dict_aninhado"
   ]
  },
  {
   "cell_type": "code",
   "execution_count": 126,
   "id": "37babe89",
   "metadata": {},
   "outputs": [
    {
     "data": {
      "text/plain": [
       "'Dict aninhado em Python'"
      ]
     },
     "execution_count": 126,
     "metadata": {},
     "output_type": "execute_result"
    }
   ],
   "source": [
    "dict_aninhado['key1']['key2_aninhada']['key3_aninhada']"
   ]
  },
  {
   "cell_type": "markdown",
   "id": "79aa6970",
   "metadata": {},
   "source": [
    "### FIM"
   ]
  },
  {
   "cell_type": "markdown",
   "id": "8e5653e3",
   "metadata": {},
   "source": [
    "#### Tchau, obrigado!!"
   ]
  }
 ],
 "metadata": {
  "kernelspec": {
   "display_name": "Python 3 (ipykernel)",
   "language": "python",
   "name": "python3"
  },
  "language_info": {
   "codemirror_mode": {
    "name": "ipython",
    "version": 3
   },
   "file_extension": ".py",
   "mimetype": "text/x-python",
   "name": "python",
   "nbconvert_exporter": "python",
   "pygments_lexer": "ipython3",
   "version": "3.9.13"
  }
 },
 "nbformat": 4,
 "nbformat_minor": 5
}
