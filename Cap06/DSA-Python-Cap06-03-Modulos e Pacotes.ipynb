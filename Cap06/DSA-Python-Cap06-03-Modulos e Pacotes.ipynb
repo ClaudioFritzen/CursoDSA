{
 "cells": [
  {
   "cell_type": "markdown",
   "id": "9469b69f",
   "metadata": {},
   "source": [
    "### Data Science Academy \n",
    "### Fundamentos de Linguagem Python Para Analise de Dados e Data Science\n",
    "\n",
    "### Capítulo 6 - Pacotes e Módulos"
   ]
  },
  {
   "cell_type": "code",
   "execution_count": 2,
   "id": "3430cec9",
   "metadata": {},
   "outputs": [
    {
     "name": "stdout",
     "output_type": "stream",
     "text": [
      "Sua versão do Python é  3.9.13\n"
     ]
    }
   ],
   "source": [
    "from platform import python_version\n",
    "print('Sua versão do Python é ', python_version())"
   ]
  },
  {
   "cell_type": "markdown",
   "id": "9c296511",
   "metadata": {},
   "source": [
    "## Pacotes e Módulos\n",
    "Em python um módulo é um arquivo (script) que contem codigo python e pode ser importado em outros arquivos Python. Ele é usado para compartilhar funções, classes e variaveís entre arquivos.\n",
    "\n",
    "Ja um pacote é uma coleção de módulos organizados em uma estrutura de diretórios. Ele permite a divisão de um aplicativo em multiplos modulos, oque facilita a manuntenção e o desenvil"
   ]
  },
  {
   "cell_type": "code",
   "execution_count": null,
   "id": "b73b3ebf",
   "metadata": {},
   "outputs": [],
   "source": []
  },
  {
   "cell_type": "code",
   "execution_count": null,
   "id": "8a74ade9",
   "metadata": {},
   "outputs": [],
   "source": []
  }
 ],
 "metadata": {
  "kernelspec": {
   "display_name": "Python 3 (ipykernel)",
   "language": "python",
   "name": "python3"
  },
  "language_info": {
   "codemirror_mode": {
    "name": "ipython",
    "version": 3
   },
   "file_extension": ".py",
   "mimetype": "text/x-python",
   "name": "python",
   "nbconvert_exporter": "python",
   "pygments_lexer": "ipython3",
   "version": "3.9.13"
  }
 },
 "nbformat": 4,
 "nbformat_minor": 5
}
