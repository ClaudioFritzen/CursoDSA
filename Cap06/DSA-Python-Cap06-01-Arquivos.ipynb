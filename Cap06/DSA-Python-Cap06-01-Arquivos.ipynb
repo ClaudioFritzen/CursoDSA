{
 "cells": [
  {
   "cell_type": "markdown",
   "id": "a3b7a012",
   "metadata": {},
   "source": [
    "## Data Science Academy\n",
    "\n",
    "### Fundamentos de Linguagem Python Para Análise de Dados e Data Science\n",
    "\n",
    "### Capitulo 6 - Manipulação de Arquivos  - Parte 1"
   ]
  },
  {
   "cell_type": "code",
   "execution_count": 1,
   "id": "4410d5e7",
   "metadata": {},
   "outputs": [
    {
     "name": "stdout",
     "output_type": "stream",
     "text": [
      "Sua versão do Python é  3.9.13\n"
     ]
    }
   ],
   "source": [
    "# versão do Python\n",
    "\n",
    "from platform import python_version\n",
    "print('Sua versão do Python é ', python_version())"
   ]
  },
  {
   "cell_type": "markdown",
   "id": "9c34decd",
   "metadata": {},
   "source": [
    "## Manipulação de Arquivos\n"
   ]
  },
  {
   "cell_type": "markdown",
   "id": "d8ab7aab",
   "metadata": {},
   "source": [
    "### Abrindo arquivo"
   ]
  },
  {
   "cell_type": "code",
   "execution_count": 14,
   "id": "a78ca7fb",
   "metadata": {},
   "outputs": [],
   "source": [
    "# Abrindo arquivo para leitura\n",
    "arq1 = open('arquivos/arquivo1.txt', 'r')"
   ]
  },
  {
   "cell_type": "code",
   "execution_count": 15,
   "id": "00928f2e",
   "metadata": {},
   "outputs": [
    {
     "data": {
      "text/plain": [
       "_io.TextIOWrapper"
      ]
     },
     "execution_count": 15,
     "metadata": {},
     "output_type": "execute_result"
    }
   ],
   "source": [
    "type(arq1)"
   ]
  },
  {
   "cell_type": "code",
   "execution_count": 16,
   "id": "c2b7e4c6",
   "metadata": {},
   "outputs": [
    {
     "name": "stdout",
     "output_type": "stream",
     "text": [
      "A Data Science Academy fornece cursos de alta qualidade e que transmitem muito conhecimento.\n"
     ]
    }
   ],
   "source": [
    "# lendo o arquivo\n",
    "print(arq1.read())"
   ]
  },
  {
   "cell_type": "code",
   "execution_count": 17,
   "id": "563e846a",
   "metadata": {},
   "outputs": [
    {
     "name": "stdout",
     "output_type": "stream",
     "text": [
      "92\n"
     ]
    }
   ],
   "source": [
    "# Contar o número de caracteres\n",
    "print(arq1.tell())"
   ]
  },
  {
   "cell_type": "code",
   "execution_count": 18,
   "id": "33266d55",
   "metadata": {},
   "outputs": [
    {
     "name": "stdout",
     "output_type": "stream",
     "text": [
      "0\n"
     ]
    }
   ],
   "source": [
    "## retornar para o inicio do arquivo\n",
    "print(arq1.seek(0,0))"
   ]
  },
  {
   "cell_type": "code",
   "execution_count": 19,
   "id": "b256cac2",
   "metadata": {},
   "outputs": [
    {
     "name": "stdout",
     "output_type": "stream",
     "text": [
      "A Data Science Academy \n"
     ]
    }
   ],
   "source": [
    "## Lendo os primeiros 23 caracteres\n",
    "print(arq1.read(23))"
   ]
  },
  {
   "cell_type": "markdown",
   "id": "1a7080d2",
   "metadata": {},
   "source": [
    "## Gravando Arquivos"
   ]
  },
  {
   "cell_type": "code",
   "execution_count": 20,
   "id": "177aa553",
   "metadata": {},
   "outputs": [],
   "source": [
    "# Abrindo arquivo para gravação\n",
    "arq2 = open('arquivos/arquivo2.txt', 'w') # w == writer\n"
   ]
  },
  {
   "cell_type": "code",
   "execution_count": 21,
   "id": "94677814",
   "metadata": {},
   "outputs": [
    {
     "ename": "UnsupportedOperation",
     "evalue": "not readable",
     "output_type": "error",
     "traceback": [
      "\u001b[1;31m---------------------------------------------------------------------------\u001b[0m",
      "\u001b[1;31mUnsupportedOperation\u001b[0m                      Traceback (most recent call last)",
      "\u001b[1;32m~\\AppData\\Local\\Temp\\ipykernel_7404\\3460693984.py\u001b[0m in \u001b[0;36m<module>\u001b[1;34m\u001b[0m\n\u001b[0;32m      1\u001b[0m \u001b[1;31m# Como abrimos o arquivo para gravação, não podemos usar comandos de leitura.\u001b[0m\u001b[1;33m\u001b[0m\u001b[1;33m\u001b[0m\u001b[0m\n\u001b[1;32m----> 2\u001b[1;33m \u001b[0mprint\u001b[0m\u001b[1;33m(\u001b[0m\u001b[0marq2\u001b[0m\u001b[1;33m.\u001b[0m\u001b[0mread\u001b[0m\u001b[1;33m(\u001b[0m\u001b[1;33m)\u001b[0m\u001b[1;33m)\u001b[0m\u001b[1;33m\u001b[0m\u001b[1;33m\u001b[0m\u001b[0m\n\u001b[0m",
      "\u001b[1;31mUnsupportedOperation\u001b[0m: not readable"
     ]
    }
   ],
   "source": [
    "# Como abrimos o arquivo para gravação, não podemos usar comandos de leitura.\n",
    "print(arq2.read())"
   ]
  },
  {
   "cell_type": "code",
   "execution_count": 24,
   "id": "cf64efa5",
   "metadata": {},
   "outputs": [
    {
     "data": {
      "text/plain": [
       "26"
      ]
     },
     "execution_count": 24,
     "metadata": {},
     "output_type": "execute_result"
    }
   ],
   "source": [
    "# Gravando arquivo\n",
    "arq2.write('Hello World!. Leaning all ')\n",
    "\n",
    "# essa função não irá sobreescrever o que já avisa, apenas irá adicionar.\n"
   ]
  },
  {
   "cell_type": "code",
   "execution_count": 25,
   "id": "92df0a2a",
   "metadata": {},
   "outputs": [],
   "source": [
    "arq2.close()"
   ]
  },
  {
   "cell_type": "code",
   "execution_count": 26,
   "id": "95e68772",
   "metadata": {},
   "outputs": [],
   "source": [
    "## lendo o arquivo\n",
    "arq2 = open('arquivos/arquivo2.txt', 'r')"
   ]
  },
  {
   "cell_type": "code",
   "execution_count": 31,
   "id": "f1e70457",
   "metadata": {},
   "outputs": [
    {
     "ename": "ValueError",
     "evalue": "I/O operation on closed file.",
     "output_type": "error",
     "traceback": [
      "\u001b[1;31m---------------------------------------------------------------------------\u001b[0m",
      "\u001b[1;31mValueError\u001b[0m                                Traceback (most recent call last)",
      "\u001b[1;32m~\\AppData\\Local\\Temp\\ipykernel_7404\\3658608869.py\u001b[0m in \u001b[0;36m<module>\u001b[1;34m\u001b[0m\n\u001b[1;32m----> 1\u001b[1;33m \u001b[0mprint\u001b[0m\u001b[1;33m(\u001b[0m\u001b[0marq2\u001b[0m\u001b[1;33m.\u001b[0m\u001b[0mread\u001b[0m\u001b[1;33m(\u001b[0m\u001b[1;33m)\u001b[0m\u001b[1;33m)\u001b[0m\u001b[1;33m\u001b[0m\u001b[1;33m\u001b[0m\u001b[0m\n\u001b[0m",
      "\u001b[1;31mValueError\u001b[0m: I/O operation on closed file."
     ]
    }
   ],
   "source": [
    "print(arq2.read())"
   ]
  },
  {
   "cell_type": "code",
   "execution_count": 28,
   "id": "7c44af53",
   "metadata": {},
   "outputs": [],
   "source": [
    "# Acrescentando conteúdo\n",
    "arq2 = open('arquivos/arquivo2.txt', 'a') # a == append()"
   ]
  },
  {
   "cell_type": "code",
   "execution_count": 29,
   "id": "9051f018",
   "metadata": {},
   "outputs": [
    {
     "data": {
      "text/plain": [
       "73"
      ]
     },
     "execution_count": 29,
     "metadata": {},
     "output_type": "execute_result"
    }
   ],
   "source": [
    "arq2.write(' E a metodologia de ensino de Data Science academy facilita o aprendizado')"
   ]
  },
  {
   "cell_type": "code",
   "execution_count": 32,
   "id": "05afed09",
   "metadata": {},
   "outputs": [],
   "source": [
    "arq2.close()"
   ]
  },
  {
   "cell_type": "code",
   "execution_count": 34,
   "id": "dfe8585f",
   "metadata": {},
   "outputs": [],
   "source": [
    "arq2 = open('arquivos/arquivo2.txt', 'r')"
   ]
  },
  {
   "cell_type": "code",
   "execution_count": 37,
   "id": "1d8f9dc1",
   "metadata": {},
   "outputs": [
    {
     "name": "stdout",
     "output_type": "stream",
     "text": [
      "\n"
     ]
    }
   ],
   "source": [
    "print(arq2.read())"
   ]
  },
  {
   "cell_type": "code",
   "execution_count": null,
   "id": "6f0d0acd",
   "metadata": {},
   "outputs": [],
   "source": [
    "## Retornando ao inicio do arquivo para leitura\n"
   ]
  },
  {
   "cell_type": "code",
   "execution_count": null,
   "id": "bfbcce10",
   "metadata": {},
   "outputs": [],
   "source": []
  }
 ],
 "metadata": {
  "kernelspec": {
   "display_name": "Python 3 (ipykernel)",
   "language": "python",
   "name": "python3"
  },
  "language_info": {
   "codemirror_mode": {
    "name": "ipython",
    "version": 3
   },
   "file_extension": ".py",
   "mimetype": "text/x-python",
   "name": "python",
   "nbconvert_exporter": "python",
   "pygments_lexer": "ipython3",
   "version": "3.9.13"
  }
 },
 "nbformat": 4,
 "nbformat_minor": 5
}
