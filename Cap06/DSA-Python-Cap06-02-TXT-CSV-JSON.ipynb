{
 "cells": [
  {
   "cell_type": "markdown",
   "id": "92b9ba3c",
   "metadata": {},
   "source": [
    "##  Data Science Academy\n",
    "\n",
    "### Fundamentos de Linguagem Python Para Análise de Dados e Data Science\n",
    "\n",
    "### Capitulo 6 - Manipulação de Arquivos - Parte 2"
   ]
  },
  {
   "cell_type": "code",
   "execution_count": 1,
   "id": "46c83f60",
   "metadata": {},
   "outputs": [
    {
     "name": "stdout",
     "output_type": "stream",
     "text": [
      "Sua versão do python  3.9.13\n"
     ]
    }
   ],
   "source": [
    "from platform import python_version\n",
    "\n",
    "print('Sua versão do python ', python_version())"
   ]
  },
  {
   "cell_type": "markdown",
   "id": "fc09484e",
   "metadata": {},
   "source": [
    "## Manipulando TXT\n",
    "\n",
    "TXT é a extensão de arquivos para arquivos de texto puro. Um arquivo TXT é um arquivo de texto simples sem formatação, como negrito, italico ou fontes diferentes. Ele pode ser aberto e editado com muitos aplicativos diferentes, incluindo editores de texto, processadores de textos e IDEs. Arquivos TXT são amplamente utilizados para armazenar dados de texto simples, como listas, notas e documentos de texto. Eles são universais e podem ser lidos em praticamente qualquer dispositivo ou sistema operacional\n"
   ]
  },
  {
   "cell_type": "code",
   "execution_count": 2,
   "id": "72c89a11",
   "metadata": {},
   "outputs": [],
   "source": [
    "texto = 'Cientista de Dados pode ser uma excelente alternativa de carreira.\\n'\n",
    "texto = texto + 'Esses proficionais precisam saber como programar em Python. \\n'\n",
    "texto += 'E, claro, devem ser proficientes em Data Science.'"
   ]
  },
  {
   "cell_type": "code",
   "execution_count": 3,
   "id": "b52b6cfe",
   "metadata": {},
   "outputs": [
    {
     "name": "stdout",
     "output_type": "stream",
     "text": [
      "Cientista de Dados pode ser uma excelente alternativa de carreira.\n",
      "Esses proficionais precisam saber como programar em Python. \n",
      "E, claro, devem ser proficientes em Data Science.\n"
     ]
    }
   ],
   "source": [
    "print(texto)"
   ]
  },
  {
   "cell_type": "code",
   "execution_count": 4,
   "id": "1ebac580",
   "metadata": {},
   "outputs": [],
   "source": [
    "## Importando o módulo os\n",
    "import os"
   ]
  },
  {
   "cell_type": "code",
   "execution_count": 5,
   "id": "7ff4fbe8",
   "metadata": {},
   "outputs": [],
   "source": [
    "# Criando um arquivo\n",
    "arquivo = open(os.path.join('arquivos/cientista.txt'), 'w')"
   ]
  },
  {
   "cell_type": "code",
   "execution_count": 7,
   "id": "05f74710",
   "metadata": {},
   "outputs": [],
   "source": [
    "# Gravando os dados no arquivo\n",
    "for palavra in texto.split():\n",
    "    arquivo.write(palavra + ' ')"
   ]
  },
  {
   "cell_type": "code",
   "execution_count": 8,
   "id": "a2519b64",
   "metadata": {},
   "outputs": [],
   "source": [
    "# Fechando o arquivo\n",
    "arquivo.close()"
   ]
  },
  {
   "cell_type": "code",
   "execution_count": 9,
   "id": "f733f49c",
   "metadata": {},
   "outputs": [
    {
     "name": "stdout",
     "output_type": "stream",
     "text": [
      "Cientista de Dados pode ser uma excelente alternativa de carreira. Esses proficionais precisam saber como programar em Python. E, claro, devem ser proficientes em Data Science. \n"
     ]
    }
   ],
   "source": [
    "# Lendo o arquivo \n",
    "arquivo = open('arquivos/cientista.txt', 'r')\n",
    "conteudo = arquivo.read()\n",
    "arquivo.close()\n",
    "print(conteudo)"
   ]
  },
  {
   "cell_type": "markdown",
   "id": "ae467781",
   "metadata": {},
   "source": [
    "## Usando a Expressão `with`\n",
    "\n",
    "O método close() é executado automaticamente\n"
   ]
  },
  {
   "cell_type": "code",
   "execution_count": 11,
   "id": "da97ea41",
   "metadata": {},
   "outputs": [],
   "source": [
    "with open ('arquivos/cientista.txt', 'r') as arquivo:\n",
    "    \n",
    "    conteudo = arquivo.read()"
   ]
  },
  {
   "cell_type": "code",
   "execution_count": 12,
   "id": "0676cb91",
   "metadata": {},
   "outputs": [
    {
     "name": "stdout",
     "output_type": "stream",
     "text": [
      "177\n"
     ]
    }
   ],
   "source": [
    "print(len(conteudo))"
   ]
  },
  {
   "cell_type": "code",
   "execution_count": 16,
   "id": "e4b6bf8b",
   "metadata": {},
   "outputs": [],
   "source": [
    "with open('arquivos/cientista.txt', 'w') as arquivo:\n",
    "    arquivo.write(texto[:19])\n",
    "    arquivo.write('\\n')\n",
    "    arquivo.write(texto[28:66])"
   ]
  },
  {
   "cell_type": "code",
   "execution_count": 1,
   "id": "8c5f0354",
   "metadata": {},
   "outputs": [
    {
     "name": "stdout",
     "output_type": "stream",
     "text": [
      "Cientista de Dados \n",
      "uma excelente alternativa de carreira.\n"
     ]
    }
   ],
   "source": [
    "## Lendo arquivo\n",
    "arquivo = open('arquivos/cientista.txt', 'r')\n",
    "conteudo = arquivo.read()\n",
    "arquivo.close()\n",
    "print(conteudo)"
   ]
  },
  {
   "cell_type": "code",
   "execution_count": null,
   "id": "5006b0de",
   "metadata": {},
   "outputs": [],
   "source": []
  }
 ],
 "metadata": {
  "kernelspec": {
   "display_name": "Python 3 (ipykernel)",
   "language": "python",
   "name": "python3"
  },
  "language_info": {
   "codemirror_mode": {
    "name": "ipython",
    "version": 3
   },
   "file_extension": ".py",
   "mimetype": "text/x-python",
   "name": "python",
   "nbconvert_exporter": "python",
   "pygments_lexer": "ipython3",
   "version": "3.9.13"
  }
 },
 "nbformat": 4,
 "nbformat_minor": 5
}
