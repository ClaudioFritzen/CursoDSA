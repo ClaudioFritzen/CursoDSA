{
 "cells": [
  {
   "cell_type": "markdown",
   "id": "92b9ba3c",
   "metadata": {},
   "source": [
    "##  Data Science Academy\n",
    "\n",
    "### Fundamentos de Linguagem Python Para Análise de Dados e Data Science\n",
    "\n",
    "### Capitulo 6 - Manipulação de Arquivos - Parte 2"
   ]
  },
  {
   "cell_type": "code",
   "execution_count": 1,
   "id": "46c83f60",
   "metadata": {},
   "outputs": [
    {
     "name": "stdout",
     "output_type": "stream",
     "text": [
      "Sua versão do python  3.9.13\n"
     ]
    }
   ],
   "source": [
    "from platform import python_version\n",
    "\n",
    "print('Sua versão do python ', python_version())"
   ]
  },
  {
   "cell_type": "markdown",
   "id": "fc09484e",
   "metadata": {},
   "source": [
    "## Manipulando TXT\n",
    "\n",
    "TXT é a extensão de arquivos para arquivos de texto puro. Um arquivo TXT é um arquivo de texto simples sem formatação, como negrito, italico ou fontes diferentes. Ele pode ser aberto e editado com muitos aplicativos diferentes, incluindo editores de texto, processadores de textos e IDEs. Arquivos TXT são amplamente utilizados para armazenar dados de texto simples, como listas, notas e documentos de texto. Eles são universais e podem ser lidos em praticamente qualquer dispositivo ou sistema operacional\n"
   ]
  },
  {
   "cell_type": "code",
   "execution_count": 2,
   "id": "72c89a11",
   "metadata": {},
   "outputs": [],
   "source": [
    "texto = 'Cientista de Dados pode ser uma excelente alternativa de carreira.\\n'\n",
    "texto = texto + 'Esses proficionais precisam saber como programar em Python. \\n'\n",
    "texto += 'E, claro, devem ser proficientes em Data Science.'"
   ]
  },
  {
   "cell_type": "code",
   "execution_count": 3,
   "id": "b52b6cfe",
   "metadata": {},
   "outputs": [
    {
     "name": "stdout",
     "output_type": "stream",
     "text": [
      "Cientista de Dados pode ser uma excelente alternativa de carreira.\n",
      "Esses proficionais precisam saber como programar em Python. \n",
      "E, claro, devem ser proficientes em Data Science.\n"
     ]
    }
   ],
   "source": [
    "print(texto)"
   ]
  },
  {
   "cell_type": "code",
   "execution_count": 4,
   "id": "1ebac580",
   "metadata": {},
   "outputs": [],
   "source": [
    "## Importando o módulo os\n",
    "import os"
   ]
  },
  {
   "cell_type": "code",
   "execution_count": 5,
   "id": "7ff4fbe8",
   "metadata": {},
   "outputs": [],
   "source": [
    "# Criando um arquivo\n",
    "arquivo = open(os.path.join('arquivos/cientista.txt'), 'w')"
   ]
  },
  {
   "cell_type": "code",
   "execution_count": 6,
   "id": "05f74710",
   "metadata": {},
   "outputs": [],
   "source": [
    "# Gravando os dados no arquivo\n",
    "for palavra in texto.split():\n",
    "    arquivo.write(palavra + ' ')"
   ]
  },
  {
   "cell_type": "code",
   "execution_count": 7,
   "id": "a2519b64",
   "metadata": {},
   "outputs": [],
   "source": [
    "# Fechando o arquivo\n",
    "arquivo.close()"
   ]
  },
  {
   "cell_type": "code",
   "execution_count": 8,
   "id": "f733f49c",
   "metadata": {},
   "outputs": [
    {
     "name": "stdout",
     "output_type": "stream",
     "text": [
      "Cientista de Dados pode ser uma excelente alternativa de carreira. Esses proficionais precisam saber como programar em Python. E, claro, devem ser proficientes em Data Science. \n"
     ]
    }
   ],
   "source": [
    "# Lendo o arquivo \n",
    "arquivo = open('arquivos/cientista.txt', 'r')\n",
    "conteudo = arquivo.read()\n",
    "arquivo.close()\n",
    "print(conteudo)"
   ]
  },
  {
   "cell_type": "markdown",
   "id": "ae467781",
   "metadata": {},
   "source": [
    "## Usando a Expressão `with`\n",
    "\n",
    "O método close() é executado automaticamente\n"
   ]
  },
  {
   "cell_type": "code",
   "execution_count": 9,
   "id": "da97ea41",
   "metadata": {},
   "outputs": [],
   "source": [
    "with open ('arquivos/cientista.txt', 'r') as arquivo:\n",
    "    \n",
    "    conteudo = arquivo.read()"
   ]
  },
  {
   "cell_type": "code",
   "execution_count": 10,
   "id": "0676cb91",
   "metadata": {},
   "outputs": [
    {
     "name": "stdout",
     "output_type": "stream",
     "text": [
      "177\n"
     ]
    }
   ],
   "source": [
    "print(len(conteudo))"
   ]
  },
  {
   "cell_type": "code",
   "execution_count": 11,
   "id": "e4b6bf8b",
   "metadata": {},
   "outputs": [],
   "source": [
    "with open('arquivos/cientista.txt', 'w') as arquivo:\n",
    "    arquivo.write(texto[:19])\n",
    "    arquivo.write('\\n')\n",
    "    arquivo.write(texto[28:66])"
   ]
  },
  {
   "cell_type": "code",
   "execution_count": 12,
   "id": "8c5f0354",
   "metadata": {},
   "outputs": [
    {
     "name": "stdout",
     "output_type": "stream",
     "text": [
      "Cientista de Dados \n",
      "uma excelente alternativa de carreira.\n"
     ]
    }
   ],
   "source": [
    "## Lendo arquivo\n",
    "arquivo = open('arquivos/cientista.txt', 'r')\n",
    "conteudo = arquivo.read()\n",
    "arquivo.close()\n",
    "print(conteudo)"
   ]
  },
  {
   "cell_type": "markdown",
   "id": "daa482b6",
   "metadata": {},
   "source": [
    "## Manipulando Arquivos CSV\n",
    "\n",
    "CSV(Comma-Separated-Values) é um formato que armazena dados tabulares em formato de texto plano. Cada linha do CSV representa uma linha da tabela e as colunas são separadas por vírgulas. É amplamente utilizado para exportar e importar dados em diferentes aplicações como planilhas e banco de dados. CSV é uma opção simples e universal para compartilhar dados, pois pode ser aberto e editado com muitos aplicativos diferentes, incluindo programas de planilhas e editores de textos."
   ]
  },
  {
   "cell_type": "code",
   "execution_count": 13,
   "id": "060176a1",
   "metadata": {},
   "outputs": [],
   "source": [
    "# Importando o módulo CSV\n",
    "import csv"
   ]
  },
  {
   "cell_type": "code",
   "execution_count": 14,
   "id": "e715554b",
   "metadata": {},
   "outputs": [],
   "source": [
    "with open('arquivos/numeros.csv', 'w') as arquivo:\n",
    "    \n",
    "    # cria objeto de gravação\n",
    "    writer = csv.writer(arquivo)\n",
    "    \n",
    "    # Grava no arquivo linha a linha\n",
    "    writer.writerow(('nota1', 'nota2', 'nota3'))\n",
    "    writer.writerow((63, 87, 92))\n",
    "    writer.writerow((61, 79, 76))\n",
    "    writer.writerow((72, 64, 91))\n",
    "    writer.writerow(('Agua', 'Arroz','Ameixa'))"
   ]
  },
  {
   "cell_type": "code",
   "execution_count": 15,
   "id": "fc2b5da8",
   "metadata": {},
   "outputs": [
    {
     "name": "stdout",
     "output_type": "stream",
     "text": [
      "['nota1', 'nota2', 'nota3']\n",
      "['63', '87', '92']\n",
      "['61', '79', '76']\n",
      "['72', '64', '91']\n",
      "['Agua', 'Arroz', 'Ameixa']\n"
     ]
    }
   ],
   "source": [
    "# leitura de arquivos csv\n",
    "with open('arquivos/numeros.csv', 'r', encoding='utf-8', newline = '\\r\\n') as arquivo:\n",
    "    \n",
    "    # Cria o objeto de leitura\n",
    "    leitor = csv.reader(arquivo)\n",
    "    \n",
    "    # loop\n",
    "    for x in leitor:\n",
    "        print(x)"
   ]
  },
  {
   "cell_type": "code",
   "execution_count": 17,
   "id": "32394ca9",
   "metadata": {},
   "outputs": [],
   "source": [
    "# gerando uma lista com dados do arquivo csv\n",
    "with open('arquivos/numeros.csv', 'r') as arquivos:\n",
    "    leitor = csv.reader(arquivos)\n",
    "    dados = list(leitor)\n",
    "    "
   ]
  },
  {
   "cell_type": "code",
   "execution_count": 18,
   "id": "5140cc24",
   "metadata": {},
   "outputs": [
    {
     "name": "stdout",
     "output_type": "stream",
     "text": [
      "[['nota1', 'nota2', 'nota3'], [], ['63', '87', '92'], [], ['61', '79', '76'], [], ['72', '64', '91'], [], ['Agua', 'Arroz', 'Ameixa'], []]\n"
     ]
    }
   ],
   "source": [
    "print(dados)"
   ]
  },
  {
   "cell_type": "code",
   "execution_count": 19,
   "id": "ce5ba186",
   "metadata": {},
   "outputs": [
    {
     "name": "stdout",
     "output_type": "stream",
     "text": [
      "[]\n",
      "['63', '87', '92']\n",
      "[]\n",
      "['61', '79', '76']\n",
      "[]\n",
      "['72', '64', '91']\n",
      "[]\n",
      "['Agua', 'Arroz', 'Ameixa']\n",
      "[]\n"
     ]
    }
   ],
   "source": [
    "# imprimindo a partir da segunda linha\n",
    "for linha in dados[1:]:\n",
    "    print(linha)"
   ]
  },
  {
   "cell_type": "markdown",
   "id": "2fd57233",
   "metadata": {},
   "source": [
    "## Manipulando Arquivos JSON ( Java Script Object Notation )\n",
    "Json (Java Script Object Notation) é um formato de dados de texto simples e leve que é utilizado para transmitir informações em aplicações web. É baseado em uma estrutura de objetos JavaScript e usa pares de chave-valor para representar dados. JSON é facilmente lido e escrito por máquina e é amplamente utilizado como formato de intercânbio de dados em aplicações web modernas."
   ]
  },
  {
   "cell_type": "code",
   "execution_count": 20,
   "id": "ff9db7ec",
   "metadata": {},
   "outputs": [],
   "source": [
    "## Criando um dicionario\n",
    "\n",
    "dict_guido = {\n",
    "    'nome': 'Guido van Rossum',\n",
    "    'linguagem': 'Python',\n",
    "    'similar' : ['c', 'Module-3', 'lisp'],\n",
    "    'users': 100000\n",
    "}"
   ]
  },
  {
   "cell_type": "code",
   "execution_count": 21,
   "id": "58862362",
   "metadata": {},
   "outputs": [
    {
     "name": "stdout",
     "output_type": "stream",
     "text": [
      "nome Guido van Rossum\n",
      "linguagem Python\n",
      "similar ['c', 'Module-3', 'lisp']\n",
      "users 100000\n"
     ]
    }
   ],
   "source": [
    "for k,v in dict_guido.items():\n",
    "    print(k,v)"
   ]
  },
  {
   "cell_type": "code",
   "execution_count": 22,
   "id": "4e1388ab",
   "metadata": {},
   "outputs": [],
   "source": [
    "# importando módulo JSON\n",
    "import json"
   ]
  },
  {
   "cell_type": "code",
   "execution_count": 23,
   "id": "a9c2512f",
   "metadata": {},
   "outputs": [
    {
     "data": {
      "text/plain": [
       "'{\"nome\": \"Guido van Rossum\", \"linguagem\": \"Python\", \"similar\": [\"c\", \"Module-3\", \"lisp\"], \"users\": 100000}'"
      ]
     },
     "execution_count": 23,
     "metadata": {},
     "output_type": "execute_result"
    }
   ],
   "source": [
    "# Convertendo o dicionario para um objeto json\n",
    "json.dumps(dict_guido)"
   ]
  },
  {
   "cell_type": "code",
   "execution_count": 25,
   "id": "13c69e75",
   "metadata": {},
   "outputs": [],
   "source": [
    "# Criando um arquivo Json\n",
    "with open('arquivos/dados.json', 'w') as arquivo:\n",
    "    arquivo.write(json.dumps(dict_guido))"
   ]
  },
  {
   "cell_type": "code",
   "execution_count": 27,
   "id": "aee23b3f",
   "metadata": {},
   "outputs": [],
   "source": [
    "# Leitura de um arquivo json\n",
    "with open('arquivos/dados.json', 'r') as arquivo:\n",
    "    texto = arquivo.read()\n",
    "    dados = json.loads(texto)"
   ]
  },
  {
   "cell_type": "code",
   "execution_count": 29,
   "id": "b5452f54",
   "metadata": {},
   "outputs": [
    {
     "data": {
      "text/plain": [
       "{'nome': 'Guido van Rossum',\n",
       " 'linguagem': 'Python',\n",
       " 'similar': ['c', 'Module-3', 'lisp'],\n",
       " 'users': 100000}"
      ]
     },
     "execution_count": 29,
     "metadata": {},
     "output_type": "execute_result"
    }
   ],
   "source": [
    "dados"
   ]
  },
  {
   "cell_type": "code",
   "execution_count": 32,
   "id": "cf449040",
   "metadata": {},
   "outputs": [
    {
     "name": "stdout",
     "output_type": "stream",
     "text": [
      "Python\n"
     ]
    }
   ],
   "source": [
    "print(dados['linguagem'])"
   ]
  },
  {
   "cell_type": "markdown",
   "id": "d8d1cb49",
   "metadata": {},
   "source": [
    "## Extração de Arquivo da Web"
   ]
  },
  {
   "cell_type": "code",
   "execution_count": 33,
   "id": "8db31677",
   "metadata": {},
   "outputs": [],
   "source": [
    "# Imprimindo um arquivo JSON copiado da internet\n",
    "from urllib.request import urlopen\n",
    "\n",
    "response = urlopen('http://vimeo.com/api/v2/video/57733101.json').read().decode('utf-8')\n",
    "dados = json.loads(response)[0]"
   ]
  },
  {
   "cell_type": "code",
   "execution_count": 34,
   "id": "352438b7",
   "metadata": {},
   "outputs": [
    {
     "data": {
      "text/plain": [
       "{'id': 57733101,\n",
       " 'title': 'The Good Man trailer',\n",
       " 'description': 'Trailer for the Manifesto Films production, The Good Man, now available in UK/Ireland/US/Canada/Australia/New Zealand on iTunes (https://itunes.apple.com/us/movie/the-good-man/id873130906) and DVD (http://www.amazon.co.uk/The-Good-Man-Aiden-Gillen/dp/B00IIK6CGU/). Co-production with Jet Black Entertainment (South Africa). Starring Aidan Gillen, Thabang Sidloyi, Kelly Campbell, Lunathi Mampofu. Written & directed by Phil Harrison. More info at www.thegoodmanfilm.com<br />\\r\\n<br />\\r\\nCheck out the Variety Magazine review here: http://www.variety.com/review/VE1117947909/',\n",
       " 'url': 'https://vimeo.com/57733101',\n",
       " 'upload_date': '2013-01-19 04:01:15',\n",
       " 'thumbnail_small': 'http://i.vimeocdn.com/video/436057121-e828a1f5478ec0136e957753d107f2a1268c64def9b82faac37c8e30c031cff2-d_100x75',\n",
       " 'thumbnail_medium': 'http://i.vimeocdn.com/video/436057121-e828a1f5478ec0136e957753d107f2a1268c64def9b82faac37c8e30c031cff2-d_200x150',\n",
       " 'thumbnail_large': 'http://i.vimeocdn.com/video/436057121-e828a1f5478ec0136e957753d107f2a1268c64def9b82faac37c8e30c031cff2-d_640',\n",
       " 'user_id': 1334563,\n",
       " 'user_name': 'Manifesto Films',\n",
       " 'user_url': 'https://vimeo.com/manifestofilms',\n",
       " 'user_portrait_small': 'http://i.vimeocdn.com/portrait/4778306_30x30',\n",
       " 'user_portrait_medium': 'http://i.vimeocdn.com/portrait/4778306_75x75',\n",
       " 'user_portrait_large': 'http://i.vimeocdn.com/portrait/4778306_100x100',\n",
       " 'user_portrait_huge': 'http://i.vimeocdn.com/portrait/4778306_300x300',\n",
       " 'stats_number_of_likes': 17,\n",
       " 'stats_number_of_plays': 6585,\n",
       " 'stats_number_of_comments': 0,\n",
       " 'duration': 143,\n",
       " 'width': 1024,\n",
       " 'height': 576,\n",
       " 'tags': 'belfast, cape town, africa, ireland, film',\n",
       " 'embed_privacy': 'anywhere'}"
      ]
     },
     "execution_count": 34,
     "metadata": {},
     "output_type": "execute_result"
    }
   ],
   "source": [
    "dados"
   ]
  },
  {
   "cell_type": "code",
   "execution_count": 39,
   "id": "d35dea39",
   "metadata": {},
   "outputs": [
    {
     "name": "stdout",
     "output_type": "stream",
     "text": [
      "Titulo:  The Good Man trailer\n",
      "URL:  https://vimeo.com/57733101\n",
      "Duração:  143\n",
      "Números de Visualizações:  6585\n",
      "Quantidade de likes no video:  17\n"
     ]
    }
   ],
   "source": [
    "print('Titulo: ', dados['title'])\n",
    "print('URL: ', dados['url'])\n",
    "print('Duração: ', dados['duration'])\n",
    "print('Números de Visualizações: ', dados['stats_number_of_plays'])\n",
    "print('Quantidade de likes no video: ', dados['stats_number_of_likes'])"
   ]
  },
  {
   "cell_type": "markdown",
   "id": "5c11d7fe",
   "metadata": {},
   "source": [
    "### Copiando o conteúdo de um arquivo para outro"
   ]
  },
  {
   "cell_type": "code",
   "execution_count": 40,
   "id": "f8d4a23e",
   "metadata": {},
   "outputs": [],
   "source": [
    "## Nomes dos arquivos\n",
    "arquivo_fonte = 'arquivos/dados.json'\n",
    "arquivo_destino = 'arquivos/dados.txt'"
   ]
  },
  {
   "cell_type": "code",
   "execution_count": 47,
   "id": "5cb57a8a",
   "metadata": {},
   "outputs": [],
   "source": [
    "# Método 1\n",
    "with open(arquivo_fonte, 'r') as infile:\n",
    "    text = infile.read()\n",
    "    with open(arquivo_destino, 'w') as outfile:\n",
    "        outfile.write(text)"
   ]
  },
  {
   "cell_type": "code",
   "execution_count": null,
   "id": "87ebe99d",
   "metadata": {},
   "outputs": [],
   "source": []
  },
  {
   "cell_type": "code",
   "execution_count": null,
   "id": "0c822fc0",
   "metadata": {},
   "outputs": [],
   "source": []
  },
  {
   "cell_type": "code",
   "execution_count": 42,
   "id": "056b97b4",
   "metadata": {},
   "outputs": [
    {
     "data": {
      "text/plain": [
       "106"
      ]
     },
     "execution_count": 42,
     "metadata": {},
     "output_type": "execute_result"
    }
   ],
   "source": [
    "# Método 2\n",
    "open(arquivo_destino, 'w').write(open(arquivo_fonte, 'r').read())"
   ]
  },
  {
   "cell_type": "code",
   "execution_count": 43,
   "id": "c584c4fd",
   "metadata": {},
   "outputs": [],
   "source": [
    "# Leitura do arquivo txt\n",
    "with open('arquivos/dados.txt', 'r') as arquivo:\n",
    "    texto = arquivo.read()\n",
    "    dados = json.loads(texto)"
   ]
  },
  {
   "cell_type": "code",
   "execution_count": 49,
   "id": "6d20ae79",
   "metadata": {},
   "outputs": [
    {
     "name": "stdout",
     "output_type": "stream",
     "text": [
      "{'nome': 'Guido van Rossum', 'linguagem': 'Python', 'similar': ['c', 'Module-3', 'lisp'], 'users': 100000}\n"
     ]
    }
   ],
   "source": [
    "print(dados)"
   ]
  },
  {
   "cell_type": "markdown",
   "id": "281dc9a0",
   "metadata": {},
   "source": [
    "FIM"
   ]
  }
 ],
 "metadata": {
  "kernelspec": {
   "display_name": "Python 3 (ipykernel)",
   "language": "python",
   "name": "python3"
  },
  "language_info": {
   "codemirror_mode": {
    "name": "ipython",
    "version": 3
   },
   "file_extension": ".py",
   "mimetype": "text/x-python",
   "name": "python",
   "nbconvert_exporter": "python",
   "pygments_lexer": "ipython3",
   "version": "3.9.13"
  }
 },
 "nbformat": 4,
 "nbformat_minor": 5
}
