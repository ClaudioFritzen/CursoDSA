{
 "cells": [
  {
   "cell_type": "markdown",
   "id": "794781f1",
   "metadata": {},
   "source": [
    "### Expressões Regulares\n",
    "\n",
    "Expressões regulares são padrões usados para combinar ou encontrar ocorrência de seguências de caracteres em um string. Em Python, expressões regulares são geralmente usadas para manipular strings e realizar tarefas como validação de entrada de dados, extração de informações de strings e substituição de texto."
   ]
  },
  {
   "cell_type": "code",
   "execution_count": 1,
   "id": "b7b5b213",
   "metadata": {},
   "outputs": [],
   "source": [
    "import re"
   ]
  },
  {
   "cell_type": "code",
   "execution_count": 2,
   "id": "09faa538",
   "metadata": {},
   "outputs": [],
   "source": [
    "texto = 'Meu e-mail é exemplo@gmail.com e você pode contatar em outro_email@yahoo.com.'\n"
   ]
  },
  {
   "cell_type": "code",
   "execution_count": 3,
   "id": "bcd88a49",
   "metadata": {},
   "outputs": [],
   "source": [
    "# Expressão regular para quantar quantas vezes o caracter arroba aparece no texto\n",
    "resultado = len(re.findall('@', texto))"
   ]
  },
  {
   "cell_type": "code",
   "execution_count": 4,
   "id": "a8f12e8f",
   "metadata": {},
   "outputs": [
    {
     "name": "stdout",
     "output_type": "stream",
     "text": [
      "O @ aparece 2 no texto\n"
     ]
    }
   ],
   "source": [
    "print('O @ aparece', resultado, 'no texto')"
   ]
  },
  {
   "cell_type": "code",
   "execution_count": 10,
   "id": "9e196c81",
   "metadata": {},
   "outputs": [],
   "source": [
    "# Expressão regular para extrair a palavra que aparece após a palavra 'você' em um texto\n",
    "resultado = re.findall(r'você (\\w+)',texto)"
   ]
  },
  {
   "cell_type": "code",
   "execution_count": 12,
   "id": "a2c929ea",
   "metadata": {},
   "outputs": [
    {
     "name": "stdout",
     "output_type": "stream",
     "text": [
      "A palavra após 'você' é: pode\n"
     ]
    }
   ],
   "source": [
    "print(\"A palavra após 'você' é:\", resultado[0])"
   ]
  },
  {
   "cell_type": "markdown",
   "id": "23b190ef",
   "metadata": {},
   "source": [
    "###"
   ]
  },
  {
   "cell_type": "code",
   "execution_count": null,
   "id": "a9b03244",
   "metadata": {},
   "outputs": [],
   "source": []
  }
 ],
 "metadata": {
  "kernelspec": {
   "display_name": "Python 3 (ipykernel)",
   "language": "python",
   "name": "python3"
  },
  "language_info": {
   "codemirror_mode": {
    "name": "ipython",
    "version": 3
   },
   "file_extension": ".py",
   "mimetype": "text/x-python",
   "name": "python",
   "nbconvert_exporter": "python",
   "pygments_lexer": "ipython3",
   "version": "3.9.13"
  }
 },
 "nbformat": 4,
 "nbformat_minor": 5
}
