{
 "cells": [
  {
   "cell_type": "markdown",
   "id": "fee0e37b",
   "metadata": {},
   "source": [
    "## Data Science Academy\n",
    "\n",
    "### Fundamentos de Linguagem Python Para Analise de Dados e Data Science\n",
    "\n",
    "### Capitulo 06 - Tratamento  de Erros e Exceções"
   ]
  },
  {
   "cell_type": "code",
   "execution_count": 1,
   "id": "959eecee",
   "metadata": {},
   "outputs": [
    {
     "name": "stdout",
     "output_type": "stream",
     "text": [
      "Your version Python is 3.9.13\n"
     ]
    }
   ],
   "source": [
    "# version Python\n",
    "from platform import python_version\n",
    "\n",
    "print('Your version Python is', python_version())"
   ]
  },
  {
   "cell_type": "markdown",
   "id": "c6a808bc",
   "metadata": {},
   "source": [
    "## Erros e Exceções\n",
    "\n",
    "Sempre leia as mensagens de erro. Erros fazem parte do processo de aprendizagem e vão acompanhar você na sua jornada em programação, em qualquer linguagem."
   ]
  },
  {
   "cell_type": "code",
   "execution_count": 6,
   "id": "d4fa592c",
   "metadata": {},
   "outputs": [],
   "source": [
    "img_erro = open('imagens/mensagem_erro.png')"
   ]
  },
  {
   "cell_type": "code",
   "execution_count": 9,
   "id": "40bf6edb",
   "metadata": {},
   "outputs": [
    {
     "data": {
      "text/plain": [
       "_io.TextIOWrapper"
      ]
     },
     "execution_count": 9,
     "metadata": {},
     "output_type": "execute_result"
    }
   ],
   "source": [
    "type(img_erro)"
   ]
  },
  {
   "cell_type": "code",
   "execution_count": 10,
   "id": "f523a526",
   "metadata": {},
   "outputs": [
    {
     "ename": "SyntaxError",
     "evalue": "EOL while scanning string literal (367518897.py, line 3)",
     "output_type": "error",
     "traceback": [
      "\u001b[1;36m  File \u001b[1;32m\"C:\\Users\\Bruna Cirigaita\\AppData\\Local\\Temp\\ipykernel_7236\\367518897.py\"\u001b[1;36m, line \u001b[1;32m3\u001b[0m\n\u001b[1;33m    print('Hello)\u001b[0m\n\u001b[1;37m                 ^\u001b[0m\n\u001b[1;31mSyntaxError\u001b[0m\u001b[1;31m:\u001b[0m EOL while scanning string literal\n"
     ]
    }
   ],
   "source": [
    "## erro  leia a mensagem de erro\n",
    "\n",
    "print('Hello)"
   ]
  },
  {
   "cell_type": "code",
   "execution_count": 11,
   "id": "078cc0cb",
   "metadata": {},
   "outputs": [
    {
     "ename": "TypeError",
     "evalue": "unsupported operand type(s) for +: 'int' and 'str'",
     "output_type": "error",
     "traceback": [
      "\u001b[1;31m---------------------------------------------------------------------------\u001b[0m",
      "\u001b[1;31mTypeError\u001b[0m                                 Traceback (most recent call last)",
      "\u001b[1;32m~\\AppData\\Local\\Temp\\ipykernel_7236\\3202530676.py\u001b[0m in \u001b[0;36m<module>\u001b[1;34m\u001b[0m\n\u001b[0;32m      1\u001b[0m \u001b[1;31m# Erro (leia a mensagem de erro)\u001b[0m\u001b[1;33m\u001b[0m\u001b[1;33m\u001b[0m\u001b[0m\n\u001b[0;32m      2\u001b[0m \u001b[1;33m\u001b[0m\u001b[0m\n\u001b[1;32m----> 3\u001b[1;33m \u001b[1;36m8\u001b[0m \u001b[1;33m+\u001b[0m \u001b[1;34m'a'\u001b[0m\u001b[1;33m\u001b[0m\u001b[1;33m\u001b[0m\u001b[0m\n\u001b[0m",
      "\u001b[1;31mTypeError\u001b[0m: unsupported operand type(s) for +: 'int' and 'str'"
     ]
    }
   ],
   "source": [
    "# Erro (leia a mensagem de erro)\n",
    "\n",
    "8 + 'a'"
   ]
  },
  {
   "cell_type": "code",
   "execution_count": 12,
   "id": "61038702",
   "metadata": {},
   "outputs": [],
   "source": [
    "# criando uma função\n",
    "\n",
    "def numDiv (num1, num2):\n",
    "    resultado = num1 / num2\n",
    "    print(resultado)"
   ]
  },
  {
   "cell_type": "code",
   "execution_count": 15,
   "id": "67332a5e",
   "metadata": {},
   "outputs": [
    {
     "name": "stdout",
     "output_type": "stream",
     "text": [
      "2.0\n"
     ]
    }
   ],
   "source": [
    "#executando sem erro\n",
    "numDiv(4,2)"
   ]
  },
  {
   "cell_type": "code",
   "execution_count": 16,
   "id": "ba408deb",
   "metadata": {},
   "outputs": [
    {
     "ename": "ZeroDivisionError",
     "evalue": "division by zero",
     "output_type": "error",
     "traceback": [
      "\u001b[1;31m---------------------------------------------------------------------------\u001b[0m",
      "\u001b[1;31mZeroDivisionError\u001b[0m                         Traceback (most recent call last)",
      "\u001b[1;32m~\\AppData\\Local\\Temp\\ipykernel_7236\\1813853311.py\u001b[0m in \u001b[0;36m<module>\u001b[1;34m\u001b[0m\n\u001b[0;32m      1\u001b[0m \u001b[1;31m# Criando o erro ao chamar a função\u001b[0m\u001b[1;33m\u001b[0m\u001b[1;33m\u001b[0m\u001b[0m\n\u001b[1;32m----> 2\u001b[1;33m \u001b[0mnumDiv\u001b[0m\u001b[1;33m(\u001b[0m\u001b[1;36m4\u001b[0m\u001b[1;33m,\u001b[0m\u001b[1;36m0\u001b[0m\u001b[1;33m)\u001b[0m\u001b[1;33m\u001b[0m\u001b[1;33m\u001b[0m\u001b[0m\n\u001b[0m",
      "\u001b[1;32m~\\AppData\\Local\\Temp\\ipykernel_7236\\2494238841.py\u001b[0m in \u001b[0;36mnumDiv\u001b[1;34m(num1, num2)\u001b[0m\n\u001b[0;32m      2\u001b[0m \u001b[1;33m\u001b[0m\u001b[0m\n\u001b[0;32m      3\u001b[0m \u001b[1;32mdef\u001b[0m \u001b[0mnumDiv\u001b[0m \u001b[1;33m(\u001b[0m\u001b[0mnum1\u001b[0m\u001b[1;33m,\u001b[0m \u001b[0mnum2\u001b[0m\u001b[1;33m)\u001b[0m\u001b[1;33m:\u001b[0m\u001b[1;33m\u001b[0m\u001b[1;33m\u001b[0m\u001b[0m\n\u001b[1;32m----> 4\u001b[1;33m     \u001b[0mresultado\u001b[0m \u001b[1;33m=\u001b[0m \u001b[0mnum1\u001b[0m \u001b[1;33m/\u001b[0m \u001b[0mnum2\u001b[0m\u001b[1;33m\u001b[0m\u001b[1;33m\u001b[0m\u001b[0m\n\u001b[0m\u001b[0;32m      5\u001b[0m     \u001b[0mprint\u001b[0m\u001b[1;33m(\u001b[0m\u001b[0mresultado\u001b[0m\u001b[1;33m)\u001b[0m\u001b[1;33m\u001b[0m\u001b[1;33m\u001b[0m\u001b[0m\n",
      "\u001b[1;31mZeroDivisionError\u001b[0m: division by zero"
     ]
    }
   ],
   "source": [
    "# Criando o erro ao chamar a função\n",
    "numDiv(4,0)"
   ]
  },
  {
   "cell_type": "markdown",
   "id": "69a79756",
   "metadata": {},
   "source": [
    "## Try , Except, Finally"
   ]
  },
  {
   "cell_type": "code",
   "execution_count": 17,
   "id": "bbdeb42c",
   "metadata": {},
   "outputs": [
    {
     "ename": "TypeError",
     "evalue": "unsupported operand type(s) for +: 'int' and 'str'",
     "output_type": "error",
     "traceback": [
      "\u001b[1;31m---------------------------------------------------------------------------\u001b[0m",
      "\u001b[1;31mTypeError\u001b[0m                                 Traceback (most recent call last)",
      "\u001b[1;32m~\\AppData\\Local\\Temp\\ipykernel_7236\\1327032741.py\u001b[0m in \u001b[0;36m<module>\u001b[1;34m\u001b[0m\n\u001b[0;32m      1\u001b[0m \u001b[1;31m# erro (leia a mensagem de errro)\u001b[0m\u001b[1;33m\u001b[0m\u001b[1;33m\u001b[0m\u001b[0m\n\u001b[1;32m----> 2\u001b[1;33m \u001b[1;36m8\u001b[0m \u001b[1;33m+\u001b[0m \u001b[1;34m'a'\u001b[0m\u001b[1;33m\u001b[0m\u001b[1;33m\u001b[0m\u001b[0m\n\u001b[0m",
      "\u001b[1;31mTypeError\u001b[0m: unsupported operand type(s) for +: 'int' and 'str'"
     ]
    }
   ],
   "source": [
    "# erro (leia a mensagem de errro)\n",
    "8 + 'a'"
   ]
  },
  {
   "cell_type": "code",
   "execution_count": 20,
   "id": "f341fa9d",
   "metadata": {},
   "outputs": [
    {
     "name": "stdout",
     "output_type": "stream",
     "text": [
      "Operação invalida!!\n"
     ]
    }
   ],
   "source": [
    "# Utilizando try e except\n",
    "try:\n",
    "    8 + 'a'\n",
    "except TypeError:\n",
    "    print('Operação invalida!!')"
   ]
  },
  {
   "cell_type": "code",
   "execution_count": 21,
   "id": "80d6ee5c",
   "metadata": {},
   "outputs": [
    {
     "name": "stdout",
     "output_type": "stream",
     "text": [
      "Conteúdo gravado com sucesso\n"
     ]
    }
   ],
   "source": [
    "## Utilizando try, except e else\n",
    "\n",
    "try:\n",
    "    f = open('arquivos/testandoerros.txt', 'w')\n",
    "    f.write('Gravando no arquivo')\n",
    "except IOError:\n",
    "    print('Erro: arquivo não encontrado ou não pode ser salvo.')\n",
    "else:\n",
    "    print('Conteúdo gravado com sucesso')\n",
    "    f.close()"
   ]
  },
  {
   "cell_type": "code",
   "execution_count": 26,
   "id": "14c1fe20",
   "metadata": {},
   "outputs": [
    {
     "name": "stdout",
     "output_type": "stream",
     "text": [
      "Erro!! Arquivo não encontrado ou não pode ser gravado\n"
     ]
    }
   ],
   "source": [
    "# utilizando try except e else\n",
    "try:\n",
    "    f = open('arquivos/testandoerros', 'r')\n",
    "except IOError:\n",
    "    print('Erro!! Arquivo não encontrado ou não pode ser gravado')\n",
    "else:\n",
    "    print('Conteúdo Gravado com sucesso!')\n",
    "    "
   ]
  },
  {
   "cell_type": "code",
   "execution_count": 27,
   "id": "72dd40af",
   "metadata": {},
   "outputs": [
    {
     "name": "stdout",
     "output_type": "stream",
     "text": [
      "Conteúdo gravado com sucesso\n",
      "Comandos no bloco finally são sempre executados!\n"
     ]
    }
   ],
   "source": [
    "# Utilizando try, except e else e finally\n",
    "try:\n",
    "    f = open('arquivos/testandoerros.txt', 'w')\n",
    "    f.write('Gravando no arquivo')\n",
    "except IOError:\n",
    "    print('Erro: Arquivo não encontrado ou não pode ser salvo.')\n",
    "else:\n",
    "    print('Conteúdo gravado com sucesso')\n",
    "    f.close()\n",
    "finally:\n",
    "    print('Comandos no bloco finally são sempre executados!')"
   ]
  },
  {
   "cell_type": "markdown",
   "id": "f70c473e",
   "metadata": {},
   "source": [
    "## Cada possibilidade de erro deve ser tratada no seu programa"
   ]
  },
  {
   "cell_type": "code",
   "execution_count": 29,
   "id": "b3e3bff4",
   "metadata": {},
   "outputs": [],
   "source": [
    "def askint():\n",
    "    try:\n",
    "        val = int(input('Digite um número: '))\n",
    "    except:\n",
    "        print('Você não digitou um número')\n",
    "    finally:\n",
    "        print('Obrigado')"
   ]
  },
  {
   "cell_type": "code",
   "execution_count": 31,
   "id": "511f3cbb",
   "metadata": {},
   "outputs": [
    {
     "name": "stdout",
     "output_type": "stream",
     "text": [
      "Digite um número: 2\n",
      "Obrigado\n"
     ]
    }
   ],
   "source": [
    "askint()"
   ]
  },
  {
   "cell_type": "code",
   "execution_count": 32,
   "id": "1213b663",
   "metadata": {},
   "outputs": [],
   "source": [
    "def askint():\n",
    "    try:\n",
    "        val = int(input('Digite um número: '))\n",
    "    except:\n",
    "        print('Você não digitou um número')\n",
    "        val = int(input('Digite um número: '))\n",
    "    finally:\n",
    "        print('Obrigado')\n",
    "    print(val)"
   ]
  },
  {
   "cell_type": "code",
   "execution_count": null,
   "id": "5f4cf238",
   "metadata": {},
   "outputs": [],
   "source": []
  },
  {
   "cell_type": "code",
   "execution_count": null,
   "id": "3559cc5e",
   "metadata": {},
   "outputs": [],
   "source": []
  },
  {
   "cell_type": "code",
   "execution_count": null,
   "id": "92096024",
   "metadata": {},
   "outputs": [],
   "source": []
  }
 ],
 "metadata": {
  "kernelspec": {
   "display_name": "Python 3 (ipykernel)",
   "language": "python",
   "name": "python3"
  },
  "language_info": {
   "codemirror_mode": {
    "name": "ipython",
    "version": 3
   },
   "file_extension": ".py",
   "mimetype": "text/x-python",
   "name": "python",
   "nbconvert_exporter": "python",
   "pygments_lexer": "ipython3",
   "version": "3.9.13"
  }
 },
 "nbformat": 4,
 "nbformat_minor": 5
}
