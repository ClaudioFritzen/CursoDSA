{
 "cells": [
  {
   "cell_type": "markdown",
   "id": "92b9ba3c",
   "metadata": {},
   "source": [
    "##  Data Science Academy\n",
    "\n",
    "### Fundamentos de Linguagem Python Para Análise de Dados e Data Science\n",
    "\n",
    "### Capitulo 6 - Manipulação de Arquivos - Parte 2"
   ]
  },
  {
   "cell_type": "code",
   "execution_count": 1,
   "id": "46c83f60",
   "metadata": {},
   "outputs": [
    {
     "name": "stdout",
     "output_type": "stream",
     "text": [
      "Sua versão do python  3.9.13\n"
     ]
    }
   ],
   "source": [
    "from platform import python_version\n",
    "\n",
    "print('Sua versão do python ', python_version())"
   ]
  },
  {
   "cell_type": "markdown",
   "id": "fc09484e",
   "metadata": {},
   "source": [
    "## Manipulando TXT\n",
    "\n",
    "TXT é a extensão de arquivos para arquivos de texto puro. Um arquivo TXT é um arquivo de texto simples sem formatação, como negrito, italico ou fontes diferentes. Ele pode ser aberto e editado com muitos aplicativos diferentes, incluindo editores de texto, processadores de textos e IDEs. Arquivos TXT são amplamente utilizados para armazenar dados de texto simples, como listas, notas e documentos de texto. Eles são universais e podem ser lidos em praticamente qualquer dispositivo ou sistema operacional\n"
   ]
  },
  {
   "cell_type": "code",
   "execution_count": 2,
   "id": "72c89a11",
   "metadata": {},
   "outputs": [],
   "source": [
    "texto = 'Cientista de Dados pode ser uma excelente alternativa de carreira.\\n'\n",
    "texto = texto + 'Esses proficionais precisam saber como programar em Python. \\n'\n",
    "texto += 'E, claro, devem ser proficientes em Data Science.'"
   ]
  },
  {
   "cell_type": "code",
   "execution_count": 3,
   "id": "b52b6cfe",
   "metadata": {},
   "outputs": [
    {
     "name": "stdout",
     "output_type": "stream",
     "text": [
      "Cientista de Dados pode ser uma excelente alternativa de carreira.\n",
      "Esses proficionais precisam saber como programar em Python. \n",
      "E, claro, devem ser proficientes em Data Science.\n"
     ]
    }
   ],
   "source": [
    "print(texto)"
   ]
  },
  {
   "cell_type": "code",
   "execution_count": 4,
   "id": "1ebac580",
   "metadata": {},
   "outputs": [],
   "source": [
    "## Importando o módulo os\n",
    "import os"
   ]
  },
  {
   "cell_type": "code",
   "execution_count": 5,
   "id": "7ff4fbe8",
   "metadata": {},
   "outputs": [],
   "source": [
    "# Criando um arquivo\n",
    "arquivo = open(os.path.join('arquivos/cientista.txt'), 'w')"
   ]
  },
  {
   "cell_type": "code",
   "execution_count": 6,
   "id": "05f74710",
   "metadata": {},
   "outputs": [],
   "source": [
    "# Gravando os dados no arquivo\n",
    "for palavra in texto.split():\n",
    "    arquivo.write(palavra + ' ')"
   ]
  },
  {
   "cell_type": "code",
   "execution_count": 7,
   "id": "a2519b64",
   "metadata": {},
   "outputs": [],
   "source": [
    "# Fechando o arquivo\n",
    "arquivo.close()"
   ]
  },
  {
   "cell_type": "code",
   "execution_count": 8,
   "id": "f733f49c",
   "metadata": {},
   "outputs": [
    {
     "name": "stdout",
     "output_type": "stream",
     "text": [
      "Cientista de Dados pode ser uma excelente alternativa de carreira. Esses proficionais precisam saber como programar em Python. E, claro, devem ser proficientes em Data Science. \n"
     ]
    }
   ],
   "source": [
    "# Lendo o arquivo \n",
    "arquivo = open('arquivos/cientista.txt', 'r')\n",
    "conteudo = arquivo.read()\n",
    "arquivo.close()\n",
    "print(conteudo)"
   ]
  },
  {
   "cell_type": "markdown",
   "id": "ae467781",
   "metadata": {},
   "source": [
    "## Usando a Expressão `with`\n",
    "\n",
    "O método close() é executado automaticamente\n"
   ]
  },
  {
   "cell_type": "code",
   "execution_count": 9,
   "id": "da97ea41",
   "metadata": {},
   "outputs": [],
   "source": [
    "with open ('arquivos/cientista.txt', 'r') as arquivo:\n",
    "    \n",
    "    conteudo = arquivo.read()"
   ]
  },
  {
   "cell_type": "code",
   "execution_count": 10,
   "id": "0676cb91",
   "metadata": {},
   "outputs": [
    {
     "name": "stdout",
     "output_type": "stream",
     "text": [
      "177\n"
     ]
    }
   ],
   "source": [
    "print(len(conteudo))"
   ]
  },
  {
   "cell_type": "code",
   "execution_count": 11,
   "id": "e4b6bf8b",
   "metadata": {},
   "outputs": [],
   "source": [
    "with open('arquivos/cientista.txt', 'w') as arquivo:\n",
    "    arquivo.write(texto[:19])\n",
    "    arquivo.write('\\n')\n",
    "    arquivo.write(texto[28:66])"
   ]
  },
  {
   "cell_type": "code",
   "execution_count": 12,
   "id": "8c5f0354",
   "metadata": {},
   "outputs": [
    {
     "name": "stdout",
     "output_type": "stream",
     "text": [
      "Cientista de Dados \n",
      "uma excelente alternativa de carreira.\n"
     ]
    }
   ],
   "source": [
    "## Lendo arquivo\n",
    "arquivo = open('arquivos/cientista.txt', 'r')\n",
    "conteudo = arquivo.read()\n",
    "arquivo.close()\n",
    "print(conteudo)"
   ]
  },
  {
   "cell_type": "markdown",
   "id": "2a5fafd9",
   "metadata": {},
   "source": [
    "## Manipulando Arquivos CSV\n",
    "\n",
    "CSV(Comma-Separated-Values) é um formato que armazena dados tabulares em formato de texto plano. Cada linha do CSV representa uma linha da tabela e as colunas são separadas por vírgulas. É amplamente utilizado para exportar e importar dados em diferentes aplicações como planilhas e banco de dados. CSV é uma opção simples e universal para compartilhar dados, pois pode ser aberto e editado com muitos aplicativos diferentes, incluindo programas de planilhas e editores de textos."
   ]
  },
  {
   "cell_type": "code",
   "execution_count": 13,
   "id": "9b9722b4",
   "metadata": {},
   "outputs": [],
   "source": [
    "# Importando o módulo CSV\n",
    "import csv"
   ]
  },
  {
   "cell_type": "code",
   "execution_count": 14,
   "id": "db7ffd36",
   "metadata": {},
   "outputs": [],
   "source": [
    "with open('arquivos/numeros.csv', 'w') as arquivo:\n",
    "    \n",
    "    # cria objeto de gravação\n",
    "    writer = csv.writer(arquivo)\n",
    "    \n",
    "    # Grava no arquivo linha a linha\n",
    "    writer.writerow(('nota1', 'nota2', 'nota3'))\n",
    "    writer.writerow((63, 87, 92))\n",
    "    writer.writerow((61, 79, 76))\n",
    "    writer.writerow((72, 64, 91))\n",
    "    writer.writerow(('Agua', 'Arroz','Ameixa'))"
   ]
  },
  {
   "cell_type": "code",
   "execution_count": 15,
   "id": "6e8d7635",
   "metadata": {},
   "outputs": [
    {
     "name": "stdout",
     "output_type": "stream",
     "text": [
      "['nota1', 'nota2', 'nota3']\n",
      "['63', '87', '92']\n",
      "['61', '79', '76']\n",
      "['72', '64', '91']\n",
      "['Agua', 'Arroz', 'Ameixa']\n"
     ]
    }
   ],
   "source": [
    "# leitura de arquivos csv\n",
    "with open('arquivos/numeros.csv', 'r', encoding='utf-8', newline = '\\r\\n') as arquivo:\n",
    "    \n",
    "    # Cria o objeto de leitura\n",
    "    leitor = csv.reader(arquivo)\n",
    "    \n",
    "    # loop\n",
    "    for x in leitor:\n",
    "        print(x)"
   ]
  },
  {
   "cell_type": "code",
   "execution_count": 17,
   "id": "23974aef",
   "metadata": {},
   "outputs": [],
   "source": [
    "# gerando uma lista com dados do arquivo csv\n",
    "with open('arquivos/numeros.csv', 'r') as arquivos:\n",
    "    leitor = csv.reader(arquivos)\n",
    "    dados = list(leitor)\n",
    "    "
   ]
  },
  {
   "cell_type": "code",
   "execution_count": 18,
   "id": "db4bd349",
   "metadata": {},
   "outputs": [
    {
     "name": "stdout",
     "output_type": "stream",
     "text": [
      "[['nota1', 'nota2', 'nota3'], [], ['63', '87', '92'], [], ['61', '79', '76'], [], ['72', '64', '91'], [], ['Agua', 'Arroz', 'Ameixa'], []]\n"
     ]
    }
   ],
   "source": [
    "print(dados)"
   ]
  },
  {
   "cell_type": "code",
   "execution_count": 19,
   "id": "cd882f4e",
   "metadata": {},
   "outputs": [
    {
     "name": "stdout",
     "output_type": "stream",
     "text": [
      "[]\n",
      "['63', '87', '92']\n",
      "[]\n",
      "['61', '79', '76']\n",
      "[]\n",
      "['72', '64', '91']\n",
      "[]\n",
      "['Agua', 'Arroz', 'Ameixa']\n",
      "[]\n"
     ]
    }
   ],
   "source": [
    "# imprimindo a partir da segunda linha\n",
    "for linha in dados[1:]:\n",
    "    print(linha)"
   ]
  },
  {
   "cell_type": "markdown",
   "id": "a48ddbfb",
   "metadata": {},
   "source": [
    "## Manipulando Arquivos JSON ( Java Script Object Notation )\n",
    "Json (Java Script Object Notation) é um formato de dados de texto simples e leve que é utilizado para transmitir informações em aplicações web. É baseado em uma estrutura de objetos JavaScript e usa pares de chave-valor para representar dados. JSON é facilmente lido e escrito por máquina e é amplamente utilizado como formato de intercânbio de dados em aplicações web modernas."
   ]
  },
  {
   "cell_type": "code",
   "execution_count": 20,
   "id": "095ccd2b",
   "metadata": {},
   "outputs": [],
   "source": [
    "## Criando um dicionario\n",
    "\n",
    "dict_guido = {\n",
    "    'nome': 'Guido van Rossum',\n",
    "    'linguagem': 'Python',\n",
    "    'similar' : ['c', 'Module-3', 'lisp'],\n",
    "    'users': 100000\n",
    "}"
   ]
  },
  {
   "cell_type": "code",
   "execution_count": 21,
   "id": "cb4e3912",
   "metadata": {},
   "outputs": [
    {
     "name": "stdout",
     "output_type": "stream",
     "text": [
      "nome Guido van Rossum\n",
      "linguagem Python\n",
      "similar ['c', 'Module-3', 'lisp']\n",
      "users 100000\n"
     ]
    }
   ],
   "source": [
    "for k,v in dict_guido.items():\n",
    "    print(k,v)"
   ]
  },
  {
   "cell_type": "code",
   "execution_count": 22,
   "id": "8e576385",
   "metadata": {},
   "outputs": [],
   "source": [
    "# importando módulo JSON\n",
    "import json"
   ]
  },
  {
   "cell_type": "code",
   "execution_count": 23,
   "id": "f34e057d",
   "metadata": {},
   "outputs": [
    {
     "data": {
      "text/plain": [
       "'{\"nome\": \"Guido van Rossum\", \"linguagem\": \"Python\", \"similar\": [\"c\", \"Module-3\", \"lisp\"], \"users\": 100000}'"
      ]
     },
     "execution_count": 23,
     "metadata": {},
     "output_type": "execute_result"
    }
   ],
   "source": [
    "# Convertendo o dicionario para um objeto json\n",
    "json.dumps(dict_guido)"
   ]
  },
  {
   "cell_type": "code",
   "execution_count": 25,
   "id": "2bdeaaa3",
   "metadata": {},
   "outputs": [],
   "source": [
    "# Criando um arquivo Json\n",
    "with open('arquivos/dados.json', 'w') as arquivo:\n",
    "    arquivo.write(json.dumps(dict_guido))"
   ]
  },
  {
   "cell_type": "code",
   "execution_count": 27,
   "id": "c7c918e6",
   "metadata": {},
   "outputs": [],
   "source": [
    "# Leitura de um arquivo json\n",
    "with open('arquivos/dados.json', 'r') as arquivo:\n",
    "    texto = arquivo.read()\n",
    "    dados = json.loads(texto)"
   ]
  },
  {
   "cell_type": "code",
   "execution_count": 29,
   "id": "e07ae79c",
   "metadata": {},
   "outputs": [
    {
     "data": {
      "text/plain": [
       "{'nome': 'Guido van Rossum',\n",
       " 'linguagem': 'Python',\n",
       " 'similar': ['c', 'Module-3', 'lisp'],\n",
       " 'users': 100000}"
      ]
     },
     "execution_count": 29,
     "metadata": {},
     "output_type": "execute_result"
    }
   ],
   "source": [
    "dados"
   ]
  },
  {
   "cell_type": "code",
   "execution_count": 32,
   "id": "5c6b321c",
   "metadata": {},
   "outputs": [
    {
     "name": "stdout",
     "output_type": "stream",
     "text": [
      "Python\n"
     ]
    }
   ],
   "source": [
    "print(dados['linguagem'])"
   ]
  },
  {
   "cell_type": "markdown",
   "id": "097742e6",
   "metadata": {},
   "source": [
    "## Extração de Arquivo da Web"
   ]
  },
  {
   "cell_type": "code",
   "execution_count": null,
   "id": "e536b522",
   "metadata": {},
   "outputs": [],
   "source": [
    "# Imprimindo um arquivo JSON copiado da internet"
   ]
  },
  {
   "cell_type": "code",
   "execution_count": null,
   "id": "629d52c3",
   "metadata": {},
   "outputs": [],
   "source": []
  }
 ],
 "metadata": {
  "kernelspec": {
   "display_name": "Python 3 (ipykernel)",
   "language": "python",
   "name": "python3"
  },
  "language_info": {
   "codemirror_mode": {
    "name": "ipython",
    "version": 3
   },
   "file_extension": ".py",
   "mimetype": "text/x-python",
   "name": "python",
   "nbconvert_exporter": "python",
   "pygments_lexer": "ipython3",
   "version": "3.9.13"
  }
 },
 "nbformat": 4,
 "nbformat_minor": 5
}
