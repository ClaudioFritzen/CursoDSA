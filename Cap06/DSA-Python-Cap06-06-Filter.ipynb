{
 "cells": [
  {
   "cell_type": "markdown",
   "id": "d9b31f16",
   "metadata": {},
   "source": [
    "## Data Science Academy\n",
    "\n",
    "### Fundamentos de Linguagem Python Para Análise de Dados e Data Science\n",
    "\n",
    "### Capitulo 6 - Função filter()"
   ]
  },
  {
   "cell_type": "code",
   "execution_count": 1,
   "id": "fba7af07",
   "metadata": {},
   "outputs": [
    {
     "name": "stdout",
     "output_type": "stream",
     "text": [
      "sua versão do Python é 3.9.13\n"
     ]
    }
   ],
   "source": [
    "# versão python\n",
    "from platform import python_version\n",
    "print('sua versão do Python é', python_version())"
   ]
  },
  {
   "cell_type": "markdown",
   "id": "1a1b19b7",
   "metadata": {},
   "source": [
    "## Função Filter\n",
    "A função filter() em Python é uma função que filtra elementos de uma estrutura de dados iterável (como uma lista,tupla ou outro objeto iterável) com base em uma determinada condição. A função filter() retorna um objeto filtro, que pode ser convertido em outra estrutura de dados, como uma lista, se necessário."
   ]
  },
  {
   "cell_type": "code",
   "execution_count": 7,
   "id": "d54924f4",
   "metadata": {},
   "outputs": [],
   "source": [
    "# Criando uma função\n",
    "\n",
    "def verificaPar(num):\n",
    "    if num % 2 == 0:\n",
    "        return True\n",
    "    else:\n",
    "        return False\n",
    "        \n"
   ]
  },
  {
   "cell_type": "code",
   "execution_count": 9,
   "id": "03432ef4",
   "metadata": {},
   "outputs": [
    {
     "data": {
      "text/plain": [
       "False"
      ]
     },
     "execution_count": 9,
     "metadata": {},
     "output_type": "execute_result"
    }
   ],
   "source": [
    "# Chamando a função e passando o um número como parametro. Retornará\n",
    "# False se for impar e True se for par\n",
    "verificaPar(31)"
   ]
  },
  {
   "cell_type": "code",
   "execution_count": 10,
   "id": "7546c9c1",
   "metadata": {},
   "outputs": [
    {
     "data": {
      "text/plain": [
       "True"
      ]
     },
     "execution_count": 10,
     "metadata": {},
     "output_type": "execute_result"
    }
   ],
   "source": [
    "verificaPar(10)"
   ]
  },
  {
   "cell_type": "code",
   "execution_count": 11,
   "id": "a20bb0ea",
   "metadata": {},
   "outputs": [],
   "source": [
    "lista = [0, 1, 2, 3, 4, 5, 6, 7, 8, 9, 10, 11, 12, 13, 14, 15, 16, 17, 18]"
   ]
  },
  {
   "cell_type": "code",
   "execution_count": 12,
   "id": "a13a6c3f",
   "metadata": {},
   "outputs": [
    {
     "data": {
      "text/plain": [
       "[0, 1, 2, 3, 4, 5, 6, 7, 8, 9, 10, 11, 12, 13, 14, 15, 16, 17, 18]"
      ]
     },
     "execution_count": 12,
     "metadata": {},
     "output_type": "execute_result"
    }
   ],
   "source": [
    "lista"
   ]
  },
  {
   "cell_type": "code",
   "execution_count": 13,
   "id": "cb7149a1",
   "metadata": {},
   "outputs": [
    {
     "data": {
      "text/plain": [
       "<filter at 0x1e94bc0bdc0>"
      ]
     },
     "execution_count": 13,
     "metadata": {},
     "output_type": "execute_result"
    }
   ],
   "source": [
    "# A função filter() retorna um iterator\n",
    "filter(verificaPar, lista)"
   ]
  },
  {
   "cell_type": "code",
   "execution_count": 14,
   "id": "73e314ea",
   "metadata": {},
   "outputs": [
    {
     "data": {
      "text/plain": [
       "[0, 2, 4, 6, 8, 10, 12, 14, 16, 18]"
      ]
     },
     "execution_count": 14,
     "metadata": {},
     "output_type": "execute_result"
    }
   ],
   "source": [
    "## transformando numa lista\n",
    "list(filter(verificaPar, lista))"
   ]
  },
  {
   "cell_type": "code",
   "execution_count": 15,
   "id": "3b145950",
   "metadata": {},
   "outputs": [
    {
     "data": {
      "text/plain": [
       "[0, 2, 4, 6, 8, 10, 12, 14, 16, 18]"
      ]
     },
     "execution_count": 15,
     "metadata": {},
     "output_type": "execute_result"
    }
   ],
   "source": [
    "# função reduzida\n",
    "list(filter(lambda x: x%2==0, lista))"
   ]
  },
  {
   "cell_type": "code",
   "execution_count": 16,
   "id": "ffccd6c1",
   "metadata": {},
   "outputs": [
    {
     "data": {
      "text/plain": [
       "[9, 10, 11, 12, 13, 14, 15, 16, 17, 18]"
      ]
     },
     "execution_count": 16,
     "metadata": {},
     "output_type": "execute_result"
    }
   ],
   "source": [
    "# imprimindo os valores \n",
    "list(filter(lambda num: num > 8, lista))"
   ]
  }
 ],
 "metadata": {
  "kernelspec": {
   "display_name": "Python 3 (ipykernel)",
   "language": "python",
   "name": "python3"
  },
  "language_info": {
   "codemirror_mode": {
    "name": "ipython",
    "version": 3
   },
   "file_extension": ".py",
   "mimetype": "text/x-python",
   "name": "python",
   "nbconvert_exporter": "python",
   "pygments_lexer": "ipython3",
   "version": "3.9.13"
  }
 },
 "nbformat": 4,
 "nbformat_minor": 5
}
