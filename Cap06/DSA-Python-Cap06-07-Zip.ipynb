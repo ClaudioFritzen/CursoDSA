{
 "cells": [
  {
   "cell_type": "markdown",
   "id": "a4be3844",
   "metadata": {},
   "source": [
    "## Data Science Academy\n",
    "\n",
    "### Fundamentos de Linguagem Python Para Análise de Dados e Data Science\n",
    "\n",
    "### Capitulo 6 - Função zip()"
   ]
  },
  {
   "cell_type": "code",
   "execution_count": 4,
   "id": "1fae10d0",
   "metadata": {},
   "outputs": [
    {
     "name": "stdout",
     "output_type": "stream",
     "text": [
      "sua versão do Python é 3.9.13\n"
     ]
    }
   ],
   "source": [
    "# versão python\n",
    "from platform import python_version\n",
    "print('sua versão do Python é', python_version())"
   ]
  },
  {
   "cell_type": "markdown",
   "id": "ef165ab1",
   "metadata": {},
   "source": [
    "## Função Zip\n",
    "\n",
    "A função zip() em Python é uma função que agrupa elementos de múltiplas estruturas de dados iteráveis (como lista, tuplas ou outros objetos iteráveis) juntos em pares. A função zip() retorna um objeto zip, que pode ser convertido em outra estrutura de dados, como uma lista ou dicionário, se necessário."
   ]
  },
  {
   "cell_type": "code",
   "execution_count": 7,
   "id": "117d8d2d",
   "metadata": {},
   "outputs": [],
   "source": [
    "## Criando duas listas\n",
    "\n",
    "x = [1,2,3]\n",
    "y = [4,5,6]\n"
   ]
  },
  {
   "cell_type": "code",
   "execution_count": 8,
   "id": "d42a2854",
   "metadata": {},
   "outputs": [
    {
     "data": {
      "text/plain": [
       "<zip at 0x195616484c0>"
      ]
     },
     "execution_count": 8,
     "metadata": {},
     "output_type": "execute_result"
    }
   ],
   "source": [
    "# unindo as duas listas. Em Python3 retorna um iterator\n",
    "zip(x,y)"
   ]
  },
  {
   "cell_type": "code",
   "execution_count": 10,
   "id": "b278028b",
   "metadata": {},
   "outputs": [
    {
     "data": {
      "text/plain": [
       "[(1, 4), (2, 5), (3, 6)]"
      ]
     },
     "execution_count": 10,
     "metadata": {},
     "output_type": "execute_result"
    }
   ],
   "source": [
    "# transformando o iterator numa lista\n",
    "list(zip(x,y))"
   ]
  },
  {
   "cell_type": "code",
   "execution_count": 11,
   "id": "921a4ed0",
   "metadata": {},
   "outputs": [
    {
     "data": {
      "text/plain": [
       "[('A', 'x'), ('B', 'y')]"
      ]
     },
     "execution_count": 11,
     "metadata": {},
     "output_type": "execute_result"
    }
   ],
   "source": [
    "# Atenção quando as sequencias tiverem números diferentes de elementos\n",
    "list(zip('ABCD', 'xy'))"
   ]
  },
  {
   "cell_type": "code",
   "execution_count": 12,
   "id": "5239be2e",
   "metadata": {},
   "outputs": [],
   "source": [
    "# Cfriando duas listas\n",
    "a = [1,2,3]\n",
    "b = [4,5,6,7,8]"
   ]
  },
  {
   "cell_type": "code",
   "execution_count": 13,
   "id": "226ecbe8",
   "metadata": {},
   "outputs": [
    {
     "data": {
      "text/plain": [
       "[(1, 4), (2, 5), (3, 6)]"
      ]
     },
     "execution_count": 13,
     "metadata": {},
     "output_type": "execute_result"
    }
   ],
   "source": [
    "list(zip(a,b))"
   ]
  },
  {
   "cell_type": "code",
   "execution_count": 14,
   "id": "b5829c78",
   "metadata": {},
   "outputs": [],
   "source": [
    "# Criando dois dicionarios\n",
    "d1 = {'a': 1, 'b':2}\n",
    "d2 = {'c': 4, 'd':5}"
   ]
  },
  {
   "cell_type": "code",
   "execution_count": 16,
   "id": "e2fdbe65",
   "metadata": {},
   "outputs": [
    {
     "data": {
      "text/plain": [
       "[('a', 'c'), ('b', 'd')]"
      ]
     },
     "execution_count": 16,
     "metadata": {},
     "output_type": "execute_result"
    }
   ],
   "source": [
    "# Zip vai unir as chaves\n",
    "list(zip(d1, d2))"
   ]
  },
  {
   "cell_type": "code",
   "execution_count": 17,
   "id": "834efd3d",
   "metadata": {},
   "outputs": [
    {
     "data": {
      "text/plain": [
       "[('a', 4), ('b', 5)]"
      ]
     },
     "execution_count": 17,
     "metadata": {},
     "output_type": "execute_result"
    }
   ],
   "source": [
    "list(zip(d1, d2.values()))"
   ]
  },
  {
   "cell_type": "code",
   "execution_count": 22,
   "id": "a26389f0",
   "metadata": {},
   "outputs": [],
   "source": [
    "# Criando uma função para trocar os valores entre 2 dicionarios\n",
    "\n",
    "def trocaValores(d1,d2):\n",
    "    dictTemp = {}\n",
    "    \n",
    "    for d1key, d2val in zip(d1,d2.values()):\n",
    "        dictTemp[d1key] = d2val\n",
    "        \n",
    "    return dictTemp"
   ]
  },
  {
   "cell_type": "code",
   "execution_count": 23,
   "id": "19044a4c",
   "metadata": {},
   "outputs": [
    {
     "data": {
      "text/plain": [
       "{'a': 4, 'b': 5}"
      ]
     },
     "execution_count": 23,
     "metadata": {},
     "output_type": "execute_result"
    }
   ],
   "source": [
    "trocaValores(d1,d2)"
   ]
  },
  {
   "cell_type": "markdown",
   "id": "5a7dda36",
   "metadata": {},
   "source": [
    "## FIM"
   ]
  }
 ],
 "metadata": {
  "kernelspec": {
   "display_name": "Python 3 (ipykernel)",
   "language": "python",
   "name": "python3"
  },
  "language_info": {
   "codemirror_mode": {
    "name": "ipython",
    "version": 3
   },
   "file_extension": ".py",
   "mimetype": "text/x-python",
   "name": "python",
   "nbconvert_exporter": "python",
   "pygments_lexer": "ipython3",
   "version": "3.9.13"
  }
 },
 "nbformat": 4,
 "nbformat_minor": 5
}
