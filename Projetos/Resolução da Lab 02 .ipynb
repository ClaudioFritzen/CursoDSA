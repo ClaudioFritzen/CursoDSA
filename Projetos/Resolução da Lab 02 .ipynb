{
 "cells": [
  {
   "cell_type": "code",
   "execution_count": 27,
   "id": "203f99f2",
   "metadata": {},
   "outputs": [
    {
     "name": "stdout",
     "output_type": "stream",
     "text": [
      " \n",
      " **************** Python Calculator ****************\n",
      "Selecione uma opção:\n",
      "1-Somar\n",
      "2-Subtrair\n",
      "3-Multiplicar\n",
      "4-Divivir\n",
      "Qual é a sua escolha: 5\n",
      "DIgite o primeiro numero: 1\n",
      "DIgite o primeiro numero: 2\n",
      "Opção Invalida!!\n"
     ]
    }
   ],
   "source": [
    "print(' \\n **************** Python Calculator ****************')\n",
    "\n",
    "def add (x,y):\n",
    "    return x+y\n",
    "\n",
    "def subtract (x, y):\n",
    "    return x - y\n",
    "\n",
    "def multiply (x,y):\n",
    "    return x * y\n",
    "\n",
    "def divide (x,y):\n",
    "    return x / y\n",
    "\n",
    "print(\"\"\"Selecione uma opção:\\n1-Somar\\n2-Subtrair\\n3-Multiplicar\\n4-Divivir\"\"\")\n",
    "\n",
    "escolha = input('Qual é a sua escolha: ')\n",
    "\n",
    "num1 = float(input('DIgite o primeiro numero: '))\n",
    "num2 = float(input('DIgite o primeiro numero: '))\n",
    "\n",
    "if escolha == 1 or escolha == '1':\n",
    "    print(num1, \"+\", num2, \"=\", add(num1,num2))\n",
    "    \n",
    "elif escolha == 2 or escolha == '2':\n",
    "    print(num1, \"-\", num2, \"=\", subtract(num1,num2))\n",
    "    \n",
    "elif escolha == '3':\n",
    "    print(num1, \"*\", num2, \"=\", multiply(num1,num2))\n",
    "\n",
    "elif escolha == '4':\n",
    "    print(num1, \"/\", num2, \"=\", divide(num1,num2))\n",
    "\n",
    "else:\n",
    "    print('Opção Invalida!!')"
   ]
  },
  {
   "cell_type": "code",
   "execution_count": 6,
   "id": "7df705eb",
   "metadata": {},
   "outputs": [
    {
     "data": {
      "text/plain": [
       "5.0"
      ]
     },
     "execution_count": 6,
     "metadata": {},
     "output_type": "execute_result"
    }
   ],
   "source": [
    "divide(10,2)"
   ]
  }
 ],
 "metadata": {
  "kernelspec": {
   "display_name": "Python 3 (ipykernel)",
   "language": "python",
   "name": "python3"
  },
  "language_info": {
   "codemirror_mode": {
    "name": "ipython",
    "version": 3
   },
   "file_extension": ".py",
   "mimetype": "text/x-python",
   "name": "python",
   "nbconvert_exporter": "python",
   "pygments_lexer": "ipython3",
   "version": "3.9.13"
  }
 },
 "nbformat": 4,
 "nbformat_minor": 5
}
