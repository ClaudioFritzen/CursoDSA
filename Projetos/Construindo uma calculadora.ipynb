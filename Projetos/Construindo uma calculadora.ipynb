{
 "cells": [
  {
   "cell_type": "markdown",
   "id": "4a21b262",
   "metadata": {},
   "source": [
    "Quero que o usuario digite seus dois numeros\n",
    "\n",
    "Apos quero que apareça as quartro opções matematicas para ele \n",
    "\n",
    "1 - somar\n",
    "2 - subtrair\n",
    "3 - multiplicar\n",
    "4 - dividir\n",
    "\n",
    "se o usuario digitar alguma outra opção aparece \"opção invalida\""
   ]
  },
  {
   "cell_type": "code",
   "execution_count": 6,
   "id": "08511520",
   "metadata": {},
   "outputs": [
    {
     "name": "stdout",
     "output_type": "stream",
     "text": [
      "Digite um número: 3\n"
     ]
    }
   ],
   "source": [
    "num1 = float(input('Digite um número: '))"
   ]
  },
  {
   "cell_type": "code",
   "execution_count": 13,
   "id": "8ebfb427",
   "metadata": {},
   "outputs": [
    {
     "name": "stdout",
     "output_type": "stream",
     "text": [
      "Digite o 2° número: 3\n"
     ]
    }
   ],
   "source": [
    "num2 = float(input('Digite o 2° número: '))"
   ]
  },
  {
   "cell_type": "code",
   "execution_count": 5,
   "id": "14a0e0a6",
   "metadata": {},
   "outputs": [
    {
     "name": "stdout",
     "output_type": "stream",
     "text": [
      " Suas opções são: \n",
      " 1 - Somar\n",
      " 2 - Subtrair \n",
      " 3 - Multiplicar\n",
      " 4 - Dividir \n"
     ]
    }
   ],
   "source": [
    "opcoes = print(\"\"\" Suas opções são: \\n 1 - Somar\\n 2 - Subtrair \\n 3 - Multiplicar\\n 4 - Dividir \"\"\")"
   ]
  },
  {
   "cell_type": "code",
   "execution_count": 30,
   "id": "f60017b1",
   "metadata": {},
   "outputs": [
    {
     "name": "stdout",
     "output_type": "stream",
     "text": [
      "Selecione sua oção: 5\n"
     ]
    }
   ],
   "source": [
    "sua_opcao = int(input('Selecione sua oção: '))"
   ]
  },
  {
   "cell_type": "code",
   "execution_count": 27,
   "id": "b5a471d1",
   "metadata": {},
   "outputs": [
    {
     "data": {
      "text/plain": [
       "4"
      ]
     },
     "execution_count": 27,
     "metadata": {},
     "output_type": "execute_result"
    }
   ],
   "source": [
    "sua_opcao"
   ]
  },
  {
   "cell_type": "code",
   "execution_count": 19,
   "id": "1f8a5ceb",
   "metadata": {},
   "outputs": [],
   "source": [
    "opcoes"
   ]
  },
  {
   "cell_type": "code",
   "execution_count": 31,
   "id": "67f68448",
   "metadata": {},
   "outputs": [
    {
     "name": "stdout",
     "output_type": "stream",
     "text": [
      "Opção Invalida!\n",
      "Fim do programa\n"
     ]
    }
   ],
   "source": [
    "if sua_opcao == 1:\n",
    "    somar = num1 + num2\n",
    "    print(f'A soma entre {num1} e {num2} é igual {somar}')\n",
    "\n",
    "elif sua_opcao == 2:\n",
    "    subtrair = num1 - num2\n",
    "    print(f' A subtração entre {num1} e {num2} é igual {subtrair}')\n",
    "\n",
    "elif sua_opcao == 3:\n",
    "    multiplicar = num1 * num2\n",
    "    print(f' A multiplicação entre {num1} e {num2} é igual {multiplicar}')\n",
    "\n",
    "elif sua_opcao == 4:\n",
    "    dividir = num1 / num2\n",
    "    print(f' A divisão entre {num1} e {num2} é igual {dividir}')\n",
    "\n",
    "else:\n",
    "    print('Opção Invalida!')\n",
    "print('Fim do programa')\n",
    "\n"
   ]
  },
  {
   "cell_type": "markdown",
   "id": "e33cf210",
   "metadata": {},
   "source": [
    "## Versão 1 finalizada!!!"
   ]
  },
  {
   "cell_type": "code",
   "execution_count": null,
   "id": "a63ae417",
   "metadata": {},
   "outputs": [],
   "source": []
  },
  {
   "cell_type": "code",
   "execution_count": null,
   "id": "bfe58aa3",
   "metadata": {},
   "outputs": [],
   "source": []
  }
 ],
 "metadata": {
  "kernelspec": {
   "display_name": "Python 3 (ipykernel)",
   "language": "python",
   "name": "python3"
  },
  "language_info": {
   "codemirror_mode": {
    "name": "ipython",
    "version": 3
   },
   "file_extension": ".py",
   "mimetype": "text/x-python",
   "name": "python",
   "nbconvert_exporter": "python",
   "pygments_lexer": "ipython3",
   "version": "3.9.13"
  }
 },
 "nbformat": 4,
 "nbformat_minor": 5
}
